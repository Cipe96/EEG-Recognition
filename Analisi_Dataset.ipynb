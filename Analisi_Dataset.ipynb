{
  "nbformat": 4,
  "nbformat_minor": 0,
  "metadata": {
    "colab": {
      "provenance": [],
      "include_colab_link": true
    },
    "kernelspec": {
      "name": "python3",
      "display_name": "Python 3"
    },
    "language_info": {
      "name": "python"
    }
  },
  "cells": [
    {
      "cell_type": "markdown",
      "metadata": {
        "id": "view-in-github",
        "colab_type": "text"
      },
      "source": [
        "<a href=\"https://colab.research.google.com/github/Cipe96/EEG-Recognition/blob/main/Analisi_Dataset.ipynb\" target=\"_parent\"><img src=\"https://colab.research.google.com/assets/colab-badge.svg\" alt=\"Open In Colab\"/></a>"
      ]
    },
    {
      "cell_type": "markdown",
      "source": [
        "<font size=6>**EEg Recognition: Analisi Dataset**</font>\n",
        "</br><font size=3>*Marco Cipollina, Riccardo Era*</font>\n"
      ],
      "metadata": {
        "id": "2e-lgBGFxbDu"
      }
    },
    {
      "cell_type": "markdown",
      "source": [
        "<font size=4>**Indice:**</font>\n",
        "*   [Import librerie](#1)\n",
        "*   [Downloads](#2)\n",
        "*   [Analisi Dataset](#3)"
      ],
      "metadata": {
        "id": "0M8yjfwYmIr-"
      }
    },
    {
      "cell_type": "markdown",
      "source": [
        "<a name=\"1\"></a>\n",
        "# **Import librerie**"
      ],
      "metadata": {
        "id": "VUVmRb8LmP8C"
      }
    },
    {
      "cell_type": "markdown",
      "source": [
        "Importiamo le librerie e montiamo Google Drive per garantire l'accesso agli altri file."
      ],
      "metadata": {
        "id": "9c3Ma2Rlmiac"
      }
    },
    {
      "cell_type": "code",
      "source": [
        "import matplotlib.pyplot as plt\n",
        "from google.colab import drive\n",
        "import pandas as pd\n",
        "import numpy as np\n",
        "import json\n",
        "import sys\n",
        "import os"
      ],
      "metadata": {
        "id": "MJBltQXPmXAD"
      },
      "execution_count": 26,
      "outputs": []
    },
    {
      "cell_type": "code",
      "source": [
        "drive.mount('/content/drive', force_remount=True)"
      ],
      "metadata": {
        "colab": {
          "base_uri": "https://localhost:8080/"
        },
        "id": "ALBNMDMymhK7",
        "outputId": "83f6b2c4-9de0-451d-f227-6e01613307b5"
      },
      "execution_count": 27,
      "outputs": [
        {
          "output_type": "stream",
          "name": "stdout",
          "text": [
            "Mounted at /content/drive\n"
          ]
        }
      ]
    },
    {
      "cell_type": "code",
      "source": [
        "#@title Percorso della cartella del progetto su Google Drive:\n",
        "\n",
        "#@markdown Se la cartella del progetto si trova nella root di Drive, scrivere solo il suo nome:\n",
        "PERCORSO_DRIVE = \"EEG Recognition (1)\" #@param {type:\"string\"}\n",
        "\n",
        "PERCORSO_DRIVE = '/content/drive/MyDrive/' + PERCORSO_DRIVE"
      ],
      "metadata": {
        "id": "Lez481oNm5Lm"
      },
      "execution_count": 28,
      "outputs": []
    },
    {
      "cell_type": "code",
      "source": [
        "print(PERCORSO_DRIVE)"
      ],
      "metadata": {
        "colab": {
          "base_uri": "https://localhost:8080/"
        },
        "id": "so5JcwIlwOFt",
        "outputId": "96b4ffbd-be05-42f6-8944-cbcf38d06d26"
      },
      "execution_count": 29,
      "outputs": [
        {
          "output_type": "stream",
          "name": "stdout",
          "text": [
            "/content/drive/MyDrive/EEG Recognition (1)\n"
          ]
        }
      ]
    },
    {
      "cell_type": "code",
      "source": [
        "sys.path.append(PERCORSO_DRIVE)                       # ci permetterà di importare le funzioni presenti in altri file\n",
        "from shared_utilities import download_dataset"
      ],
      "metadata": {
        "id": "H5d-7KgaqsqQ"
      },
      "execution_count": 30,
      "outputs": []
    },
    {
      "cell_type": "markdown",
      "source": [
        "Scarichiamo dal file \"EEG Motor Movement-Imagery ID.json\" l'ID necessario per il download del dataset."
      ],
      "metadata": {
        "id": "BCt6vJjMq99U"
      }
    },
    {
      "cell_type": "code",
      "source": [
        "with open(PERCORSO_DRIVE + '/EEG_Motor_Movement-Imagery_ID.json', 'r') as file:\n",
        "  config = json.load(file)\n",
        "\n",
        "DATASET_ID = config['DATASET_ID']"
      ],
      "metadata": {
        "id": "RQOIZLr-sI76"
      },
      "execution_count": 31,
      "outputs": []
    },
    {
      "cell_type": "markdown",
      "source": [
        "<a name=\"2\"></a>\n",
        "# **Download**"
      ],
      "metadata": {
        "id": "LyPbHzAnsaYg"
      }
    },
    {
      "cell_type": "code",
      "source": [
        "#@title Impostazioni download\n",
        "\n",
        "#@markdown Nome del zip dataset post download:\n",
        "DATASET_NAME = 'EEG_Motor_Movement-Imagery.zip' #@param {type:\"string\"}\n",
        "\n",
        "download_dataset(DATASET_ID, DATASET_NAME, msg=True)"
      ],
      "metadata": {
        "id": "RU9KJSFBscEf",
        "colab": {
          "base_uri": "https://localhost:8080/"
        },
        "outputId": "1cc92845-1f6d-45bd-fae8-2c2c3539d2b2"
      },
      "execution_count": 32,
      "outputs": [
        {
          "output_type": "stream",
          "name": "stderr",
          "text": [
            "Downloading...\n",
            "From (original): https://drive.google.com/uc?id=1WwuAh25Jfx-I8rY3vFGyXiI79YfLYUpH\n",
            "From (redirected): https://drive.google.com/uc?id=1WwuAh25Jfx-I8rY3vFGyXiI79YfLYUpH&confirm=t&uuid=135104ab-5ac8-459a-a7e5-840ac55052ba\n",
            "To: /content/EEG_Motor_Movement-Imagery.zip\n",
            "100%|██████████| 76.6M/76.6M [00:02<00:00, 34.0MB/s]"
          ]
        },
        {
          "output_type": "stream",
          "name": "stdout",
          "text": [
            "\n",
            "File scaricato e salvato come EEG_Motor_Movement-Imagery.zip!\n",
            "\n"
          ]
        },
        {
          "output_type": "stream",
          "name": "stderr",
          "text": [
            "\n"
          ]
        }
      ]
    },
    {
      "cell_type": "markdown",
      "source": [
        "Dopo aver scaricato il dataset lo unzippiamo ed eliminiamo i file txt e la cartella sample_data creata automaticamente da Colab."
      ],
      "metadata": {
        "id": "hokXkJe7s-RW"
      }
    },
    {
      "cell_type": "code",
      "source": [
        "%%capture\n",
        "# evita il fastidioso output a video\n",
        "\n",
        "! unzip \"{DATASET_NAME}\"              # unzippa il file zip\n",
        "! rm /content/AMSL/*.txt              # elimina i file txt\n",
        "! rm -r /content/sample_data          # elimina la cartella di default di Colab"
      ],
      "metadata": {
        "id": "0_MrmgwXs_Eg"
      },
      "execution_count": 33,
      "outputs": []
    },
    {
      "cell_type": "markdown",
      "source": [
        "<a name=\"3\"></a>\n",
        "# **Analisi Dataset**"
      ],
      "metadata": {
        "id": "zw_prnOR1ofi"
      }
    }
  ]
}