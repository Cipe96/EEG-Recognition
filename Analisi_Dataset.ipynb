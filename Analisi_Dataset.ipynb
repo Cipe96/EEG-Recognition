{
  "nbformat": 4,
  "nbformat_minor": 0,
  "metadata": {
    "colab": {
      "provenance": [],
      "gpuType": "T4",
      "include_colab_link": true
    },
    "kernelspec": {
      "name": "python3",
      "display_name": "Python 3"
    },
    "language_info": {
      "name": "python"
    },
    "accelerator": "GPU"
  },
  "cells": [
    {
      "cell_type": "markdown",
      "metadata": {
        "id": "view-in-github",
        "colab_type": "text"
      },
      "source": [
        "<a href=\"https://colab.research.google.com/github/Cipe96/EEG-Recognition/blob/main/Analisi_Dataset.ipynb\" target=\"_parent\"><img src=\"https://colab.research.google.com/assets/colab-badge.svg\" alt=\"Open In Colab\"/></a>"
      ]
    },
    {
      "cell_type": "markdown",
      "source": [
        "<font size=6>**EEg Recognition: Analisi Dataset**</font>\n",
        "</br><font size=3>*Marco Cipollina, Riccardo Era*</font>\n"
      ],
      "metadata": {
        "id": "2e-lgBGFxbDu"
      }
    },
    {
      "cell_type": "markdown",
      "source": [
        "<font size=4>**Indice:**</font>\n",
        "*   [Import librerie](#1)\n",
        "*   [Downloads](#2)\n",
        "*   [Analisi Dataset](#3)"
      ],
      "metadata": {
        "id": "0M8yjfwYmIr-"
      }
    },
    {
      "cell_type": "markdown",
      "source": [
        "<a name=\"1\"></a>\n",
        "# **Import librerie**"
      ],
      "metadata": {
        "id": "VUVmRb8LmP8C"
      }
    },
    {
      "cell_type": "markdown",
      "source": [
        "Iniziamo installando la libreria MNE, essenziale per l'analisi di dati EEG grazie alla sua gestione di file in formato EDF."
      ],
      "metadata": {
        "id": "vpVUDuFzViQc"
      }
    },
    {
      "cell_type": "code",
      "source": [
        "%%capture\n",
        "# evita l' output a video\n",
        "!pip install mne"
      ],
      "metadata": {
        "id": "gk46T_kQVNaj"
      },
      "execution_count": 1,
      "outputs": []
    },
    {
      "cell_type": "markdown",
      "source": [
        "Importiamo le librerie e montiamo Google Drive per garantire l'accesso agli altri file."
      ],
      "metadata": {
        "id": "9c3Ma2Rlmiac"
      }
    },
    {
      "cell_type": "code",
      "source": [
        "import matplotlib.pyplot as plt\n",
        "from collections import Counter\n",
        "from google.colab import drive\n",
        "import pandas as pd\n",
        "import numpy as np\n",
        "import json\n",
        "import sys\n",
        "import mne\n",
        "import os"
      ],
      "metadata": {
        "id": "MJBltQXPmXAD"
      },
      "execution_count": 2,
      "outputs": []
    },
    {
      "cell_type": "code",
      "source": [
        "drive.mount('/content/drive', force_remount=True)"
      ],
      "metadata": {
        "colab": {
          "base_uri": "https://localhost:8080/"
        },
        "id": "ALBNMDMymhK7",
        "outputId": "174a6e3d-9088-4719-b7c4-df491b1398c7"
      },
      "execution_count": 3,
      "outputs": [
        {
          "output_type": "stream",
          "name": "stdout",
          "text": [
            "Mounted at /content/drive\n"
          ]
        }
      ]
    },
    {
      "cell_type": "markdown",
      "source": [
        "<a name=\"2\"></a>\n",
        "# **Download**"
      ],
      "metadata": {
        "id": "LyPbHzAnsaYg"
      }
    },
    {
      "cell_type": "code",
      "source": [
        "#@title Percorso della cartella del progetto su Google Drive:\n",
        "\n",
        "#@markdown Se la cartella del progetto si trova nella root di Drive, scrivere solo il suo nome:\n",
        "PERCORSO_DRIVE = \"EEG Recognition\" #@param {type:\"string\"}\n",
        "\n",
        "PERCORSO_DRIVE = '/content/drive/MyDrive/' + PERCORSO_DRIVE"
      ],
      "metadata": {
        "id": "Lez481oNm5Lm",
        "cellView": "form"
      },
      "execution_count": 4,
      "outputs": []
    },
    {
      "cell_type": "code",
      "source": [
        "sys.path.append(PERCORSO_DRIVE)                       # ci permetterà di importare le funzioni presenti in altri file\n",
        "from shared_utilities import download_dataset"
      ],
      "metadata": {
        "id": "H5d-7KgaqsqQ"
      },
      "execution_count": 5,
      "outputs": []
    },
    {
      "cell_type": "markdown",
      "source": [
        "Scarichiamo dal file \"EEG_Motor_Movement-Imagery_R01_ID.json\" l'ID necessario per il download del dataset."
      ],
      "metadata": {
        "id": "BCt6vJjMq99U"
      }
    },
    {
      "cell_type": "code",
      "source": [
        "with open(PERCORSO_DRIVE + '/EEG_Motor_Movement-Imagery_R01_ID.json', 'r') as file:\n",
        "  config = json.load(file)\n",
        "\n",
        "DATASET_ID = config['DATASET_ID']"
      ],
      "metadata": {
        "id": "RQOIZLr-sI76"
      },
      "execution_count": 6,
      "outputs": []
    },
    {
      "cell_type": "code",
      "source": [
        "#@title Impostazioni download\n",
        "\n",
        "#@markdown Nome del zip dataset post download:\n",
        "DATASET_NAME = 'EEG_Motor_Movement-Imagery.zip' #@param {type:\"string\"}\n",
        "\n",
        "download_dataset(DATASET_ID, DATASET_NAME, msg=True)"
      ],
      "metadata": {
        "id": "RU9KJSFBscEf",
        "colab": {
          "base_uri": "https://localhost:8080/"
        },
        "outputId": "ff86a558-8f62-4c43-a388-50b484bc28cc",
        "cellView": "form"
      },
      "execution_count": 7,
      "outputs": [
        {
          "output_type": "stream",
          "name": "stderr",
          "text": [
            "Downloading...\n",
            "From (original): https://drive.google.com/uc?id=1WwuAh25Jfx-I8rY3vFGyXiI79YfLYUpH\n",
            "From (redirected): https://drive.google.com/uc?id=1WwuAh25Jfx-I8rY3vFGyXiI79YfLYUpH&confirm=t&uuid=e6bfc62e-8e6d-4c3b-9ecc-3ccca64d8f5f\n",
            "To: /content/EEG_Motor_Movement-Imagery.zip\n",
            "100%|██████████| 76.6M/76.6M [00:03<00:00, 21.9MB/s]"
          ]
        },
        {
          "output_type": "stream",
          "name": "stdout",
          "text": [
            "\n",
            "File scaricato e salvato come EEG_Motor_Movement-Imagery.zip!\n",
            "\n"
          ]
        },
        {
          "output_type": "stream",
          "name": "stderr",
          "text": [
            "\n"
          ]
        }
      ]
    },
    {
      "cell_type": "markdown",
      "source": [
        "Dopo aver scaricato il dataset lo unzippiamo ed eliminiamo i file txt e la cartella sample_data creata automaticamente da Colab."
      ],
      "metadata": {
        "id": "hokXkJe7s-RW"
      }
    },
    {
      "cell_type": "code",
      "source": [
        "%%capture\n",
        "\n",
        "! unzip \"{DATASET_NAME}\"              # unzippa il file zip\n",
        "! rm /content/AMSL/*.txt              # elimina i file txt\n",
        "! rm -r /content/sample_data          # elimina la cartella di default di Colab"
      ],
      "metadata": {
        "id": "0_MrmgwXs_Eg"
      },
      "execution_count": 8,
      "outputs": []
    },
    {
      "cell_type": "markdown",
      "source": [
        "<a name=\"3\"></a>\n",
        "# **Analisi Dataset**"
      ],
      "metadata": {
        "id": "zw_prnOR1ofi"
      }
    },
    {
      "cell_type": "markdown",
      "source": [
        "## Numero di classi"
      ],
      "metadata": {
        "id": "ZZZ2oMT-GqZP"
      }
    },
    {
      "cell_type": "markdown",
      "source": [
        "Dato che il nostro dataset è composto da una sola sessione per ciascuno volontario, ognuno dei quali rappresenta una \"classe\", possiamo esplicitare il numero delle classi listando tutti i file .edf nella directory assegnado un'etichetta univoca a ciascuno:"
      ],
      "metadata": {
        "id": "p8ZqcmF8TsUn"
      }
    },
    {
      "cell_type": "code",
      "source": [
        "dataset_path = '/content/EEG_T0/'\n",
        "files = sorted(os.listdir(dataset_path))\n",
        "classi = [f'{i+1}' for i in range(len(files))]\n",
        "print(f\"Numero di classi (volontari): {len(classi)}\")"
      ],
      "metadata": {
        "colab": {
          "base_uri": "https://localhost:8080/"
        },
        "id": "wRPpi5B2UgEs",
        "outputId": "09f07c61-5305-4afa-c5bb-22168ab9abb2"
      },
      "execution_count": 9,
      "outputs": [
        {
          "output_type": "stream",
          "name": "stdout",
          "text": [
            "Numero di classi (volontari): 109\n"
          ]
        }
      ]
    },
    {
      "cell_type": "markdown",
      "source": [
        "## Campioni per classe"
      ],
      "metadata": {
        "id": "4lYxJQnlZ5rx"
      }
    },
    {
      "cell_type": "markdown",
      "source": [
        "Utilizziamo una funzione della libreria MNE per ricavare il numero di campioni presenti per ogni specifico EEG relativo ai diversi volonari."
      ],
      "metadata": {
        "id": "NfGDqNFaaTHz"
      }
    },
    {
      "cell_type": "code",
      "source": [
        "%%capture\n",
        "campioni_per_classe = {}\n",
        "for i, file in enumerate(files):\n",
        "    raw_data = mne.io.read_raw_edf(f\"{dataset_path}/{file}\", preload=True, verbose = 'CRITICAL')\n",
        "    campioni_per_classe[classi[i]] = raw_data.n_times"
      ],
      "metadata": {
        "id": "RURTRcYyX4UD"
      },
      "execution_count": 10,
      "outputs": []
    },
    {
      "cell_type": "code",
      "source": [
        "print(\"Numero di campioni per classe:\", campioni_per_classe)"
      ],
      "metadata": {
        "colab": {
          "base_uri": "https://localhost:8080/"
        },
        "id": "TvDO4ussYMWC",
        "outputId": "0d5580f4-8c8f-467e-d9aa-10becfb0e8d4"
      },
      "execution_count": 11,
      "outputs": [
        {
          "output_type": "stream",
          "name": "stdout",
          "text": [
            "Numero di campioni per classe: {'1': 9760, '2': 9760, '3': 9760, '4': 9760, '5': 9760, '6': 9760, '7': 9760, '8': 9760, '9': 9760, '10': 9760, '11': 9760, '12': 9760, '13': 9760, '14': 9600, '15': 9760, '16': 9760, '17': 9760, '18': 9760, '19': 9760, '20': 9760, '21': 9760, '22': 9760, '23': 9760, '24': 9760, '25': 9760, '26': 9760, '27': 9760, '28': 9760, '29': 9760, '30': 9760, '31': 9760, '32': 9760, '33': 9760, '34': 9760, '35': 9760, '36': 9760, '37': 9760, '38': 9760, '39': 9760, '40': 9760, '41': 9760, '42': 9760, '43': 9760, '44': 9760, '45': 9760, '46': 9760, '47': 9760, '48': 9760, '49': 9760, '50': 9760, '51': 9600, '52': 9760, '53': 9760, '54': 9760, '55': 9760, '56': 9760, '57': 9760, '58': 9760, '59': 9760, '60': 9760, '61': 9760, '62': 9760, '63': 9760, '64': 9760, '65': 9760, '66': 9760, '67': 9760, '68': 9760, '69': 9600, '70': 9760, '71': 9760, '72': 9760, '73': 9760, '74': 9760, '75': 9760, '76': 9760, '77': 9760, '78': 9760, '79': 9760, '80': 9760, '81': 9760, '82': 9760, '83': 9760, '84': 9760, '85': 9760, '86': 9760, '87': 9760, '88': 9760, '89': 9760, '90': 9760, '91': 9760, '92': 9760, '93': 9760, '94': 9760, '95': 9760, '96': 9760, '97': 9760, '98': 9760, '99': 9760, '100': 9760, '101': 9760, '102': 9760, '103': 9760, '104': 9760, '105': 9760, '106': 9760, '107': 9760, '108': 9760, '109': 9600}\n"
          ]
        }
      ]
    },
    {
      "cell_type": "markdown",
      "source": [
        "Dalle informazioni raccolte costruiamo un bar plot per verificare il bilanciamento di campioni per classe."
      ],
      "metadata": {
        "id": "oopQtc3HanpR"
      }
    },
    {
      "cell_type": "code",
      "source": [
        "# Lista dei campioni per ogni volontario\n",
        "counts = list(campioni_per_classe.values())\n",
        "plt.hist(counts, bins=20)\n",
        "plt.xlabel(\"Numero di campioni per classe\")\n",
        "plt.ylabel(\"Frequenza\")\n",
        "plt.title(\"Distribuzione del numero di campioni per classe\")\n",
        "plt.show()\n",
        "\n",
        "# Analisi di bilanciamento\n",
        "media_campioni = sum(counts) / len(counts)\n",
        "print(f\"Media dei campioni per classe: {media_campioni:.2f}\")\n"
      ],
      "metadata": {
        "colab": {
          "base_uri": "https://localhost:8080/",
          "height": 489
        },
        "id": "z9d8CKYAYe6X",
        "outputId": "38ef9908-f177-444c-d144-4f5e18ed652c"
      },
      "execution_count": 12,
      "outputs": [
        {
          "output_type": "display_data",
          "data": {
            "text/plain": [
              "<Figure size 640x480 with 1 Axes>"
            ],
            "image/png": "[encoded data removed]"
          },
          "metadata": {}
        },
        {
          "output_type": "stream",
          "name": "stdout",
          "text": [
            "Media dei campioni per classe: 9754.13\n"
          ]
        }
      ]
    },
    {
      "cell_type": "code",
      "source": [
        "# Conta le occorrenze di ciascun numero di campioni\n",
        "conteggio_campioni = Counter(campioni_per_classe.values())\n",
        "\n",
        "# Stampa il numero di classi per ciascun numero di campioni\n",
        "for numero_campioni, numero_classi in conteggio_campioni.items():\n",
        "    print(f\"{numero_classi} classi hanno {numero_campioni} campioni\")"
      ],
      "metadata": {
        "colab": {
          "base_uri": "https://localhost:8080/"
        },
        "id": "q6iKimcccPxc",
        "outputId": "9733fc70-e4d9-48f1-eebf-61da373bde49"
      },
      "execution_count": 13,
      "outputs": [
        {
          "output_type": "stream",
          "name": "stdout",
          "text": [
            "105 classi hanno 9760 campioni\n",
            "4 classi hanno 9600 campioni\n"
          ]
        }
      ]
    },
    {
      "cell_type": "markdown",
      "source": [
        "Come possiamo notare prima visivamente e poi nel dettaglio, il nostro dataset risulta essere molto bilanciato fra le varie classi"
      ],
      "metadata": {
        "id": "rtoJS_sLcVwp"
      }
    },
    {
      "cell_type": "markdown",
      "source": [
        "# Pre-processing"
      ],
      "metadata": {
        "id": "pGD03pQZoiLT"
      }
    },
    {
      "cell_type": "code",
      "source": [
        "train = []\n",
        "label_tr = []\n",
        "val = []\n",
        "label_val = []\n",
        "test = []\n",
        "label_ts = []\n",
        "classe = 0\n",
        "\n",
        "# Patch length --> 240 samples == 1.5 second\n",
        "\n",
        "l_patch = 240\n",
        "\n",
        "# Split into 5 frequency bands\n",
        "\n",
        "high = {'alpha' : 13, 'beta' : 30, 'delta' : 4, 'gamma' : 40, 'theta' : 8, 'broadband' : None } # High frequencies\n",
        "low = {'alpha' : 8, 'beta' : 13, 'delta' : 0.5, 'gamma' : 30, 'theta' : 4, 'broadband' : 0.5 } # Low frequencies\n",
        "\n",
        "ntr = 28 # train set window\n",
        "nvd = 6 # validation set window\n",
        "nts = 6 # test set window\n",
        "\n",
        "for eeg in files[:len(classi)]:\n",
        "\n",
        "  raw = mne.io.read_raw_edf(input_fname = '/content/EEG_T0/'+eeg, preload = True, verbose = 'CRITICAL')\n",
        "  raw.filter(l_freq = low['broadband'], h_freq = high['broadband'], n_jobs = 8, verbose = 'CRITICAL')\n",
        "  rec = raw.get_data()\n",
        "  h=0\n",
        "\n",
        "  while(h < l_patch*ntr):\n",
        "    train.append(rec[:,h:h+l_patch]) # train set\n",
        "    label_tr.append(classe)\n",
        "    h=h+l_patch\n",
        "\n",
        "  # RICORDA DI FARE EARLY STOP     D O P O\n",
        "  while(h < (ntr+nvd)*l_patch):\n",
        "    val.append(rec[:,h:h+l_patch]) # validation set\n",
        "    label_val.append(classe)\n",
        "    h=h+l_patch\n",
        "\n",
        "  while(h < l_patch*(ntr+nvd+nts) and h + l_patch <= rec.shape[1]):\n",
        "    test.append(rec[:,h:h+l_patch]) # test set\n",
        "    label_ts.append(classe)\n",
        "    h=h+l_patch\n",
        "\n",
        "  classe = classe + 1\n"
      ],
      "metadata": {
        "id": "oaT0dGGM0avV"
      },
      "execution_count": 20,
      "outputs": []
    },
    {
      "cell_type": "code",
      "source": [
        "train_array = np.array(train)  # Converti la lista train in un array NumPy\n",
        "print(train_array.shape)\n",
        "val_array = np.array(val)  # Converti la lista train in un array NumPy\n",
        "print(val_array.shape)\n",
        "test_array = np.array(test)  # Converti la lista train in un array NumPy\n",
        "print(test_array.shape)\n",
        "\n",
        "label_tr = np.array(label_tr)\n",
        "print(label_tr.shape)\n",
        "label_val = np.array(label_val)\n",
        "print(label_val.shape)\n",
        "label_ts = np.array(label_ts)\n",
        "print(label_ts.shape)\n",
        "print(rec.shape)"
      ],
      "metadata": {
        "colab": {
          "base_uri": "https://localhost:8080/"
        },
        "id": "bnZnXSP4yq35",
        "outputId": "b4022ce9-34dd-41e2-c8c9-2f2e00540c1a"
      },
      "execution_count": 23,
      "outputs": [
        {
          "output_type": "stream",
          "name": "stdout",
          "text": [
            "(3052, 64, 240)\n",
            "(654, 64, 240)\n",
            "(654, 64, 240)\n",
            "(3052,)\n",
            "(654,)\n",
            "(654,)\n",
            "(64, 9600)\n"
          ]
        }
      ]
    },
    {
      "cell_type": "markdown",
      "source": [
        "(9600 * 240) / 109 = 4360 /n\n",
        "4360 * 0.7 = 3052 /n\n",
        "4360 * 0.15 = 654"
      ],
      "metadata": {
        "id": "j4x4854X_LJi"
      }
    },
    {
      "cell_type": "markdown",
      "source": [
        "# Modello"
      ],
      "metadata": {
        "id": "-IncMLiyL8MD"
      }
    },
    {
      "cell_type": "code",
      "source": [
        "import numpy as np\n",
        "import tensorflow as tf\n",
        "from tensorflow.keras.models import Sequential\n",
        "from tensorflow.keras.layers import LSTM, Dense, Dropout\n",
        "\n",
        "# Supponiamo che train_array, val_array, test_array, label_tr, label_val, label_ts siano già definiti come array numpy\n",
        "# Converti le etichette in one-hot encoding\n",
        "num_classes = len(np.unique(label_tr))\n",
        "print(\"Numero di classi:\", num_classes)\n",
        "y_train = tf.keras.utils.to_categorical(label_tr, num_classes=num_classes)\n",
        "y_val = tf.keras.utils.to_categorical(label_val, num_classes=num_classes)\n",
        "y_test = tf.keras.utils.to_categorical(label_ts, num_classes=num_classes)\n",
        "\n",
        "# Trasponi i dati per renderli compatibili con LSTM\n",
        "train_array = train_array.transpose(0, 2, 1)  # Diventa (num_segments, 240, 64)\n",
        "val_array = val_array.transpose(0, 2, 1)\n",
        "test_array = test_array.transpose(0, 2, 1)\n",
        "\n",
        "# Calcola la media e la deviazione standard sul training set dopo la trasposizione\n",
        "mean = train_array.mean(axis=(0, 1), keepdims=True)  # Media calcolata sui segmenti e sui campioni temporali per ogni canale\n",
        "std = train_array.std(axis=(0, 1), keepdims=True)    # Deviazione standard calcolata sui segmenti e campioni temporali per ogni canale\n",
        "\n",
        "# Normalizza il training set\n",
        "train_array = (train_array - mean) / std\n",
        "\n",
        "# Applica la stessa normalizzazione a validation e test set\n",
        "val_array = (val_array - mean) / std\n",
        "test_array = (test_array - mean) / std"
      ],
      "metadata": {
        "colab": {
          "base_uri": "https://localhost:8080/"
        },
        "id": "jHSPHq2eW5YX",
        "outputId": "f76bb30b-da80-4fa4-cbea-794a7b93a200"
      },
      "execution_count": 24,
      "outputs": [
        {
          "output_type": "stream",
          "name": "stdout",
          "text": [
            "Numero di classi: 109\n"
          ]
        }
      ]
    },
    {
      "cell_type": "code",
      "source": [
        "print(train_array.shape)\n",
        "\n",
        "print(val_array.shape)\n",
        "\n",
        "print(test_array.shape)\n",
        "\n",
        "print(label_tr.shape)\n",
        "print(label_val.shape)\n",
        "print(label_ts.shape)\n",
        "print(rec.shape)"
      ],
      "metadata": {
        "colab": {
          "base_uri": "https://localhost:8080/"
        },
        "id": "lqqYnkhSXHIC",
        "outputId": "4d959553-ce58-43d5-962a-9d77103501e6"
      },
      "execution_count": 25,
      "outputs": [
        {
          "output_type": "stream",
          "name": "stdout",
          "text": [
            "(3052, 240, 64)\n",
            "(654, 240, 64)\n",
            "(654, 240, 64)\n",
            "(3052,)\n",
            "(654,)\n",
            "(654,)\n",
            "(64, 9600)\n"
          ]
        }
      ]
    },
    {
      "source": [
        "# Definisci il modello\n",
        "model = Sequential()\n",
        "model.add(LSTM(128, input_shape=(train_array.shape[1], train_array.shape[2]), return_sequences=False))\n",
        "model.add(Dropout(0.5))\n",
        "model.add(Dense(num_classes, activation='softmax'))\n",
        "\n",
        "# Compila il modello\n",
        "model.compile(loss='categorical_crossentropy', optimizer='adam', metrics=['accuracy'])\n",
        "\n",
        "# Addestra il modello\n",
        "model.fit(train_array, y_train, epochs=100, batch_size=32, validation_data=(val_array, y_val))\n",
        "\n",
        "# Valuta il modello\n",
        "loss, accuracy = model.evaluate(test_array, y_test, verbose=0)\n",
        "print(f'Accuratezza sul test: {accuracy:.4f}')\n"
      ],
      "cell_type": "code",
      "metadata": {
        "colab": {
          "base_uri": "https://localhost:8080/"
        },
        "id": "7cA4WBZ8AEMb",
        "outputId": "6b77a401-ccdf-44e5-9898-8a1445100ca8"
      },
      "execution_count": 26,
      "outputs": [
        {
          "output_type": "stream",
          "name": "stdout",
          "text": [
            "Epoch 1/100\n",
            "\u001b[1m96/96\u001b[0m \u001b[32m━━━━━━━━━━━━━━━━━━━━\u001b[0m\u001b[37m\u001b[0m \u001b[1m3s\u001b[0m 19ms/step - accuracy: 0.0101 - loss: 4.7218 - val_accuracy: 0.0428 - val_loss: 4.6071\n",
            "Epoch 2/100\n",
            "\u001b[1m96/96\u001b[0m \u001b[32m━━━━━━━━━━━━━━━━━━━━\u001b[0m\u001b[37m\u001b[0m \u001b[1m2s\u001b[0m 16ms/step - accuracy: 0.0487 - loss: 4.5128 - val_accuracy: 0.0581 - val_loss: 4.3174\n",
            "Epoch 3/100\n",
            "\u001b[1m96/96\u001b[0m \u001b[32m━━━━━━━━━━━━━━━━━━━━\u001b[0m\u001b[37m\u001b[0m \u001b[1m2s\u001b[0m 17ms/step - accuracy: 0.0755 - loss: 4.2049 - val_accuracy: 0.0810 - val_loss: 4.2404\n",
            "Epoch 4/100\n",
            "\u001b[1m96/96\u001b[0m \u001b[32m━━━━━━━━━━━━━━━━━━━━\u001b[0m\u001b[37m\u001b[0m \u001b[1m2s\u001b[0m 12ms/step - accuracy: 0.0943 - loss: 4.0523 - val_accuracy: 0.0841 - val_loss: 3.9651\n",
            "Epoch 5/100\n",
            "\u001b[1m96/96\u001b[0m \u001b[32m━━━━━━━━━━━━━━━━━━━━\u001b[0m\u001b[37m\u001b[0m \u001b[1m1s\u001b[0m 12ms/step - accuracy: 0.1257 - loss: 3.8657 - val_accuracy: 0.0979 - val_loss: 3.8530\n",
            "Epoch 6/100\n",
            "\u001b[1m96/96\u001b[0m \u001b[32m━━━━━━━━━━━━━━━━━━━━\u001b[0m\u001b[37m\u001b[0m \u001b[1m1s\u001b[0m 12ms/step - accuracy: 0.1377 - loss: 3.6830 - val_accuracy: 0.1009 - val_loss: 3.8177\n",
            "Epoch 7/100\n",
            "\u001b[1m96/96\u001b[0m \u001b[32m━━━━━━━━━━━━━━━━━━━━\u001b[0m\u001b[37m\u001b[0m \u001b[1m1s\u001b[0m 12ms/step - accuracy: 0.1528 - loss: 3.6097 - val_accuracy: 0.0994 - val_loss: 4.0249\n",
            "Epoch 8/100\n",
            "\u001b[1m96/96\u001b[0m \u001b[32m━━━━━━━━━━━━━━━━━━━━\u001b[0m\u001b[37m\u001b[0m \u001b[1m1s\u001b[0m 12ms/step - accuracy: 0.1498 - loss: 3.6660 - val_accuracy: 0.1453 - val_loss: 3.6026\n",
            "Epoch 9/100\n",
            "\u001b[1m96/96\u001b[0m \u001b[32m━━━━━━━━━━━━━━━━━━━━\u001b[0m\u001b[37m\u001b[0m \u001b[1m1s\u001b[0m 12ms/step - accuracy: 0.1750 - loss: 3.5459 - val_accuracy: 0.0917 - val_loss: 4.1166\n",
            "Epoch 10/100\n",
            "\u001b[1m96/96\u001b[0m \u001b[32m━━━━━━━━━━━━━━━━━━━━\u001b[0m\u001b[37m\u001b[0m \u001b[1m1s\u001b[0m 12ms/step - accuracy: 0.1309 - loss: 3.8577 - val_accuracy: 0.1300 - val_loss: 3.7289\n",
            "Epoch 11/100\n",
            "\u001b[1m96/96\u001b[0m \u001b[32m━━━━━━━━━━━━━━━━━━━━\u001b[0m\u001b[37m\u001b[0m \u001b[1m1s\u001b[0m 12ms/step - accuracy: 0.1692 - loss: 3.4985 - val_accuracy: 0.1315 - val_loss: 3.6220\n",
            "Epoch 12/100\n",
            "\u001b[1m96/96\u001b[0m \u001b[32m━━━━━━━━━━━━━━━━━━━━\u001b[0m\u001b[37m\u001b[0m \u001b[1m2s\u001b[0m 17ms/step - accuracy: 0.1926 - loss: 3.3653 - val_accuracy: 0.1468 - val_loss: 3.5080\n",
            "Epoch 13/100\n",
            "\u001b[1m96/96\u001b[0m \u001b[32m━━━━━━━━━━━━━━━━━━━━\u001b[0m\u001b[37m\u001b[0m \u001b[1m2s\u001b[0m 17ms/step - accuracy: 0.2043 - loss: 3.2747 - val_accuracy: 0.1483 - val_loss: 3.4166\n",
            "Epoch 14/100\n",
            "\u001b[1m96/96\u001b[0m \u001b[32m━━━━━━━━━━━━━━━━━━━━\u001b[0m\u001b[37m\u001b[0m \u001b[1m3s\u001b[0m 19ms/step - accuracy: 0.2311 - loss: 3.1117 - val_accuracy: 0.1621 - val_loss: 3.3461\n",
            "Epoch 15/100\n",
            "\u001b[1m96/96\u001b[0m \u001b[32m━━━━━━━━━━━━━━━━━━━━\u001b[0m\u001b[37m\u001b[0m \u001b[1m2s\u001b[0m 12ms/step - accuracy: 0.2574 - loss: 3.0380 - val_accuracy: 0.1682 - val_loss: 3.3531\n",
            "Epoch 16/100\n",
            "\u001b[1m96/96\u001b[0m \u001b[32m━━━━━━━━━━━━━━━━━━━━\u001b[0m\u001b[37m\u001b[0m \u001b[1m1s\u001b[0m 12ms/step - accuracy: 0.2697 - loss: 2.9550 - val_accuracy: 0.1881 - val_loss: 3.2756\n",
            "Epoch 17/100\n",
            "\u001b[1m96/96\u001b[0m \u001b[32m━━━━━━━━━━━━━━━━━━━━\u001b[0m\u001b[37m\u001b[0m \u001b[1m1s\u001b[0m 12ms/step - accuracy: 0.2629 - loss: 2.9301 - val_accuracy: 0.2034 - val_loss: 3.1910\n",
            "Epoch 18/100\n",
            "\u001b[1m96/96\u001b[0m \u001b[32m━━━━━━━━━━━━━━━━━━━━\u001b[0m\u001b[37m\u001b[0m \u001b[1m1s\u001b[0m 12ms/step - accuracy: 0.2628 - loss: 2.9023 - val_accuracy: 0.2034 - val_loss: 3.2647\n",
            "Epoch 19/100\n",
            "\u001b[1m96/96\u001b[0m \u001b[32m━━━━━━━━━━━━━━━━━━━━\u001b[0m\u001b[37m\u001b[0m \u001b[1m1s\u001b[0m 12ms/step - accuracy: 0.2751 - loss: 2.8120 - val_accuracy: 0.1927 - val_loss: 3.2540\n",
            "Epoch 20/100\n",
            "\u001b[1m96/96\u001b[0m \u001b[32m━━━━━━━━━━━━━━━━━━━━\u001b[0m\u001b[37m\u001b[0m \u001b[1m1s\u001b[0m 12ms/step - accuracy: 0.2631 - loss: 2.9484 - val_accuracy: 0.1713 - val_loss: 3.3243\n",
            "Epoch 21/100\n",
            "\u001b[1m96/96\u001b[0m \u001b[32m━━━━━━━━━━━━━━━━━━━━\u001b[0m\u001b[37m\u001b[0m \u001b[1m1s\u001b[0m 13ms/step - accuracy: 0.2601 - loss: 2.9517 - val_accuracy: 0.2095 - val_loss: 3.1734\n",
            "Epoch 22/100\n",
            "\u001b[1m96/96\u001b[0m \u001b[32m━━━━━━━━━━━━━━━━━━━━\u001b[0m\u001b[37m\u001b[0m \u001b[1m3s\u001b[0m 18ms/step - accuracy: 0.2968 - loss: 2.7030 - val_accuracy: 0.2187 - val_loss: 3.0868\n",
            "Epoch 23/100\n",
            "\u001b[1m96/96\u001b[0m \u001b[32m━━━━━━━━━━━━━━━━━━━━\u001b[0m\u001b[37m\u001b[0m \u001b[1m2s\u001b[0m 17ms/step - accuracy: 0.3169 - loss: 2.6194 - val_accuracy: 0.1789 - val_loss: 3.2149\n",
            "Epoch 24/100\n",
            "\u001b[1m96/96\u001b[0m \u001b[32m━━━━━━━━━━━━━━━━━━━━\u001b[0m\u001b[37m\u001b[0m \u001b[1m2s\u001b[0m 12ms/step - accuracy: 0.2960 - loss: 2.7225 - val_accuracy: 0.1972 - val_loss: 3.1035\n",
            "Epoch 25/100\n",
            "\u001b[1m96/96\u001b[0m \u001b[32m━━━━━━━━━━━━━━━━━━━━\u001b[0m\u001b[37m\u001b[0m \u001b[1m1s\u001b[0m 12ms/step - accuracy: 0.3116 - loss: 2.5920 - val_accuracy: 0.2202 - val_loss: 3.0483\n",
            "Epoch 26/100\n",
            "\u001b[1m96/96\u001b[0m \u001b[32m━━━━━━━━━━━━━━━━━━━━\u001b[0m\u001b[37m\u001b[0m \u001b[1m1s\u001b[0m 12ms/step - accuracy: 0.3591 - loss: 2.4561 - val_accuracy: 0.2294 - val_loss: 3.0031\n",
            "Epoch 27/100\n",
            "\u001b[1m96/96\u001b[0m \u001b[32m━━━━━━━━━━━━━━━━━━━━\u001b[0m\u001b[37m\u001b[0m \u001b[1m1s\u001b[0m 12ms/step - accuracy: 0.3714 - loss: 2.3674 - val_accuracy: 0.2202 - val_loss: 3.0730\n",
            "Epoch 28/100\n",
            "\u001b[1m96/96\u001b[0m \u001b[32m━━━━━━━━━━━━━━━━━━━━\u001b[0m\u001b[37m\u001b[0m \u001b[1m1s\u001b[0m 12ms/step - accuracy: 0.3791 - loss: 2.4225 - val_accuracy: 0.2125 - val_loss: 2.9848\n",
            "Epoch 29/100\n",
            "\u001b[1m96/96\u001b[0m \u001b[32m━━━━━━━━━━━━━━━━━━━━\u001b[0m\u001b[37m\u001b[0m \u001b[1m1s\u001b[0m 12ms/step - accuracy: 0.3236 - loss: 2.6207 - val_accuracy: 0.2278 - val_loss: 2.9508\n",
            "Epoch 30/100\n",
            "\u001b[1m96/96\u001b[0m \u001b[32m━━━━━━━━━━━━━━━━━━━━\u001b[0m\u001b[37m\u001b[0m \u001b[1m1s\u001b[0m 12ms/step - accuracy: 0.3652 - loss: 2.4753 - val_accuracy: 0.2355 - val_loss: 2.9043\n",
            "Epoch 31/100\n",
            "\u001b[1m96/96\u001b[0m \u001b[32m━━━━━━━━━━━━━━━━━━━━\u001b[0m\u001b[37m\u001b[0m \u001b[1m2s\u001b[0m 16ms/step - accuracy: 0.4062 - loss: 2.2047 - val_accuracy: 0.2401 - val_loss: 2.8678\n",
            "Epoch 32/100\n",
            "\u001b[1m96/96\u001b[0m \u001b[32m━━━━━━━━━━━━━━━━━━━━\u001b[0m\u001b[37m\u001b[0m \u001b[1m3s\u001b[0m 17ms/step - accuracy: 0.4281 - loss: 2.1279 - val_accuracy: 0.2477 - val_loss: 2.8111\n",
            "Epoch 33/100\n",
            "\u001b[1m96/96\u001b[0m \u001b[32m━━━━━━━━━━━━━━━━━━━━\u001b[0m\u001b[37m\u001b[0m \u001b[1m2s\u001b[0m 15ms/step - accuracy: 0.4501 - loss: 2.0655 - val_accuracy: 0.2355 - val_loss: 2.8231\n",
            "Epoch 34/100\n",
            "\u001b[1m96/96\u001b[0m \u001b[32m━━━━━━━━━━━━━━━━━━━━\u001b[0m\u001b[37m\u001b[0m \u001b[1m2s\u001b[0m 12ms/step - accuracy: 0.4358 - loss: 2.0917 - val_accuracy: 0.2661 - val_loss: 2.7713\n",
            "Epoch 35/100\n",
            "\u001b[1m96/96\u001b[0m \u001b[32m━━━━━━━━━━━━━━━━━━━━\u001b[0m\u001b[37m\u001b[0m \u001b[1m1s\u001b[0m 12ms/step - accuracy: 0.4592 - loss: 1.9868 - val_accuracy: 0.2691 - val_loss: 2.7609\n",
            "Epoch 36/100\n",
            "\u001b[1m96/96\u001b[0m \u001b[32m━━━━━━━━━━━━━━━━━━━━\u001b[0m\u001b[37m\u001b[0m \u001b[1m1s\u001b[0m 12ms/step - accuracy: 0.4725 - loss: 1.9447 - val_accuracy: 0.2706 - val_loss: 2.7419\n",
            "Epoch 37/100\n",
            "\u001b[1m96/96\u001b[0m \u001b[32m━━━━━━━━━━━━━━━━━━━━\u001b[0m\u001b[37m\u001b[0m \u001b[1m1s\u001b[0m 12ms/step - accuracy: 0.4631 - loss: 1.8943 - val_accuracy: 0.2706 - val_loss: 2.7729\n",
            "Epoch 38/100\n",
            "\u001b[1m96/96\u001b[0m \u001b[32m━━━━━━━━━━━━━━━━━━━━\u001b[0m\u001b[37m\u001b[0m \u001b[1m1s\u001b[0m 12ms/step - accuracy: 0.4879 - loss: 1.8763 - val_accuracy: 0.2951 - val_loss: 2.7514\n",
            "Epoch 39/100\n",
            "\u001b[1m96/96\u001b[0m \u001b[32m━━━━━━━━━━━━━━━━━━━━\u001b[0m\u001b[37m\u001b[0m \u001b[1m1s\u001b[0m 12ms/step - accuracy: 0.4863 - loss: 1.8634 - val_accuracy: 0.2706 - val_loss: 2.7408\n",
            "Epoch 40/100\n",
            "\u001b[1m96/96\u001b[0m \u001b[32m━━━━━━━━━━━━━━━━━━━━\u001b[0m\u001b[37m\u001b[0m \u001b[1m1s\u001b[0m 12ms/step - accuracy: 0.4972 - loss: 1.8479 - val_accuracy: 0.2813 - val_loss: 2.7859\n",
            "Epoch 41/100\n",
            "\u001b[1m96/96\u001b[0m \u001b[32m━━━━━━━━━━━━━━━━━━━━\u001b[0m\u001b[37m\u001b[0m \u001b[1m2s\u001b[0m 16ms/step - accuracy: 0.4655 - loss: 1.9487 - val_accuracy: 0.2859 - val_loss: 2.7140\n",
            "Epoch 42/100\n",
            "\u001b[1m96/96\u001b[0m \u001b[32m━━━━━━━━━━━━━━━━━━━━\u001b[0m\u001b[37m\u001b[0m \u001b[1m3s\u001b[0m 18ms/step - accuracy: 0.4804 - loss: 1.8418 - val_accuracy: 0.3058 - val_loss: 2.6079\n",
            "Epoch 43/100\n",
            "\u001b[1m96/96\u001b[0m \u001b[32m━━━━━━━━━━━━━━━━━━━━\u001b[0m\u001b[37m\u001b[0m \u001b[1m1s\u001b[0m 14ms/step - accuracy: 0.5045 - loss: 1.7195 - val_accuracy: 0.2997 - val_loss: 2.5959\n",
            "Epoch 44/100\n",
            "\u001b[1m96/96\u001b[0m \u001b[32m━━━━━━━━━━━━━━━━━━━━\u001b[0m\u001b[37m\u001b[0m \u001b[1m1s\u001b[0m 12ms/step - accuracy: 0.5138 - loss: 1.6749 - val_accuracy: 0.3242 - val_loss: 2.5730\n",
            "Epoch 45/100\n",
            "\u001b[1m96/96\u001b[0m \u001b[32m━━━━━━━━━━━━━━━━━━━━\u001b[0m\u001b[37m\u001b[0m \u001b[1m1s\u001b[0m 12ms/step - accuracy: 0.5288 - loss: 1.6517 - val_accuracy: 0.2813 - val_loss: 2.6515\n",
            "Epoch 46/100\n",
            "\u001b[1m96/96\u001b[0m \u001b[32m━━━━━━━━━━━━━━━━━━━━\u001b[0m\u001b[37m\u001b[0m \u001b[1m1s\u001b[0m 12ms/step - accuracy: 0.5438 - loss: 1.6611 - val_accuracy: 0.3089 - val_loss: 2.5451\n",
            "Epoch 47/100\n",
            "\u001b[1m96/96\u001b[0m \u001b[32m━━━━━━━━━━━━━━━━━━━━\u001b[0m\u001b[37m\u001b[0m \u001b[1m1s\u001b[0m 12ms/step - accuracy: 0.5611 - loss: 1.5221 - val_accuracy: 0.3180 - val_loss: 2.5307\n",
            "Epoch 48/100\n",
            "\u001b[1m96/96\u001b[0m \u001b[32m━━━━━━━━━━━━━━━━━━━━\u001b[0m\u001b[37m\u001b[0m \u001b[1m1s\u001b[0m 12ms/step - accuracy: 0.5780 - loss: 1.4952 - val_accuracy: 0.3257 - val_loss: 2.5073\n",
            "Epoch 49/100\n",
            "\u001b[1m96/96\u001b[0m \u001b[32m━━━━━━━━━━━━━━━━━━━━\u001b[0m\u001b[37m\u001b[0m \u001b[1m1s\u001b[0m 12ms/step - accuracy: 0.5815 - loss: 1.4551 - val_accuracy: 0.3303 - val_loss: 2.5479\n",
            "Epoch 50/100\n",
            "\u001b[1m96/96\u001b[0m \u001b[32m━━━━━━━━━━━━━━━━━━━━\u001b[0m\u001b[37m\u001b[0m \u001b[1m1s\u001b[0m 12ms/step - accuracy: 0.6173 - loss: 1.3696 - val_accuracy: 0.3242 - val_loss: 2.4769\n",
            "Epoch 51/100\n",
            "\u001b[1m96/96\u001b[0m \u001b[32m━━━━━━━━━━━━━━━━━━━━\u001b[0m\u001b[37m\u001b[0m \u001b[1m1s\u001b[0m 14ms/step - accuracy: 0.6274 - loss: 1.3409 - val_accuracy: 0.3257 - val_loss: 2.4694\n",
            "Epoch 52/100\n",
            "\u001b[1m96/96\u001b[0m \u001b[32m━━━━━━━━━━━━━━━━━━━━\u001b[0m\u001b[37m\u001b[0m \u001b[1m2s\u001b[0m 16ms/step - accuracy: 0.6507 - loss: 1.2580 - val_accuracy: 0.3502 - val_loss: 2.4382\n",
            "Epoch 53/100\n",
            "\u001b[1m96/96\u001b[0m \u001b[32m━━━━━━━━━━━━━━━━━━━━\u001b[0m\u001b[37m\u001b[0m \u001b[1m2s\u001b[0m 18ms/step - accuracy: 0.6087 - loss: 1.3829 - val_accuracy: 0.3456 - val_loss: 2.4593\n",
            "Epoch 54/100\n",
            "\u001b[1m96/96\u001b[0m \u001b[32m━━━━━━━━━━━━━━━━━━━━\u001b[0m\u001b[37m\u001b[0m \u001b[1m2s\u001b[0m 19ms/step - accuracy: 0.6497 - loss: 1.2564 - val_accuracy: 0.3593 - val_loss: 2.3881\n",
            "Epoch 55/100\n",
            "\u001b[1m96/96\u001b[0m \u001b[32m━━━━━━━━━━━━━━━━━━━━\u001b[0m\u001b[37m\u001b[0m \u001b[1m1s\u001b[0m 12ms/step - accuracy: 0.6674 - loss: 1.1780 - val_accuracy: 0.3486 - val_loss: 2.5055\n",
            "Epoch 56/100\n",
            "\u001b[1m96/96\u001b[0m \u001b[32m━━━━━━━━━━━━━━━━━━━━\u001b[0m\u001b[37m\u001b[0m \u001b[1m1s\u001b[0m 12ms/step - accuracy: 0.6434 - loss: 1.2158 - val_accuracy: 0.3563 - val_loss: 2.4096\n",
            "Epoch 57/100\n",
            "\u001b[1m96/96\u001b[0m \u001b[32m━━━━━━━━━━━━━━━━━━━━\u001b[0m\u001b[37m\u001b[0m \u001b[1m1s\u001b[0m 12ms/step - accuracy: 0.6236 - loss: 1.2787 - val_accuracy: 0.3287 - val_loss: 2.4886\n",
            "Epoch 58/100\n",
            "\u001b[1m96/96\u001b[0m \u001b[32m━━━━━━━━━━━━━━━━━━━━\u001b[0m\u001b[37m\u001b[0m \u001b[1m1s\u001b[0m 12ms/step - accuracy: 0.5842 - loss: 1.4450 - val_accuracy: 0.3394 - val_loss: 2.4848\n",
            "Epoch 59/100\n",
            "\u001b[1m96/96\u001b[0m \u001b[32m━━━━━━━━━━━━━━━━━━━━\u001b[0m\u001b[37m\u001b[0m \u001b[1m1s\u001b[0m 12ms/step - accuracy: 0.6360 - loss: 1.2592 - val_accuracy: 0.3394 - val_loss: 2.3960\n",
            "Epoch 60/100\n",
            "\u001b[1m96/96\u001b[0m \u001b[32m━━━━━━━━━━━━━━━━━━━━\u001b[0m\u001b[37m\u001b[0m \u001b[1m1s\u001b[0m 12ms/step - accuracy: 0.6440 - loss: 1.1945 - val_accuracy: 0.3502 - val_loss: 2.3602\n",
            "Epoch 61/100\n",
            "\u001b[1m96/96\u001b[0m \u001b[32m━━━━━━━━━━━━━━━━━━━━\u001b[0m\u001b[37m\u001b[0m \u001b[1m1s\u001b[0m 12ms/step - accuracy: 0.6638 - loss: 1.1269 - val_accuracy: 0.3761 - val_loss: 2.3153\n",
            "Epoch 62/100\n",
            "\u001b[1m96/96\u001b[0m \u001b[32m━━━━━━━━━━━━━━━━━━━━\u001b[0m\u001b[37m\u001b[0m \u001b[1m1s\u001b[0m 12ms/step - accuracy: 0.6746 - loss: 1.0827 - val_accuracy: 0.3456 - val_loss: 2.4888\n",
            "Epoch 63/100\n",
            "\u001b[1m96/96\u001b[0m \u001b[32m━━━━━━━━━━━━━━━━━━━━\u001b[0m\u001b[37m\u001b[0m \u001b[1m2s\u001b[0m 16ms/step - accuracy: 0.6372 - loss: 1.2023 - val_accuracy: 0.3578 - val_loss: 2.3987\n",
            "Epoch 64/100\n",
            "\u001b[1m96/96\u001b[0m \u001b[32m━━━━━━━━━━━━━━━━━━━━\u001b[0m\u001b[37m\u001b[0m \u001b[1m3s\u001b[0m 18ms/step - accuracy: 0.6614 - loss: 1.1222 - val_accuracy: 0.3853 - val_loss: 2.2898\n",
            "Epoch 65/100\n",
            "\u001b[1m96/96\u001b[0m \u001b[32m━━━━━━━━━━━━━━━━━━━━\u001b[0m\u001b[37m\u001b[0m \u001b[1m1s\u001b[0m 15ms/step - accuracy: 0.7088 - loss: 0.9675 - val_accuracy: 0.3746 - val_loss: 2.3021\n",
            "Epoch 66/100\n",
            "\u001b[1m96/96\u001b[0m \u001b[32m━━━━━━━━━━━━━━━━━━━━\u001b[0m\u001b[37m\u001b[0m \u001b[1m1s\u001b[0m 12ms/step - accuracy: 0.7113 - loss: 0.9886 - val_accuracy: 0.3853 - val_loss: 2.2722\n",
            "Epoch 67/100\n",
            "\u001b[1m96/96\u001b[0m \u001b[32m━━━━━━━━━━━━━━━━━━━━\u001b[0m\u001b[37m\u001b[0m \u001b[1m1s\u001b[0m 12ms/step - accuracy: 0.7362 - loss: 0.9197 - val_accuracy: 0.3838 - val_loss: 2.3204\n",
            "Epoch 68/100\n",
            "\u001b[1m96/96\u001b[0m \u001b[32m━━━━━━━━━━━━━━━━━━━━\u001b[0m\u001b[37m\u001b[0m \u001b[1m1s\u001b[0m 12ms/step - accuracy: 0.7308 - loss: 0.8907 - val_accuracy: 0.3960 - val_loss: 2.3015\n",
            "Epoch 69/100\n",
            "\u001b[1m96/96\u001b[0m \u001b[32m━━━━━━━━━━━━━━━━━━━━\u001b[0m\u001b[37m\u001b[0m \u001b[1m1s\u001b[0m 12ms/step - accuracy: 0.7380 - loss: 0.9407 - val_accuracy: 0.3471 - val_loss: 2.4262\n",
            "Epoch 70/100\n",
            "\u001b[1m96/96\u001b[0m \u001b[32m━━━━━━━━━━━━━━━━━━━━\u001b[0m\u001b[37m\u001b[0m \u001b[1m1s\u001b[0m 12ms/step - accuracy: 0.7108 - loss: 0.9950 - val_accuracy: 0.3777 - val_loss: 2.3565\n",
            "Epoch 71/100\n",
            "\u001b[1m96/96\u001b[0m \u001b[32m━━━━━━━━━━━━━━━━━━━━\u001b[0m\u001b[37m\u001b[0m \u001b[1m1s\u001b[0m 15ms/step - accuracy: 0.7095 - loss: 0.9893 - val_accuracy: 0.3716 - val_loss: 2.4361\n",
            "Epoch 72/100\n",
            "\u001b[1m96/96\u001b[0m \u001b[32m━━━━━━━━━━━━━━━━━━━━\u001b[0m\u001b[37m\u001b[0m \u001b[1m1s\u001b[0m 14ms/step - accuracy: 0.7282 - loss: 0.9566 - val_accuracy: 0.3700 - val_loss: 2.2977\n",
            "Epoch 73/100\n",
            "\u001b[1m96/96\u001b[0m \u001b[32m━━━━━━━━━━━━━━━━━━━━\u001b[0m\u001b[37m\u001b[0m \u001b[1m2s\u001b[0m 16ms/step - accuracy: 0.6728 - loss: 1.0865 - val_accuracy: 0.3777 - val_loss: 2.4577\n",
            "Epoch 74/100\n",
            "\u001b[1m96/96\u001b[0m \u001b[32m━━━━━━━━━━━━━━━━━━━━\u001b[0m\u001b[37m\u001b[0m \u001b[1m2s\u001b[0m 17ms/step - accuracy: 0.7030 - loss: 0.9496 - val_accuracy: 0.3685 - val_loss: 2.4038\n",
            "Epoch 75/100\n",
            "\u001b[1m96/96\u001b[0m \u001b[32m━━━━━━━━━━━━━━━━━━━━\u001b[0m\u001b[37m\u001b[0m \u001b[1m2s\u001b[0m 16ms/step - accuracy: 0.7543 - loss: 0.8102 - val_accuracy: 0.3945 - val_loss: 2.2884\n",
            "Epoch 76/100\n",
            "\u001b[1m96/96\u001b[0m \u001b[32m━━━━━━━━━━━━━━━━━━━━\u001b[0m\u001b[37m\u001b[0m \u001b[1m1s\u001b[0m 12ms/step - accuracy: 0.7788 - loss: 0.7725 - val_accuracy: 0.4113 - val_loss: 2.3124\n",
            "Epoch 77/100\n",
            "\u001b[1m96/96\u001b[0m \u001b[32m━━━━━━━━━━━━━━━━━━━━\u001b[0m\u001b[37m\u001b[0m \u001b[1m2s\u001b[0m 17ms/step - accuracy: 0.7839 - loss: 0.7496 - val_accuracy: 0.4128 - val_loss: 2.3437\n",
            "Epoch 78/100\n",
            "\u001b[1m96/96\u001b[0m \u001b[32m━━━━━━━━━━━━━━━━━━━━\u001b[0m\u001b[37m\u001b[0m \u001b[1m2s\u001b[0m 17ms/step - accuracy: 0.7765 - loss: 0.7507 - val_accuracy: 0.3838 - val_loss: 2.3753\n",
            "Epoch 79/100\n",
            "\u001b[1m96/96\u001b[0m \u001b[32m━━━━━━━━━━━━━━━━━━━━\u001b[0m\u001b[37m\u001b[0m \u001b[1m2s\u001b[0m 12ms/step - accuracy: 0.7736 - loss: 0.7942 - val_accuracy: 0.4052 - val_loss: 2.3472\n",
            "Epoch 80/100\n",
            "\u001b[1m96/96\u001b[0m \u001b[32m━━━━━━━━━━━━━━━━━━━━\u001b[0m\u001b[37m\u001b[0m \u001b[1m1s\u001b[0m 12ms/step - accuracy: 0.7832 - loss: 0.7541 - val_accuracy: 0.4159 - val_loss: 2.3212\n",
            "Epoch 81/100\n",
            "\u001b[1m96/96\u001b[0m \u001b[32m━━━━━━━━━━━━━━━━━━━━\u001b[0m\u001b[37m\u001b[0m \u001b[1m1s\u001b[0m 12ms/step - accuracy: 0.7943 - loss: 0.7346 - val_accuracy: 0.4052 - val_loss: 2.3085\n",
            "Epoch 82/100\n",
            "\u001b[1m96/96\u001b[0m \u001b[32m━━━━━━━━━━━━━━━━━━━━\u001b[0m\u001b[37m\u001b[0m \u001b[1m2s\u001b[0m 16ms/step - accuracy: 0.7863 - loss: 0.6826 - val_accuracy: 0.4281 - val_loss: 2.2224\n",
            "Epoch 83/100\n",
            "\u001b[1m96/96\u001b[0m \u001b[32m━━━━━━━━━━━━━━━━━━━━\u001b[0m\u001b[37m\u001b[0m \u001b[1m2s\u001b[0m 17ms/step - accuracy: 0.8134 - loss: 0.6454 - val_accuracy: 0.3976 - val_loss: 2.3109\n",
            "Epoch 84/100\n",
            "\u001b[1m96/96\u001b[0m \u001b[32m━━━━━━━━━━━━━━━━━━━━\u001b[0m\u001b[37m\u001b[0m \u001b[1m2s\u001b[0m 17ms/step - accuracy: 0.8146 - loss: 0.6184 - val_accuracy: 0.4052 - val_loss: 2.4096\n",
            "Epoch 85/100\n",
            "\u001b[1m96/96\u001b[0m \u001b[32m━━━━━━━━━━━━━━━━━━━━\u001b[0m\u001b[37m\u001b[0m \u001b[1m2s\u001b[0m 12ms/step - accuracy: 0.7876 - loss: 0.7084 - val_accuracy: 0.4235 - val_loss: 2.2913\n",
            "Epoch 86/100\n",
            "\u001b[1m96/96\u001b[0m \u001b[32m━━━━━━━━━━━━━━━━━━━━\u001b[0m\u001b[37m\u001b[0m \u001b[1m1s\u001b[0m 12ms/step - accuracy: 0.8167 - loss: 0.6425 - val_accuracy: 0.4052 - val_loss: 2.2839\n",
            "Epoch 87/100\n",
            "\u001b[1m96/96\u001b[0m \u001b[32m━━━━━━━━━━━━━━━━━━━━\u001b[0m\u001b[37m\u001b[0m \u001b[1m1s\u001b[0m 12ms/step - accuracy: 0.8361 - loss: 0.5773 - val_accuracy: 0.4220 - val_loss: 2.2742\n",
            "Epoch 88/100\n",
            "\u001b[1m96/96\u001b[0m \u001b[32m━━━━━━━━━━━━━━━━━━━━\u001b[0m\u001b[37m\u001b[0m \u001b[1m1s\u001b[0m 12ms/step - accuracy: 0.8470 - loss: 0.5241 - val_accuracy: 0.3364 - val_loss: 2.7024\n",
            "Epoch 89/100\n",
            "\u001b[1m96/96\u001b[0m \u001b[32m━━━━━━━━━━━━━━━━━━━━\u001b[0m\u001b[37m\u001b[0m \u001b[1m1s\u001b[0m 12ms/step - accuracy: 0.6676 - loss: 1.1517 - val_accuracy: 0.3547 - val_loss: 2.5217\n",
            "Epoch 90/100\n",
            "\u001b[1m96/96\u001b[0m \u001b[32m━━━━━━━━━━━━━━━━━━━━\u001b[0m\u001b[37m\u001b[0m \u001b[1m1s\u001b[0m 12ms/step - accuracy: 0.7285 - loss: 0.9224 - val_accuracy: 0.3838 - val_loss: 2.4006\n",
            "Epoch 91/100\n",
            "\u001b[1m96/96\u001b[0m \u001b[32m━━━━━━━━━━━━━━━━━━━━\u001b[0m\u001b[37m\u001b[0m \u001b[1m1s\u001b[0m 12ms/step - accuracy: 0.7868 - loss: 0.7075 - val_accuracy: 0.4083 - val_loss: 2.3123\n",
            "Epoch 92/100\n",
            "\u001b[1m96/96\u001b[0m \u001b[32m━━━━━━━━━━━━━━━━━━━━\u001b[0m\u001b[37m\u001b[0m \u001b[1m2s\u001b[0m 16ms/step - accuracy: 0.8168 - loss: 0.6200 - val_accuracy: 0.4006 - val_loss: 2.3248\n",
            "Epoch 93/100\n",
            "\u001b[1m96/96\u001b[0m \u001b[32m━━━━━━━━━━━━━━━━━━━━\u001b[0m\u001b[37m\u001b[0m \u001b[1m3s\u001b[0m 16ms/step - accuracy: 0.8511 - loss: 0.5266 - val_accuracy: 0.3914 - val_loss: 2.3327\n",
            "Epoch 94/100\n",
            "\u001b[1m96/96\u001b[0m \u001b[32m━━━━━━━━━━━━━━━━━━━━\u001b[0m\u001b[37m\u001b[0m \u001b[1m2s\u001b[0m 12ms/step - accuracy: 0.8324 - loss: 0.5861 - val_accuracy: 0.3976 - val_loss: 2.3428\n",
            "Epoch 95/100\n",
            "\u001b[1m96/96\u001b[0m \u001b[32m━━━━━━━━━━━━━━━━━━━━\u001b[0m\u001b[37m\u001b[0m \u001b[1m1s\u001b[0m 12ms/step - accuracy: 0.7797 - loss: 0.7530 - val_accuracy: 0.4174 - val_loss: 2.3052\n",
            "Epoch 96/100\n",
            "\u001b[1m96/96\u001b[0m \u001b[32m━━━━━━━━━━━━━━━━━━━━\u001b[0m\u001b[37m\u001b[0m \u001b[1m1s\u001b[0m 12ms/step - accuracy: 0.8150 - loss: 0.6243 - val_accuracy: 0.3960 - val_loss: 2.4018\n",
            "Epoch 97/100\n",
            "\u001b[1m96/96\u001b[0m \u001b[32m━━━━━━━━━━━━━━━━━━━━\u001b[0m\u001b[37m\u001b[0m \u001b[1m1s\u001b[0m 12ms/step - accuracy: 0.8137 - loss: 0.6351 - val_accuracy: 0.4128 - val_loss: 2.2820\n",
            "Epoch 98/100\n",
            "\u001b[1m96/96\u001b[0m \u001b[32m━━━━━━━━━━━━━━━━━━━━\u001b[0m\u001b[37m\u001b[0m \u001b[1m1s\u001b[0m 12ms/step - accuracy: 0.8611 - loss: 0.5044 - val_accuracy: 0.4159 - val_loss: 2.2800\n",
            "Epoch 99/100\n",
            "\u001b[1m96/96\u001b[0m \u001b[32m━━━━━━━━━━━━━━━━━━━━\u001b[0m\u001b[37m\u001b[0m \u001b[1m1s\u001b[0m 12ms/step - accuracy: 0.8567 - loss: 0.4940 - val_accuracy: 0.4052 - val_loss: 2.3563\n",
            "Epoch 100/100\n",
            "\u001b[1m96/96\u001b[0m \u001b[32m━━━━━━━━━━━━━━━━━━━━\u001b[0m\u001b[37m\u001b[0m \u001b[1m1s\u001b[0m 12ms/step - accuracy: 0.8640 - loss: 0.4849 - val_accuracy: 0.4297 - val_loss: 2.2883\n",
            "Accuratezza sul test: 0.4220\n"
          ]
        }
      ]
    }
  ]
}