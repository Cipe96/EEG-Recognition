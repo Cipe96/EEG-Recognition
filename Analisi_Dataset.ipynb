{
  "nbformat": 4,
  "nbformat_minor": 0,
  "metadata": {
    "colab": {
      "provenance": [],
      "include_colab_link": true
    },
    "kernelspec": {
      "name": "python3",
      "display_name": "Python 3"
    },
    "language_info": {
      "name": "python"
    }
  },
  "cells": [
    {
      "cell_type": "markdown",
      "metadata": {
        "id": "view-in-github",
        "colab_type": "text"
      },
      "source": [
        "<a href=\"https://colab.research.google.com/github/Cipe96/EEG-Recognition/blob/main/Analisi_Dataset.ipynb\" target=\"_parent\"><img src=\"https://colab.research.google.com/assets/colab-badge.svg\" alt=\"Open In Colab\"/></a>"
      ]
    },
    {
      "cell_type": "markdown",
      "source": [
        "<font size=6>**EEg Recognition: Analisi Dataset**</font>\n",
        "</br><font size=3>*Marco Cipollina, Riccardo Era*</font>\n"
      ],
      "metadata": {
        "id": "2e-lgBGFxbDu"
      }
    },
    {
      "cell_type": "markdown",
      "source": [
        "<font size=4>**Indice:**</font>\n",
        "*   [Import librerie](#1)\n",
        "*   [Downloads](#2)\n",
        "*   [Analisi Dataset](#3)"
      ],
      "metadata": {
        "id": "0M8yjfwYmIr-"
      }
    },
    {
      "cell_type": "markdown",
      "source": [
        "<a name=\"1\"></a>\n",
        "# **Import librerie**"
      ],
      "metadata": {
        "id": "VUVmRb8LmP8C"
      }
    },
    {
      "cell_type": "markdown",
      "source": [
        "Iniziamo installando la libreria MNE, essenziale per l'analisi di dati EEG grazie alla sua gestione di file in formato EDF."
      ],
      "metadata": {
        "id": "vpVUDuFzViQc"
      }
    },
    {
      "cell_type": "code",
      "source": [
        "%%capture\n",
        "# evita l' output a video\n",
        "!pip install mne"
      ],
      "metadata": {
        "id": "gk46T_kQVNaj"
      },
      "execution_count": 43,
      "outputs": []
    },
    {
      "cell_type": "markdown",
      "source": [
        "Importiamo le librerie e montiamo Google Drive per garantire l'accesso agli altri file."
      ],
      "metadata": {
        "id": "9c3Ma2Rlmiac"
      }
    },
    {
      "cell_type": "code",
      "source": [
        "import matplotlib.pyplot as plt\n",
        "from collections import Counter\n",
        "from google.colab import drive\n",
        "import pandas as pd\n",
        "import numpy as np\n",
        "import json\n",
        "import sys\n",
        "import mne\n",
        "import os"
      ],
      "metadata": {
        "id": "MJBltQXPmXAD"
      },
      "execution_count": 60,
      "outputs": []
    },
    {
      "cell_type": "code",
      "source": [
        "drive.mount('/content/drive', force_remount=True)"
      ],
      "metadata": {
        "colab": {
          "base_uri": "https://localhost:8080/"
        },
        "id": "ALBNMDMymhK7",
        "outputId": "df93ede5-ecb8-4ae4-dad8-5bb8af41d945"
      },
      "execution_count": 37,
      "outputs": [
        {
          "output_type": "stream",
          "name": "stdout",
          "text": [
            "Mounted at /content/drive\n"
          ]
        }
      ]
    },
    {
      "cell_type": "code",
      "source": [
        "#@title Percorso della cartella del progetto su Google Drive:\n",
        "\n",
        "#@markdown Se la cartella del progetto si trova nella root di Drive, scrivere solo il suo nome:\n",
        "PERCORSO_DRIVE = \"EEG Recognition (1)\" #@param {type:\"string\"}\n",
        "\n",
        "PERCORSO_DRIVE = '/content/drive/MyDrive/' + PERCORSO_DRIVE"
      ],
      "metadata": {
        "id": "Lez481oNm5Lm"
      },
      "execution_count": 34,
      "outputs": []
    },
    {
      "cell_type": "code",
      "source": [
        "print(PERCORSO_DRIVE)"
      ],
      "metadata": {
        "colab": {
          "base_uri": "https://localhost:8080/"
        },
        "id": "so5JcwIlwOFt",
        "outputId": "96b4ffbd-be05-42f6-8944-cbcf38d06d26"
      },
      "execution_count": null,
      "outputs": [
        {
          "output_type": "stream",
          "name": "stdout",
          "text": [
            "/content/drive/MyDrive/EEG Recognition (1)\n"
          ]
        }
      ]
    },
    {
      "cell_type": "code",
      "source": [
        "sys.path.append(PERCORSO_DRIVE)                       # ci permetterà di importare le funzioni presenti in altri file\n",
        "from shared_utilities import download_dataset"
      ],
      "metadata": {
        "id": "H5d-7KgaqsqQ"
      },
      "execution_count": null,
      "outputs": []
    },
    {
      "cell_type": "markdown",
      "source": [
        "Scarichiamo dal file \"EEG_Motor_Movement-Imagery_R01_ID.json\" l'ID necessario per il download del dataset."
      ],
      "metadata": {
        "id": "BCt6vJjMq99U"
      }
    },
    {
      "cell_type": "code",
      "source": [
        "with open(PERCORSO_DRIVE + '/EEG_Motor_Movement-Imagery_ID.json', 'r') as file:\n",
        "  config = json.load(file)\n",
        "\n",
        "DATASET_ID = config['DATASET_ID']"
      ],
      "metadata": {
        "id": "RQOIZLr-sI76"
      },
      "execution_count": null,
      "outputs": []
    },
    {
      "cell_type": "markdown",
      "source": [
        "<a name=\"2\"></a>\n",
        "# **Download**"
      ],
      "metadata": {
        "id": "LyPbHzAnsaYg"
      }
    },
    {
      "cell_type": "code",
      "source": [
        "#@title Impostazioni download\n",
        "\n",
        "#@markdown Nome del zip dataset post download:\n",
        "DATASET_NAME = 'EEG_Motor_Movement-Imagery.zip' #@param {type:\"string\"}\n",
        "\n",
        "download_dataset(DATASET_ID, DATASET_NAME, msg=True)"
      ],
      "metadata": {
        "id": "RU9KJSFBscEf",
        "colab": {
          "base_uri": "https://localhost:8080/"
        },
        "outputId": "1cc92845-1f6d-45bd-fae8-2c2c3539d2b2"
      },
      "execution_count": null,
      "outputs": [
        {
          "output_type": "stream",
          "name": "stderr",
          "text": [
            "Downloading...\n",
            "From (original): https://drive.google.com/uc?id=1WwuAh25Jfx-I8rY3vFGyXiI79YfLYUpH\n",
            "From (redirected): https://drive.google.com/uc?id=1WwuAh25Jfx-I8rY3vFGyXiI79YfLYUpH&confirm=t&uuid=135104ab-5ac8-459a-a7e5-840ac55052ba\n",
            "To: /content/EEG_Motor_Movement-Imagery.zip\n",
            "100%|██████████| 76.6M/76.6M [00:02<00:00, 34.0MB/s]"
          ]
        },
        {
          "output_type": "stream",
          "name": "stdout",
          "text": [
            "\n",
            "File scaricato e salvato come EEG_Motor_Movement-Imagery.zip!\n",
            "\n"
          ]
        },
        {
          "output_type": "stream",
          "name": "stderr",
          "text": [
            "\n"
          ]
        }
      ]
    },
    {
      "cell_type": "markdown",
      "source": [
        "Dopo aver scaricato il dataset lo unzippiamo ed eliminiamo i file txt e la cartella sample_data creata automaticamente da Colab."
      ],
      "metadata": {
        "id": "hokXkJe7s-RW"
      }
    },
    {
      "cell_type": "code",
      "source": [
        "%%capture\n",
        "\n",
        "! unzip \"{DATASET_NAME}\"              # unzippa il file zip\n",
        "! rm /content/AMSL/*.txt              # elimina i file txt\n",
        "! rm -r /content/sample_data          # elimina la cartella di default di Colab"
      ],
      "metadata": {
        "id": "0_MrmgwXs_Eg"
      },
      "execution_count": 38,
      "outputs": []
    },
    {
      "cell_type": "markdown",
      "source": [
        "<a name=\"3\"></a>\n",
        "# **Analisi Dataset**"
      ],
      "metadata": {
        "id": "zw_prnOR1ofi"
      }
    },
    {
      "cell_type": "markdown",
      "source": [
        "## Numero di classi"
      ],
      "metadata": {
        "id": "ZZZ2oMT-GqZP"
      }
    },
    {
      "cell_type": "markdown",
      "source": [
        "Dato che il nostro dataset è composto da una sola sessione per ciascuno volontario, ognuno dei quali rappresenta una \"classe\", possiamo esplicitare il numero delle classi listando tutti i file .edf nella directory assegnado un'etichetta univoca a ciascuno:"
      ],
      "metadata": {
        "id": "p8ZqcmF8TsUn"
      }
    },
    {
      "cell_type": "code",
      "source": [
        "dataset_path = '/content/EEG_T0/'\n",
        "files = os.listdir(dataset_path)\n",
        "classi = [f'volontario_{i+1}' for i in range(len(files))]\n",
        "print(f\"Numero di classi (volontari): {len(classes)}\")"
      ],
      "metadata": {
        "colab": {
          "base_uri": "https://localhost:8080/"
        },
        "id": "wRPpi5B2UgEs",
        "outputId": "8c9bfdb9-0399-46bb-f3f4-9d90010aa0ee"
      },
      "execution_count": 56,
      "outputs": [
        {
          "output_type": "stream",
          "name": "stdout",
          "text": [
            "Numero di classi (volontari): 109\n"
          ]
        }
      ]
    },
    {
      "cell_type": "markdown",
      "source": [
        "## Campioni per classe"
      ],
      "metadata": {
        "id": "4lYxJQnlZ5rx"
      }
    },
    {
      "cell_type": "markdown",
      "source": [
        "Utilizziamo una funzione della libreria MNE per ricavare il numero di campioni presenti per ogni specifico EEG relativo ai diversi volonari."
      ],
      "metadata": {
        "id": "NfGDqNFaaTHz"
      }
    },
    {
      "cell_type": "code",
      "source": [
        "%%capture\n",
        "campioni_per_classe = {}\n",
        "for i, file in enumerate(files):\n",
        "    raw_data = mne.io.read_raw_edf(f\"{dataset_path}/{file}\", preload=True)\n",
        "    campioni_per_classe[classi[i]] = raw_data.n_times"
      ],
      "metadata": {
        "id": "RURTRcYyX4UD"
      },
      "execution_count": 57,
      "outputs": []
    },
    {
      "cell_type": "code",
      "source": [
        "print(\"Numero di campioni per classe:\", campioni_per_classe)"
      ],
      "metadata": {
        "colab": {
          "base_uri": "https://localhost:8080/"
        },
        "id": "TvDO4ussYMWC",
        "outputId": "09f85d6a-d0cb-4881-e173-00053928ad34"
      },
      "execution_count": 58,
      "outputs": [
        {
          "output_type": "stream",
          "name": "stdout",
          "text": [
            "Numero di campioni per classe: {'volontario_1': 9760, 'volontario_2': 9760, 'volontario_3': 9760, 'volontario_4': 9600, 'volontario_5': 9760, 'volontario_6': 9760, 'volontario_7': 9760, 'volontario_8': 9600, 'volontario_9': 9600, 'volontario_10': 9760, 'volontario_11': 9760, 'volontario_12': 9760, 'volontario_13': 9760, 'volontario_14': 9760, 'volontario_15': 9760, 'volontario_16': 9760, 'volontario_17': 9760, 'volontario_18': 9760, 'volontario_19': 9760, 'volontario_20': 9760, 'volontario_21': 9760, 'volontario_22': 9760, 'volontario_23': 9760, 'volontario_24': 9760, 'volontario_25': 9760, 'volontario_26': 9760, 'volontario_27': 9760, 'volontario_28': 9760, 'volontario_29': 9760, 'volontario_30': 9760, 'volontario_31': 9760, 'volontario_32': 9760, 'volontario_33': 9760, 'volontario_34': 9760, 'volontario_35': 9760, 'volontario_36': 9760, 'volontario_37': 9760, 'volontario_38': 9760, 'volontario_39': 9760, 'volontario_40': 9760, 'volontario_41': 9760, 'volontario_42': 9760, 'volontario_43': 9760, 'volontario_44': 9760, 'volontario_45': 9760, 'volontario_46': 9760, 'volontario_47': 9760, 'volontario_48': 9760, 'volontario_49': 9760, 'volontario_50': 9760, 'volontario_51': 9760, 'volontario_52': 9760, 'volontario_53': 9760, 'volontario_54': 9760, 'volontario_55': 9760, 'volontario_56': 9760, 'volontario_57': 9760, 'volontario_58': 9760, 'volontario_59': 9760, 'volontario_60': 9760, 'volontario_61': 9760, 'volontario_62': 9760, 'volontario_63': 9600, 'volontario_64': 9760, 'volontario_65': 9760, 'volontario_66': 9760, 'volontario_67': 9760, 'volontario_68': 9760, 'volontario_69': 9760, 'volontario_70': 9760, 'volontario_71': 9760, 'volontario_72': 9760, 'volontario_73': 9760, 'volontario_74': 9760, 'volontario_75': 9760, 'volontario_76': 9760, 'volontario_77': 9760, 'volontario_78': 9760, 'volontario_79': 9760, 'volontario_80': 9760, 'volontario_81': 9760, 'volontario_82': 9760, 'volontario_83': 9760, 'volontario_84': 9760, 'volontario_85': 9760, 'volontario_86': 9760, 'volontario_87': 9760, 'volontario_88': 9760, 'volontario_89': 9760, 'volontario_90': 9760, 'volontario_91': 9760, 'volontario_92': 9760, 'volontario_93': 9760, 'volontario_94': 9760, 'volontario_95': 9760, 'volontario_96': 9760, 'volontario_97': 9760, 'volontario_98': 9760, 'volontario_99': 9760, 'volontario_100': 9760, 'volontario_101': 9760, 'volontario_102': 9760, 'volontario_103': 9760, 'volontario_104': 9760, 'volontario_105': 9760, 'volontario_106': 9760, 'volontario_107': 9760, 'volontario_108': 9760, 'volontario_109': 9760}\n"
          ]
        }
      ]
    },
    {
      "cell_type": "markdown",
      "source": [
        "Dalle informazioni raccolta costruiamo un bar plot per verificare il bilanciamento di campioni per classe."
      ],
      "metadata": {
        "id": "oopQtc3HanpR"
      }
    },
    {
      "cell_type": "code",
      "source": [
        "# Lista dei campioni per ogni volontario\n",
        "counts = list(campioni_per_classe.values())\n",
        "plt.hist(counts, bins=20)\n",
        "plt.xlabel(\"Numero di campioni per classe\")\n",
        "plt.ylabel(\"Frequenza\")\n",
        "plt.title(\"Distribuzione del numero di campioni per classe\")\n",
        "plt.show()\n",
        "\n",
        "# Analisi di bilanciamento\n",
        "media_campioni = sum(counts) / len(counts)\n",
        "print(f\"Media dei campioni per classe: {media_campioni:.2f}\")\n"
      ],
      "metadata": {
        "colab": {
          "base_uri": "https://localhost:8080/",
          "height": 489
        },
        "id": "z9d8CKYAYe6X",
        "outputId": "1efec8c2-3e6b-4639-ffc6-3b6b673caf99"
      },
      "execution_count": 59,
      "outputs": [
        {
          "output_type": "display_data",
          "data": {
            "text/plain": [
              "<Figure size 640x480 with 1 Axes>"
            ],
            "image/png": "[encoded data removed]"
          },
          "metadata": {}
        },
        {
          "output_type": "stream",
          "name": "stdout",
          "text": [
            "Media dei campioni per classe: 9754.13\n"
          ]
        }
      ]
    },
    {
      "cell_type": "code",
      "source": [
        "# Conta le occorrenze di ciascun numero di campioni\n",
        "conteggio_campioni = Counter(campioni_per_classe.values())\n",
        "\n",
        "# Stampa il numero di classi per ciascun numero di campioni\n",
        "for numero_campioni, numero_classi in conteggio_campioni.items():\n",
        "    print(f\"{numero_classi} classi hanno {numero_campioni} campioni\")"
      ],
      "metadata": {
        "colab": {
          "base_uri": "https://localhost:8080/"
        },
        "id": "q6iKimcccPxc",
        "outputId": "72c6c337-4237-4128-aca7-278a6db47d9e"
      },
      "execution_count": 61,
      "outputs": [
        {
          "output_type": "stream",
          "name": "stdout",
          "text": [
            "105 classi hanno 9760 campioni\n",
            "4 classi hanno 9600 campioni\n"
          ]
        }
      ]
    },
    {
      "cell_type": "markdown",
      "source": [
        "Come possiamo notare prima visivamente e poi nel dettaglio, il nostro dataset risulta essere molto bilanciato fra le varie classi"
      ],
      "metadata": {
        "id": "rtoJS_sLcVwp"
      }
    }
  ]
}