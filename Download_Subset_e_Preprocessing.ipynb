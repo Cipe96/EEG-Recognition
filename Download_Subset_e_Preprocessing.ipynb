{
  "nbformat": 4,
  "nbformat_minor": 0,
  "metadata": {
    "colab": {
      "provenance": [],
      "include_colab_link": true
    },
    "kernelspec": {
      "name": "python3",
      "display_name": "Python 3"
    },
    "language_info": {
      "name": "python"
    }
  },
  "cells": [
    {
      "cell_type": "markdown",
      "metadata": {
        "id": "view-in-github",
        "colab_type": "text"
      },
      "source": [
        "<a href=\"https://colab.research.google.com/github/Cipe96/EEG-Recognition/blob/main/Download_Subset_e_Preprocessing.ipynb\" target=\"_parent\"><img src=\"https://colab.research.google.com/assets/colab-badge.svg\" alt=\"Open In Colab\"/></a>"
      ]
    },
    {
      "cell_type": "markdown",
      "source": [
        "<font size=6>**EEG Recognition: Download Subset e Preprocessing**</font>\n",
        "</br><font size=3>*Marco Cipollina, Riccardo Era*</font>\n"
      ],
      "metadata": {
        "id": "Gz3cso2qkpX-"
      }
    },
    {
      "cell_type": "markdown",
      "source": [
        "<p style=\"font-size:4px;\" align=\"justify\">In questo notebook è possibile poter scaricare run specifiche del dataset \"EEG Motor Movement/Imagery\". È possibile trovare informazioni dettagliate riguardo il dataset originale al seguente <a href=\"https://physionet.org/content/eegmmidb/1.0.0/\">link</a>.</p>\n",
        "<p style=\"font-size:4px;\" align=\"justify\">Dopo il download della parte interessata è possibile svolgere per una determinata banda il preprocessing reputato migliore per il nostro task.</p>"
      ],
      "metadata": {
        "id": "ICQgDTA8lBCi"
      }
    },
    {
      "cell_type": "code",
      "source": [
        "%%capture\n",
        "# evita l' output a video\n",
        "!pip install mne"
      ],
      "metadata": {
        "id": "q_gLJQL3eioG"
      },
      "execution_count": null,
      "outputs": []
    },
    {
      "cell_type": "code",
      "execution_count": null,
      "metadata": {
        "id": "UXGRUaFUXzqL"
      },
      "outputs": [],
      "source": [
        "from IPython.display import clear_output\n",
        "import numpy as np\n",
        "from google.colab import drive\n",
        "import mne\n",
        "import os"
      ]
    },
    {
      "cell_type": "code",
      "source": [
        "drive.mount('/content/drive', force_remount=True)\n",
        "! rm -r /content/sample_data"
      ],
      "metadata": {
        "colab": {
          "base_uri": "https://localhost:8080/"
        },
        "id": "hnPDWsN1YDxe",
        "outputId": "adf6d34f-53af-4153-efa6-f2ca57b91bc6"
      },
      "execution_count": null,
      "outputs": [
        {
          "output_type": "stream",
          "name": "stdout",
          "text": [
            "Mounted at /content/drive\n"
          ]
        }
      ]
    },
    {
      "cell_type": "markdown",
      "source": [
        "Di seguito vengono descritti i task svolti dal paziente per ogni run e la loro durata in minuti:\n",
        "\n",
        "1.  basale, occhi aperti: 1 min;\n",
        "2.  basale, occhi chiusi: 1 min;\n",
        "3.  apre e chiude il pugno destro o sinistro: 2 min;\n",
        "4.  immagina di aprire e chiudere il pugno destro o sinistro: 2 min;\n",
        "5.  apre e chiude entrambi i piedi o entrambi i pugni: 2 min;\n",
        "6.  immagina di chiudere entrambi i piedi o entrambi i pugni: 2 min.\n",
        "\n",
        "Poi si ripetono gli stessi task descritti al relativo numero per le successive run:\n",
        "\n",
        "*   Task 3  -->  Run 7 e 11;\n",
        "*   Task 4  -->  Run 8 e 12;\n",
        "*   Task 5  -->  Run 9 e 13;\n",
        "*   Task 6  -->  Run 10 e 14."
      ],
      "metadata": {
        "id": "x6sS1o1cWDnq"
      }
    },
    {
      "cell_type": "code",
      "source": [
        "#@title Scegli quale Run scaricare\n",
        "\n",
        "#@markdown Inserire un valore compreso fra 1 e 14 inclusi:\n",
        "\n",
        "run = 4 #@param {type:\"integer\"}\n",
        "run = f\"R{run:02d}\"\n",
        "\n",
        "# Crea la cartella di destinazione se non esiste\n",
        "dest_dir = f\"/content/{run}\"\n",
        "os.makedirs(dest_dir, exist_ok=True)                                            # Crea la cartella se non esiste"
      ],
      "metadata": {
        "id": "w6rl-vkaYYrl"
      },
      "execution_count": null,
      "outputs": []
    },
    {
      "cell_type": "code",
      "source": [
        "# Da S001 a S109\n",
        "for i in range(1, 110):\n",
        "    volontario = f\"S{i:03d}\"                                                    # Formatta come S001, S002, ..., S109\n",
        "    url = f\"https://www.physionet.org/files/eegmmidb/1.0.0/{volontario}/{volontario}{run}.edf\"\n",
        "    print(f\"Scaricando il file {i}/109\\n\")\n",
        "    !wget -P {dest_dir} {url}\n",
        "    clear_output(wait=True)\n"
      ],
      "metadata": {
        "colab": {
          "base_uri": "https://localhost:8080/"
        },
        "id": "5HNaKBBbYK-B",
        "outputId": "5142edf1-1556-47d0-ecc6-ba6a550ccaf0"
      },
      "execution_count": null,
      "outputs": [
        {
          "output_type": "stream",
          "name": "stdout",
          "text": [
            "Scaricando il file 109/109\n",
            "\n",
            "--2024-11-14 15:38:08--  https://www.physionet.org/files/eegmmidb/1.0.0/S109/S109R04.edf\n",
            "Resolving www.physionet.org (www.physionet.org)... 18.18.42.54\n",
            "Connecting to www.physionet.org (www.physionet.org)|18.18.42.54|:443... connected.\n",
            "HTTP request sent, awaiting response... 200 OK\n",
            "Length: 2555616 (2.4M) [application/octet-stream]\n",
            "Saving to: ‘/content/R04/S109R04.edf’\n",
            "\n",
            "S109R04.edf         100%[===================>]   2.44M   496KB/s    in 5.1s    \n",
            "\n",
            "2024-11-14 15:38:13 (486 KB/s) - ‘/content/R04/S109R04.edf’ saved [2555616/2555616]\n",
            "\n"
          ]
        }
      ]
    },
    {
      "cell_type": "code",
      "source": [
        "files = sorted(os.listdir(dest_dir))"
      ],
      "metadata": {
        "id": "jgsl8ORNfRxs"
      },
      "execution_count": null,
      "outputs": []
    },
    {
      "cell_type": "markdown",
      "source": [
        "<a name=\"4\"></a>\n",
        "# **Preprocessing**"
      ],
      "metadata": {
        "id": "IdV0uzZmfq47"
      }
    },
    {
      "cell_type": "markdown",
      "source": [
        "Riproduciamo il preprocessing che ci ha portato ai migliori risultati durante la Run01."
      ],
      "metadata": {
        "id": "YDvPOHkufCl1"
      }
    },
    {
      "cell_type": "markdown",
      "source": [
        "Questa fase si divide in tre punti:\n",
        "*   segmentare i record EEG in campioni di 1,5 secondi;\n",
        "*   analizzare come le prestazioni cambiano modificando il filtro della banda del segnale;\n",
        "*   suddividere i campioni in 70% per l'addestramento, 15% per la validazione e il 15% rimanente per il test.\n",
        "\n"
      ],
      "metadata": {
        "id": "KtCyT60Hszjd"
      }
    },
    {
      "cell_type": "code",
      "source": [
        "#@title Parametri segmentazione e suddivisione\n",
        "\n",
        "duration = 1.5\n",
        "train_ratio = 0.7\n",
        "val_ratio = 0.15\n",
        "test_ratio = 0.15"
      ],
      "metadata": {
        "id": "iGEIMVuTtvoS"
      },
      "execution_count": null,
      "outputs": []
    },
    {
      "cell_type": "code",
      "source": [
        "bande = {'delta': (0.5, 4), 'theta': (4, 8), 'alpha': (8, 13), 'beta': (13, 30), 'gamma': (30, 40), 'broadband': (1, 79.9), 'personalizzata': (1, 40), 'ABG': (8,40)}\n"
      ],
      "metadata": {
        "id": "BvQq8uWCe7qG"
      },
      "execution_count": null,
      "outputs": []
    },
    {
      "cell_type": "markdown",
      "source": [
        "Salveremo dentro delle apposite cartelle tutti i dataset preprocessati divisi per banda."
      ],
      "metadata": {
        "id": "jYFBrwq0KYl0"
      }
    },
    {
      "cell_type": "markdown",
      "source": [
        "La banda che utilizzeremo d'ora in poi è la ABG, che copre le frequenze da 8 a 40 Hz, ossia l'insieme di Alpha, Beta e Gamma."
      ],
      "metadata": {
        "id": "471Q4oPrYHj6"
      }
    },
    {
      "cell_type": "code",
      "source": [
        "#@title Seleziona la banda che vuoi utilizzare:\n",
        "\n",
        "#@markdown (delta, theta, alpha, beta, gamma, broadband, personalizzata, ABG)\n",
        "\n",
        "banda = 'ABG' #@param ['delta', 'theta', 'alpha', 'beta', 'gamma', 'broadband', 'personalizzata', 'ABG']\n",
        "\n",
        "save_path = f'/content/drive/MyDrive/EEG Recognition/Dati preprocessati/{run}/{banda}'\n",
        "\n",
        "# Verifica se la cartella esiste già\n",
        "if not os.path.exists(save_path):\n",
        "    os.makedirs(save_path)                                                      # Crea la cartella\n",
        "    print(f\"Cartella '{save_path}' creata con successo.\")\n",
        "else:\n",
        "    print(f\"La cartella '{save_path}' esiste già.\")\n"
      ],
      "metadata": {
        "id": "r_XGwoBlLruY",
        "colab": {
          "base_uri": "https://localhost:8080/"
        },
        "outputId": "84392ecb-0682-4559-a1de-f283be259e68"
      },
      "execution_count": null,
      "outputs": [
        {
          "output_type": "stream",
          "name": "stdout",
          "text": [
            "Cartella '/content/drive/MyDrive/EEG Recognition/Dati preprocessati/R04/ABG' creata con successo.\n"
          ]
        }
      ]
    },
    {
      "cell_type": "markdown",
      "source": [
        "Durante la Run01 tutti i volontari sono stati registrati con una frequenza di campionamento pari a 160 Hz.\n",
        "\n",
        "Qui di seguito abbiamo aggiunto una riga di codice per garantire la frequenza di campionamento sempre a 160. Il volontario 88 di 109, infatti, risulta con frequenza pari a 128 Hz per tutte le run dalla 3 alla 14."
      ],
      "metadata": {
        "id": "wSXruV6Xm8Ms"
      }
    },
    {
      "cell_type": "code",
      "source": [
        "# Liste per memorizzare i segmenti e le etichette di train, validation e test\n",
        "all_train_data = []\n",
        "all_val_data = []\n",
        "all_test_data = []\n",
        "all_train_labels = []\n",
        "all_val_labels = []\n",
        "all_test_labels = []\n",
        "\n",
        "\n",
        "# Ciclo su tutti i file .edf\n",
        "for i, eeg in enumerate(files):\n",
        "    print(f\"Elaborazione del volontario {i + 1} su {len(files)}\\n\")\n",
        "\n",
        "    # Carica il file EDF\n",
        "    raw_data = mne.io.read_raw_edf(f\"{dest_dir}/{eeg}\", preload=True, verbose = 'CRITICAL')\n",
        "\n",
        "    #converti a 160 Hz\n",
        "    if(raw_data.info['sfreq'] != 160):\n",
        "      raw_data = raw_data.copy().resample(160)\n",
        "    label = i                                                                   # Ottieni l'etichetta del file\n",
        "\n",
        "    # Filtro per bande\n",
        "    raw_data.filter(l_freq=bande[banda][0], h_freq=bande[banda][1], n_jobs=8, verbose = 'CRITICAL')\n",
        "\n",
        "    # Creazione delle epoche a lunghezza fissa\n",
        "    epochs = mne.make_fixed_length_epochs(raw_data, duration=duration, overlap=0)\n",
        "\n",
        "    # Estrazione dei dati come array NumPy\n",
        "    data = epochs.get_data()                                                    # Dimensioni: (n_epochs, n_channels, n_times)\n",
        "\n",
        "    # Ora, dopo aver terminato tutte le operazioni di `mne`, si può convertire i dati in float32\n",
        "    data = data.astype(np.float32)\n",
        "\n",
        "    data = np.array([epoch.T for epoch in data])                                # Riduci ogni epoca\n",
        "\n",
        "    clear_output(wait=True)\n",
        "\n",
        "    # Genera le etichette per ciascuna epoca\n",
        "    labels_for_file = [label] * len(data)                                       # Assegna la stessa etichetta a tutte le epoche del file\n",
        "\n",
        "    # Calcolo del numero di segmenti per ciascun set (train, val, test)\n",
        "    n_samples = len(data)\n",
        "    n_train = int(n_samples * train_ratio)\n",
        "    n_val = int(n_samples * val_ratio)\n",
        "\n",
        "    train_data, val_data, test_data = data[:n_train], data[n_train:n_train + n_val], data[n_train + n_val:]\n",
        "    train_labels, val_labels, test_labels = labels_for_file[:n_train], labels_for_file[n_train:n_train + n_val], labels_for_file[n_train + n_val:]\n",
        "\n",
        "    # Aggiungi i segmenti e le etichette di questo file alle liste globali\n",
        "    all_train_data.append(train_data)\n",
        "    all_val_data.append(val_data)\n",
        "    all_test_data.append(test_data)\n",
        "    all_train_labels.extend(train_labels)\n",
        "    all_val_labels.extend(val_labels)\n",
        "    all_test_labels.extend(test_labels)\n",
        "\n",
        "\n",
        "# Concatena tutti i segmenti e le etichette\n",
        "train_data = np.concatenate(all_train_data, axis=0)\n",
        "val_data = np.concatenate(all_val_data, axis=0)\n",
        "test_data = np.concatenate(all_test_data, axis=0)\n",
        "train_labels = np.array(all_train_labels)\n",
        "val_labels = np.array(all_val_labels)\n",
        "test_labels = np.array(all_test_labels)\n",
        "\n",
        "# Calcola la media e la deviazione standard globali (usando solo i dati di train per evitare leakage)\n",
        "media = np.mean(train_data, axis=(0, 1))\n",
        "dev_std = np.std(train_data, axis=(0, 1))\n",
        "\n",
        "# Normalizza i dati di train, validation e test usando la media e la deviazione standard\n",
        "train_data = (train_data - media) / dev_std\n",
        "val_data = (val_data - media) / dev_std\n",
        "test_data = (test_data - media) / dev_std\n"
      ],
      "metadata": {
        "colab": {
          "base_uri": "https://localhost:8080/"
        },
        "id": "vxbwV-FCl-7K",
        "outputId": "8fe1487e-933b-4fc1-e7d6-aeb538b53e1b"
      },
      "execution_count": null,
      "outputs": [
        {
          "output_type": "stream",
          "name": "stdout",
          "text": [
            "Train set shape: (6235, 240, 64), Train labels shape: (6235,)\n",
            "Validation set shape: (1308, 240, 64), Validation labels shape: (1308,)\n",
            "Test set shape: (1417, 240, 64), Test labels shape: (1417,)\n"
          ]
        }
      ]
    },
    {
      "cell_type": "code",
      "source": [
        "#@title Verifichiamo le dimensioni dei dataset e delle etichette\n",
        "\n",
        "print(f\"Train set shape: {train_data.shape}, Train labels shape: {train_labels.shape}\")\n",
        "print(f\"Validation set shape: {val_data.shape}, Validation labels shape: {val_labels.shape}\")\n",
        "print(f\"Test set shape: {test_data.shape}, Test labels shape: {test_labels.shape}\")"
      ],
      "metadata": {
        "id": "v31hFgqEY0Cj"
      },
      "execution_count": null,
      "outputs": []
    },
    {
      "cell_type": "code",
      "source": [
        "#@title Salviamo i dataset e le etichette in formato .npy\n",
        "\n",
        "np.save(f\"{save_path}/train_data_{banda}.npy\", train_data)\n",
        "np.save(f\"{save_path}/train_labels_{banda}.npy\", train_labels)\n",
        "np.save(f\"{save_path}/val_data_{banda}.npy\", val_data)\n",
        "np.save(f\"{save_path}/val_labels_{banda}.npy\", val_labels)\n",
        "np.save(f\"{save_path}/test_data_{banda}.npy\", test_data)\n",
        "np.save(f\"{save_path}/test_labels_{banda}.npy\", test_labels)"
      ],
      "metadata": {
        "id": "2efKdTBgY8_R"
      },
      "execution_count": null,
      "outputs": []
    },
    {
      "cell_type": "markdown",
      "source": [
        "Una volta salvati i dataset preprocessati di interesse è tutto pronto per poter cambiare notebook e dare tutto in pasto a qualche classificatore."
      ],
      "metadata": {
        "id": "8j783NXQsxQh"
      }
    }
  ]
}