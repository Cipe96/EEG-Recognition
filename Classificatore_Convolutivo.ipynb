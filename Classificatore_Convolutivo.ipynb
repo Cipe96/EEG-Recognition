{
  "nbformat": 4,
  "nbformat_minor": 0,
  "metadata": {
    "colab": {
      "provenance": [],
      "gpuType": "T4",
      "include_colab_link": true
    },
    "kernelspec": {
      "name": "python3",
      "display_name": "Python 3"
    },
    "language_info": {
      "name": "python"
    },
    "accelerator": "GPU"
  },
  "cells": [
    {
      "cell_type": "markdown",
      "metadata": {
        "id": "view-in-github",
        "colab_type": "text"
      },
      "source": [
        "<a href=\"https://colab.research.google.com/github/Cipe96/EEG-Recognition/blob/main/Classificatore_Convolutivo.ipynb\" target=\"_parent\"><img src=\"https://colab.research.google.com/assets/colab-badge.svg\" alt=\"Open In Colab\"/></a>"
      ]
    },
    {
      "cell_type": "markdown",
      "source": [
        "<font size=6>**EEG Recognition: Classificatore Convolutivo**</font>\n",
        "</br><font size=3>*Marco Cipollina, Riccardo Era*</font>\n"
      ],
      "metadata": {
        "id": "2e-lgBGFxbDu"
      }
    },
    {
      "cell_type": "markdown",
      "source": [
        "<p style=\"font-size:4px;\" align=\"justify\">Dopo aver svolto vari tipi di analisi sul nostro dataset e considerate le varie possibilità di preprocessing attuabile in \"Analisi Dataset e Preprocessing\", in questo notebook viene costruito e addestrato un modello Convolutivo 1D tramite la funzione convolutivo presente in \"shared_utilities.py\".</p>\n",
        "<p style=\"font-size:4px;\" align=\"justify\">Qui sotto è perciò possibile caricare e lavorare su un determinato dataset e salvarne i risultati. I dati da noi ottenuti saranno confrontati ed esposti nel noteobok \"Risultati\".</p>"
      ],
      "metadata": {
        "id": "IsDiDI8VR-7Q"
      }
    },
    {
      "cell_type": "markdown",
      "source": [
        "<font size=4>**Indice:**</font>\n",
        "*   [Import librerie](#1)\n",
        "*   [Downloads](#2)\n",
        "*   [Classificatore](#3)"
      ],
      "metadata": {
        "id": "0M8yjfwYmIr-"
      }
    },
    {
      "cell_type": "markdown",
      "source": [
        "<a name=\"1\"></a>\n",
        "# **Import librerie**"
      ],
      "metadata": {
        "id": "GmCB5EJWMzU1"
      }
    },
    {
      "cell_type": "markdown",
      "source": [
        "Importiamo le librerie e montiamo Google Drive per garantire l'accesso agli altri file."
      ],
      "metadata": {
        "id": "k8v_8E4sEJzK"
      }
    },
    {
      "cell_type": "code",
      "source": [
        "from sklearn.utils import shuffle\n",
        "import matplotlib.pyplot as plt\n",
        "from google.colab import drive\n",
        "import tensorflow as tf\n",
        "import pandas as pd\n",
        "import numpy as np\n",
        "import sys\n",
        "import os\n",
        "\n",
        "SEED = 96                                                                       #Impostiamo un seme specifico per garantire la replicabilità degli esperimenti"
      ],
      "metadata": {
        "id": "MJBltQXPmXAD"
      },
      "execution_count": null,
      "outputs": []
    },
    {
      "cell_type": "code",
      "source": [
        "%%capture\n",
        "drive.mount('/content/drive', force_remount=True)\n",
        "\n",
        "# elimina la cartella sample_data creata automaticamente\n",
        "! rm -r /content/sample_data"
      ],
      "metadata": {
        "id": "ALBNMDMymhK7"
      },
      "execution_count": null,
      "outputs": []
    },
    {
      "cell_type": "code",
      "source": [
        "#@title Percorso della cartella del progetto su Google Drive:\n",
        "\n",
        "#@markdown Se la cartella del progetto si trova nella root di Drive, scrivere solo il suo nome:\n",
        "\n",
        "PERCORSO_DRIVE = \"EEG Recognition\" #@param {type:\"string\"}\n",
        "\n",
        "PERCORSO_DRIVE = '/content/drive/MyDrive/' + PERCORSO_DRIVE"
      ],
      "metadata": {
        "id": "-XqpUIet6OeF"
      },
      "execution_count": null,
      "outputs": []
    },
    {
      "cell_type": "code",
      "source": [
        "sys.path.append(PERCORSO_DRIVE)                                                 # ci permetterà di importare le funzioni presenti in altri file\n",
        "from shared_utilities import convolutivo                                        # importare il classificatore convolutivo"
      ],
      "metadata": {
        "id": "gvS_0x-p6b3Q"
      },
      "execution_count": null,
      "outputs": []
    },
    {
      "cell_type": "markdown",
      "source": [
        "<a name=\"2\"></a>\n",
        "# **Download**"
      ],
      "metadata": {
        "id": "LyPbHzAnsaYg"
      }
    },
    {
      "cell_type": "code",
      "source": [
        "#@title Seleziona la Run che vuoi utilizzare (fra quelle che hai sul drive):\n",
        "\n",
        "#@markdown Inserisci un valore compreso fra 1 e 14 inclusi:\n",
        "\n",
        "run = 1 #@param {type:\"integer\"}\n",
        "run = f\"R{run:02d}\"\n"
      ],
      "metadata": {
        "id": "536BlkYWsZqY"
      },
      "execution_count": null,
      "outputs": []
    },
    {
      "cell_type": "code",
      "source": [
        "#@title Seleziona la banda che vuoi utilizzare:\n",
        "\n",
        "#@markdown (delta, theta, alpha, beta, gamma, broadband, personalizzata, ABG)\n",
        "\n",
        "banda = 'beta' #@param ['delta', 'theta', 'alpha', 'beta', 'gamma', 'broadband', 'personalizzata', 'ABG']\n",
        "save_path = f'{PERCORSO_DRIVE}/Dati preprocessati/{run}/{banda}'"
      ],
      "metadata": {
        "id": "Lez481oNm5Lm"
      },
      "execution_count": null,
      "outputs": []
    },
    {
      "cell_type": "code",
      "source": [
        "#@title Carica i dati\n",
        "train_data = np.load(f\"{save_path}/train_data_{banda}.npy\")\n",
        "train_labels = np.load(f\"{save_path}/train_labels_{banda}.npy\")\n",
        "val_data = np.load(f\"{save_path}/val_data_{banda}.npy\")\n",
        "val_labels = np.load(f\"{save_path}/val_labels_{banda}.npy\")\n",
        "test_data = np.load(f\"{save_path}/test_data_{banda}.npy\")\n",
        "test_labels = np.load(f\"{save_path}/test_labels_{banda}.npy\")"
      ],
      "metadata": {
        "id": "JG5VzsHVwvnt"
      },
      "execution_count": null,
      "outputs": []
    },
    {
      "cell_type": "markdown",
      "source": [
        "Controlliamo che la shape sia coerente con quella che ci servirà per il modello di classificazione"
      ],
      "metadata": {
        "id": "RwGApKMqEXIv"
      }
    },
    {
      "cell_type": "code",
      "source": [
        "# Verifica le dimensioni dei dataset e delle etichette\n",
        "print(f\"Train set shape: {train_data.shape}, Train labels shape: {train_labels.shape}\")\n",
        "print(f\"Validation set shape: {val_data.shape}, Validation labels shape: {val_labels.shape}\")\n",
        "print(f\"Test set shape: {test_data.shape}, Test labels shape: {test_labels.shape}\")"
      ],
      "metadata": {
        "colab": {
          "base_uri": "https://localhost:8080/"
        },
        "id": "xzjd9fzDzTOV",
        "outputId": "d7bb9909-00a1-42b0-cefb-46da2e92761e"
      },
      "execution_count": null,
      "outputs": [
        {
          "output_type": "stream",
          "name": "stdout",
          "text": [
            "Train set shape: (3052, 240, 64), Train labels shape: (3052,)\n",
            "Validation set shape: (654, 240, 64), Validation labels shape: (654,)\n",
            "Test set shape: (654, 240, 64), Test labels shape: (654,)\n"
          ]
        }
      ]
    },
    {
      "cell_type": "markdown",
      "source": [
        "Effettuiamo uno shuffle del dataset per evitare di dare in pasto i dati al modello in maniera ordinata, permettendo così un addestramento meno condizionato."
      ],
      "metadata": {
        "id": "QEfnoMyDEjY1"
      }
    },
    {
      "cell_type": "code",
      "source": [
        "# shuffle dei dataset e ettichette con stesso ordine di shuffle\n",
        "train_data, train_labels = shuffle(train_data, train_labels, random_state=SEED)\n",
        "val_data, val_labels = shuffle(val_data, val_labels, random_state=SEED)\n",
        "test_data, test_labels = shuffle(test_data, test_labels, random_state=SEED)\n"
      ],
      "metadata": {
        "id": "yVyfhLl2hj-I"
      },
      "execution_count": null,
      "outputs": []
    },
    {
      "cell_type": "code",
      "source": [
        "# Riprendiamo il numero di classi esistenti\n",
        "num_classes = len(np.unique(train_labels))\n",
        "print(\"Numero di classi:\", num_classes)\n",
        "\n",
        "# Convertiamo le etichette in one-hot encoding\n",
        "y_train = tf.keras.utils.to_categorical(train_labels, num_classes=num_classes)\n",
        "y_val = tf.keras.utils.to_categorical(val_labels, num_classes=num_classes)\n",
        "y_test = tf.keras.utils.to_categorical(test_labels, num_classes=num_classes)\n"
      ],
      "metadata": {
        "colab": {
          "base_uri": "https://localhost:8080/"
        },
        "id": "jHSPHq2eW5YX",
        "outputId": "16ce9acc-f13a-413a-b309-250811bef2b5"
      },
      "execution_count": null,
      "outputs": [
        {
          "output_type": "stream",
          "name": "stdout",
          "text": [
            "Numero di classi: 109\n"
          ]
        }
      ]
    },
    {
      "cell_type": "markdown",
      "source": [
        "<a name=\"3\"></a>\n",
        "# **Classificatore**"
      ],
      "metadata": {
        "id": "-IncMLiyL8MD"
      }
    },
    {
      "cell_type": "markdown",
      "source": [
        "Costruiamo il nostro modello convoluzionale utilizzando alcune delle best practices (SeparableConv, DropOut, BatchNormalization) e uno strato Dense per permetterci di classificare i nostri volontari."
      ],
      "metadata": {
        "id": "q7Jx8PacHMg1"
      }
    },
    {
      "cell_type": "code",
      "source": [
        "# Preleviamo la shape da dare in input al modello\n",
        "shape=(train_data.shape[1], train_data.shape[2])\n",
        "\n",
        "# Impostiamo i parametri per i blocchi convolutivi\n",
        "filtri = 64\n",
        "strati = 1\n",
        "dropout = 0.15\n",
        "primo_sep = False\n",
        "\n",
        "model = convolutivo(num_classes, shape, filtri, dropout, strati, primo_sep)\n",
        "\n",
        "# Compiliamo il modello\n",
        "model.compile(loss='categorical_crossentropy', optimizer='adam', metrics=['accuracy'])"
      ],
      "metadata": {
        "id": "3s_ueUSb_JDf"
      },
      "execution_count": null,
      "outputs": []
    },
    {
      "cell_type": "markdown",
      "source": [
        "Verifichiamo che il modello sia costruito come vogliamo."
      ],
      "metadata": {
        "id": "5BQ2RFxhKWcv"
      }
    },
    {
      "cell_type": "code",
      "source": [
        "model.summary()"
      ],
      "metadata": {
        "colab": {
          "base_uri": "https://localhost:8080/",
          "height": 367
        },
        "id": "Fr-mBF1xKU5g",
        "outputId": "79c2943b-754d-4bc7-fe93-e2519352e5d3"
      },
      "execution_count": null,
      "outputs": [
        {
          "output_type": "display_data",
          "data": {
            "text/plain": [
              "\u001b[1mModel: \"functional\"\u001b[0m\n"
            ],
            "text/html": [
              "<pre style=\"white-space:pre;overflow-x:auto;line-height:normal;font-family:Menlo,'DejaVu Sans Mono',consolas,'Courier New',monospace\"><span style=\"font-weight: bold\">Model: \"functional\"</span>\n",
              "</pre>\n"
            ]
          },
          "metadata": {}
        },
        {
          "output_type": "display_data",
          "data": {
            "text/plain": [
              "┏━━━━━━━━━━━━━━━━━━━━━━━━━━━━━━━━━━━━━━┳━━━━━━━━━━━━━━━━━━━━━━━━━━━━━┳━━━━━━━━━━━━━━━━━┓\n",
              "┃\u001b[1m \u001b[0m\u001b[1mLayer (type)                        \u001b[0m\u001b[1m \u001b[0m┃\u001b[1m \u001b[0m\u001b[1mOutput Shape               \u001b[0m\u001b[1m \u001b[0m┃\u001b[1m \u001b[0m\u001b[1m        Param #\u001b[0m\u001b[1m \u001b[0m┃\n",
              "┡━━━━━━━━━━━━━━━━━━━━━━━━━━━━━━━━━━━━━━╇━━━━━━━━━━━━━━━━━━━━━━━━━━━━━╇━━━━━━━━━━━━━━━━━┩\n",
              "│ input_layer (\u001b[38;5;33mInputLayer\u001b[0m)             │ (\u001b[38;5;45mNone\u001b[0m, \u001b[38;5;34m240\u001b[0m, \u001b[38;5;34m64\u001b[0m)             │               \u001b[38;5;34m0\u001b[0m │\n",
              "├──────────────────────────────────────┼─────────────────────────────┼─────────────────┤\n",
              "│ conv1d (\u001b[38;5;33mConv1D\u001b[0m)                      │ (\u001b[38;5;45mNone\u001b[0m, \u001b[38;5;34m240\u001b[0m, \u001b[38;5;34m64\u001b[0m)             │          \u001b[38;5;34m12,352\u001b[0m │\n",
              "├──────────────────────────────────────┼─────────────────────────────┼─────────────────┤\n",
              "│ batch_normalization                  │ (\u001b[38;5;45mNone\u001b[0m, \u001b[38;5;34m240\u001b[0m, \u001b[38;5;34m64\u001b[0m)             │             \u001b[38;5;34m256\u001b[0m │\n",
              "│ (\u001b[38;5;33mBatchNormalization\u001b[0m)                 │                             │                 │\n",
              "├──────────────────────────────────────┼─────────────────────────────┼─────────────────┤\n",
              "│ dropout (\u001b[38;5;33mDropout\u001b[0m)                    │ (\u001b[38;5;45mNone\u001b[0m, \u001b[38;5;34m240\u001b[0m, \u001b[38;5;34m64\u001b[0m)             │               \u001b[38;5;34m0\u001b[0m │\n",
              "├──────────────────────────────────────┼─────────────────────────────┼─────────────────┤\n",
              "│ global_average_pooling1d             │ (\u001b[38;5;45mNone\u001b[0m, \u001b[38;5;34m64\u001b[0m)                  │               \u001b[38;5;34m0\u001b[0m │\n",
              "│ (\u001b[38;5;33mGlobalAveragePooling1D\u001b[0m)             │                             │                 │\n",
              "├──────────────────────────────────────┼─────────────────────────────┼─────────────────┤\n",
              "│ dense (\u001b[38;5;33mDense\u001b[0m)                        │ (\u001b[38;5;45mNone\u001b[0m, \u001b[38;5;34m109\u001b[0m)                 │           \u001b[38;5;34m7,085\u001b[0m │\n",
              "└──────────────────────────────────────┴─────────────────────────────┴─────────────────┘\n"
            ],
            "text/html": [
              "<pre style=\"white-space:pre;overflow-x:auto;line-height:normal;font-family:Menlo,'DejaVu Sans Mono',consolas,'Courier New',monospace\">┏━━━━━━━━━━━━━━━━━━━━━━━━━━━━━━━━━━━━━━┳━━━━━━━━━━━━━━━━━━━━━━━━━━━━━┳━━━━━━━━━━━━━━━━━┓\n",
              "┃<span style=\"font-weight: bold\"> Layer (type)                         </span>┃<span style=\"font-weight: bold\"> Output Shape                </span>┃<span style=\"font-weight: bold\">         Param # </span>┃\n",
              "┡━━━━━━━━━━━━━━━━━━━━━━━━━━━━━━━━━━━━━━╇━━━━━━━━━━━━━━━━━━━━━━━━━━━━━╇━━━━━━━━━━━━━━━━━┩\n",
              "│ input_layer (<span style=\"color: #0087ff; text-decoration-color: #0087ff\">InputLayer</span>)             │ (<span style=\"color: #00d7ff; text-decoration-color: #00d7ff\">None</span>, <span style=\"color: #00af00; text-decoration-color: #00af00\">240</span>, <span style=\"color: #00af00; text-decoration-color: #00af00\">64</span>)             │               <span style=\"color: #00af00; text-decoration-color: #00af00\">0</span> │\n",
              "├──────────────────────────────────────┼─────────────────────────────┼─────────────────┤\n",
              "│ conv1d (<span style=\"color: #0087ff; text-decoration-color: #0087ff\">Conv1D</span>)                      │ (<span style=\"color: #00d7ff; text-decoration-color: #00d7ff\">None</span>, <span style=\"color: #00af00; text-decoration-color: #00af00\">240</span>, <span style=\"color: #00af00; text-decoration-color: #00af00\">64</span>)             │          <span style=\"color: #00af00; text-decoration-color: #00af00\">12,352</span> │\n",
              "├──────────────────────────────────────┼─────────────────────────────┼─────────────────┤\n",
              "│ batch_normalization                  │ (<span style=\"color: #00d7ff; text-decoration-color: #00d7ff\">None</span>, <span style=\"color: #00af00; text-decoration-color: #00af00\">240</span>, <span style=\"color: #00af00; text-decoration-color: #00af00\">64</span>)             │             <span style=\"color: #00af00; text-decoration-color: #00af00\">256</span> │\n",
              "│ (<span style=\"color: #0087ff; text-decoration-color: #0087ff\">BatchNormalization</span>)                 │                             │                 │\n",
              "├──────────────────────────────────────┼─────────────────────────────┼─────────────────┤\n",
              "│ dropout (<span style=\"color: #0087ff; text-decoration-color: #0087ff\">Dropout</span>)                    │ (<span style=\"color: #00d7ff; text-decoration-color: #00d7ff\">None</span>, <span style=\"color: #00af00; text-decoration-color: #00af00\">240</span>, <span style=\"color: #00af00; text-decoration-color: #00af00\">64</span>)             │               <span style=\"color: #00af00; text-decoration-color: #00af00\">0</span> │\n",
              "├──────────────────────────────────────┼─────────────────────────────┼─────────────────┤\n",
              "│ global_average_pooling1d             │ (<span style=\"color: #00d7ff; text-decoration-color: #00d7ff\">None</span>, <span style=\"color: #00af00; text-decoration-color: #00af00\">64</span>)                  │               <span style=\"color: #00af00; text-decoration-color: #00af00\">0</span> │\n",
              "│ (<span style=\"color: #0087ff; text-decoration-color: #0087ff\">GlobalAveragePooling1D</span>)             │                             │                 │\n",
              "├──────────────────────────────────────┼─────────────────────────────┼─────────────────┤\n",
              "│ dense (<span style=\"color: #0087ff; text-decoration-color: #0087ff\">Dense</span>)                        │ (<span style=\"color: #00d7ff; text-decoration-color: #00d7ff\">None</span>, <span style=\"color: #00af00; text-decoration-color: #00af00\">109</span>)                 │           <span style=\"color: #00af00; text-decoration-color: #00af00\">7,085</span> │\n",
              "└──────────────────────────────────────┴─────────────────────────────┴─────────────────┘\n",
              "</pre>\n"
            ]
          },
          "metadata": {}
        },
        {
          "output_type": "display_data",
          "data": {
            "text/plain": [
              "\u001b[1m Total params: \u001b[0m\u001b[38;5;34m19,693\u001b[0m (76.93 KB)\n"
            ],
            "text/html": [
              "<pre style=\"white-space:pre;overflow-x:auto;line-height:normal;font-family:Menlo,'DejaVu Sans Mono',consolas,'Courier New',monospace\"><span style=\"font-weight: bold\"> Total params: </span><span style=\"color: #00af00; text-decoration-color: #00af00\">19,693</span> (76.93 KB)\n",
              "</pre>\n"
            ]
          },
          "metadata": {}
        },
        {
          "output_type": "display_data",
          "data": {
            "text/plain": [
              "\u001b[1m Trainable params: \u001b[0m\u001b[38;5;34m19,565\u001b[0m (76.43 KB)\n"
            ],
            "text/html": [
              "<pre style=\"white-space:pre;overflow-x:auto;line-height:normal;font-family:Menlo,'DejaVu Sans Mono',consolas,'Courier New',monospace\"><span style=\"font-weight: bold\"> Trainable params: </span><span style=\"color: #00af00; text-decoration-color: #00af00\">19,565</span> (76.43 KB)\n",
              "</pre>\n"
            ]
          },
          "metadata": {}
        },
        {
          "output_type": "display_data",
          "data": {
            "text/plain": [
              "\u001b[1m Non-trainable params: \u001b[0m\u001b[38;5;34m128\u001b[0m (512.00 B)\n"
            ],
            "text/html": [
              "<pre style=\"white-space:pre;overflow-x:auto;line-height:normal;font-family:Menlo,'DejaVu Sans Mono',consolas,'Courier New',monospace\"><span style=\"font-weight: bold\"> Non-trainable params: </span><span style=\"color: #00af00; text-decoration-color: #00af00\">128</span> (512.00 B)\n",
              "</pre>\n"
            ]
          },
          "metadata": {}
        }
      ]
    },
    {
      "cell_type": "markdown",
      "source": [
        "Creiamo una callback per salvare i pesi con i quali si otterranno i risultati migliori sul validation set e avviamo il training."
      ],
      "metadata": {
        "id": "8kyYkPxsLQaD"
      }
    },
    {
      "source": [
        "#@title Addestramento con validazione\n",
        "#Salviamo i pesi dell'epoca in cui abbiamo ottenuto il val_loss minore\n",
        "callback = [\n",
        "    tf.keras.callbacks.ModelCheckpoint(filepath=f\"best-{banda}-conv.keras\", save_best_only=True, monitor=\"val_loss\"),\n",
        "]\n",
        "\n",
        "# Addestriamo il modello\n",
        "history = model.fit(train_data, y_train, epochs=50, batch_size=32, validation_data=(val_data, y_val), callbacks=callback)\n"
      ],
      "cell_type": "code",
      "metadata": {
        "id": "7cA4WBZ8AEMb",
        "colab": {
          "base_uri": "https://localhost:8080/"
        },
        "outputId": "111dc75b-ba75-4773-8c17-9ebaf08a2c2e",
        "collapsed": true
      },
      "execution_count": null,
      "outputs": [
        {
          "output_type": "stream",
          "name": "stdout",
          "text": [
            "Epoch 1/50\n",
            "\u001b[1m195/195\u001b[0m \u001b[32m━━━━━━━━━━━━━━━━━━━━\u001b[0m\u001b[37m\u001b[0m \u001b[1m8s\u001b[0m 21ms/step - accuracy: 0.0821 - loss: 4.3958 - val_accuracy: 0.2546 - val_loss: 3.8726\n",
            "Epoch 2/50\n",
            "\u001b[1m195/195\u001b[0m \u001b[32m━━━━━━━━━━━━━━━━━━━━\u001b[0m\u001b[37m\u001b[0m \u001b[1m4s\u001b[0m 3ms/step - accuracy: 0.3344 - loss: 3.6018 - val_accuracy: 0.4755 - val_loss: 3.1644\n",
            "Epoch 3/50\n",
            "\u001b[1m195/195\u001b[0m \u001b[32m━━━━━━━━━━━━━━━━━━━━\u001b[0m\u001b[37m\u001b[0m \u001b[1m1s\u001b[0m 3ms/step - accuracy: 0.5246 - loss: 2.9491 - val_accuracy: 0.6621 - val_loss: 2.4851\n",
            "Epoch 4/50\n",
            "\u001b[1m195/195\u001b[0m \u001b[32m━━━━━━━━━━━━━━━━━━━━\u001b[0m\u001b[37m\u001b[0m \u001b[1m1s\u001b[0m 4ms/step - accuracy: 0.6753 - loss: 2.3285 - val_accuracy: 0.7890 - val_loss: 1.8937\n",
            "Epoch 5/50\n",
            "\u001b[1m195/195\u001b[0m \u001b[32m━━━━━━━━━━━━━━━━━━━━\u001b[0m\u001b[37m\u001b[0m \u001b[1m1s\u001b[0m 4ms/step - accuracy: 0.7653 - loss: 1.7982 - val_accuracy: 0.8127 - val_loss: 1.4664\n",
            "Epoch 6/50\n",
            "\u001b[1m195/195\u001b[0m \u001b[32m━━━━━━━━━━━━━━━━━━━━\u001b[0m\u001b[37m\u001b[0m \u001b[1m1s\u001b[0m 4ms/step - accuracy: 0.8178 - loss: 1.3776 - val_accuracy: 0.8417 - val_loss: 1.1606\n",
            "Epoch 7/50\n",
            "\u001b[1m195/195\u001b[0m \u001b[32m━━━━━━━━━━━━━━━━━━━━\u001b[0m\u001b[37m\u001b[0m \u001b[1m1s\u001b[0m 5ms/step - accuracy: 0.8434 - loss: 1.1158 - val_accuracy: 0.8570 - val_loss: 0.9441\n",
            "Epoch 8/50\n",
            "\u001b[1m195/195\u001b[0m \u001b[32m━━━━━━━━━━━━━━━━━━━━\u001b[0m\u001b[37m\u001b[0m \u001b[1m1s\u001b[0m 3ms/step - accuracy: 0.8672 - loss: 0.9082 - val_accuracy: 0.8769 - val_loss: 0.7885\n",
            "Epoch 9/50\n",
            "\u001b[1m195/195\u001b[0m \u001b[32m━━━━━━━━━━━━━━━━━━━━\u001b[0m\u001b[37m\u001b[0m \u001b[1m1s\u001b[0m 3ms/step - accuracy: 0.8847 - loss: 0.7791 - val_accuracy: 0.8891 - val_loss: 0.6844\n",
            "Epoch 10/50\n",
            "\u001b[1m195/195\u001b[0m \u001b[32m━━━━━━━━━━━━━━━━━━━━\u001b[0m\u001b[37m\u001b[0m \u001b[1m1s\u001b[0m 3ms/step - accuracy: 0.8937 - loss: 0.6871 - val_accuracy: 0.9044 - val_loss: 0.6037\n",
            "Epoch 11/50\n",
            "\u001b[1m195/195\u001b[0m \u001b[32m━━━━━━━━━━━━━━━━━━━━\u001b[0m\u001b[37m\u001b[0m \u001b[1m1s\u001b[0m 4ms/step - accuracy: 0.9112 - loss: 0.6006 - val_accuracy: 0.9205 - val_loss: 0.5349\n",
            "Epoch 12/50\n",
            "\u001b[1m195/195\u001b[0m \u001b[32m━━━━━━━━━━━━━━━━━━━━\u001b[0m\u001b[37m\u001b[0m \u001b[1m1s\u001b[0m 3ms/step - accuracy: 0.9266 - loss: 0.5289 - val_accuracy: 0.9534 - val_loss: 0.4744\n",
            "Epoch 13/50\n",
            "\u001b[1m195/195\u001b[0m \u001b[32m━━━━━━━━━━━━━━━━━━━━\u001b[0m\u001b[37m\u001b[0m \u001b[1m1s\u001b[0m 5ms/step - accuracy: 0.9321 - loss: 0.4847 - val_accuracy: 0.9228 - val_loss: 0.4277\n",
            "Epoch 14/50\n",
            "\u001b[1m195/195\u001b[0m \u001b[32m━━━━━━━━━━━━━━━━━━━━\u001b[0m\u001b[37m\u001b[0m \u001b[1m1s\u001b[0m 7ms/step - accuracy: 0.9417 - loss: 0.4293 - val_accuracy: 0.9587 - val_loss: 0.3857\n",
            "Epoch 15/50\n",
            "\u001b[1m195/195\u001b[0m \u001b[32m━━━━━━━━━━━━━━━━━━━━\u001b[0m\u001b[37m\u001b[0m \u001b[1m1s\u001b[0m 5ms/step - accuracy: 0.9518 - loss: 0.3859 - val_accuracy: 0.9618 - val_loss: 0.3515\n",
            "Epoch 16/50\n",
            "\u001b[1m195/195\u001b[0m \u001b[32m━━━━━━━━━━━━━━━━━━━━\u001b[0m\u001b[37m\u001b[0m \u001b[1m2s\u001b[0m 8ms/step - accuracy: 0.9665 - loss: 0.3381 - val_accuracy: 0.9732 - val_loss: 0.3185\n",
            "Epoch 17/50\n",
            "\u001b[1m195/195\u001b[0m \u001b[32m━━━━━━━━━━━━━━━━━━━━\u001b[0m\u001b[37m\u001b[0m \u001b[1m2s\u001b[0m 11ms/step - accuracy: 0.9690 - loss: 0.3277 - val_accuracy: 0.9732 - val_loss: 0.2944\n",
            "Epoch 18/50\n",
            "\u001b[1m195/195\u001b[0m \u001b[32m━━━━━━━━━━━━━━━━━━━━\u001b[0m\u001b[37m\u001b[0m \u001b[1m2s\u001b[0m 10ms/step - accuracy: 0.9756 - loss: 0.2934 - val_accuracy: 0.9908 - val_loss: 0.2594\n",
            "Epoch 19/50\n",
            "\u001b[1m195/195\u001b[0m \u001b[32m━━━━━━━━━━━━━━━━━━━━\u001b[0m\u001b[37m\u001b[0m \u001b[1m1s\u001b[0m 3ms/step - accuracy: 0.9757 - loss: 0.2660 - val_accuracy: 0.9924 - val_loss: 0.2429\n",
            "Epoch 20/50\n",
            "\u001b[1m195/195\u001b[0m \u001b[32m━━━━━━━━━━━━━━━━━━━━\u001b[0m\u001b[37m\u001b[0m \u001b[1m1s\u001b[0m 4ms/step - accuracy: 0.9882 - loss: 0.2489 - val_accuracy: 0.9939 - val_loss: 0.2268\n",
            "Epoch 21/50\n",
            "\u001b[1m195/195\u001b[0m \u001b[32m━━━━━━━━━━━━━━━━━━━━\u001b[0m\u001b[37m\u001b[0m \u001b[1m1s\u001b[0m 3ms/step - accuracy: 0.9866 - loss: 0.2328 - val_accuracy: 0.9954 - val_loss: 0.2009\n",
            "Epoch 22/50\n",
            "\u001b[1m195/195\u001b[0m \u001b[32m━━━━━━━━━━━━━━━━━━━━\u001b[0m\u001b[37m\u001b[0m \u001b[1m1s\u001b[0m 4ms/step - accuracy: 0.9896 - loss: 0.2028 - val_accuracy: 0.9916 - val_loss: 0.1860\n",
            "Epoch 23/50\n",
            "\u001b[1m195/195\u001b[0m \u001b[32m━━━━━━━━━━━━━━━━━━━━\u001b[0m\u001b[37m\u001b[0m \u001b[1m1s\u001b[0m 3ms/step - accuracy: 0.9937 - loss: 0.1910 - val_accuracy: 0.9954 - val_loss: 0.1687\n",
            "Epoch 24/50\n",
            "\u001b[1m195/195\u001b[0m \u001b[32m━━━━━━━━━━━━━━━━━━━━\u001b[0m\u001b[37m\u001b[0m \u001b[1m1s\u001b[0m 3ms/step - accuracy: 0.9881 - loss: 0.1898 - val_accuracy: 0.9931 - val_loss: 0.1814\n",
            "Epoch 25/50\n",
            "\u001b[1m195/195\u001b[0m \u001b[32m━━━━━━━━━━━━━━━━━━━━\u001b[0m\u001b[37m\u001b[0m \u001b[1m1s\u001b[0m 3ms/step - accuracy: 0.9933 - loss: 0.1676 - val_accuracy: 0.9985 - val_loss: 0.1528\n",
            "Epoch 26/50\n",
            "\u001b[1m195/195\u001b[0m \u001b[32m━━━━━━━━━━━━━━━━━━━━\u001b[0m\u001b[37m\u001b[0m \u001b[1m1s\u001b[0m 3ms/step - accuracy: 0.9946 - loss: 0.1372 - val_accuracy: 0.9962 - val_loss: 0.1314\n",
            "Epoch 27/50\n",
            "\u001b[1m195/195\u001b[0m \u001b[32m━━━━━━━━━━━━━━━━━━━━\u001b[0m\u001b[37m\u001b[0m \u001b[1m1s\u001b[0m 4ms/step - accuracy: 0.9951 - loss: 0.1354 - val_accuracy: 0.9985 - val_loss: 0.1219\n",
            "Epoch 28/50\n",
            "\u001b[1m195/195\u001b[0m \u001b[32m━━━━━━━━━━━━━━━━━━━━\u001b[0m\u001b[37m\u001b[0m \u001b[1m1s\u001b[0m 3ms/step - accuracy: 0.9944 - loss: 0.1231 - val_accuracy: 0.9954 - val_loss: 0.1151\n",
            "Epoch 29/50\n",
            "\u001b[1m195/195\u001b[0m \u001b[32m━━━━━━━━━━━━━━━━━━━━\u001b[0m\u001b[37m\u001b[0m \u001b[1m1s\u001b[0m 3ms/step - accuracy: 0.9946 - loss: 0.1207 - val_accuracy: 0.9962 - val_loss: 0.1035\n",
            "Epoch 30/50\n",
            "\u001b[1m195/195\u001b[0m \u001b[32m━━━━━━━━━━━━━━━━━━━━\u001b[0m\u001b[37m\u001b[0m \u001b[1m1s\u001b[0m 4ms/step - accuracy: 0.9970 - loss: 0.1087 - val_accuracy: 0.9962 - val_loss: 0.0969\n",
            "Epoch 31/50\n",
            "\u001b[1m195/195\u001b[0m \u001b[32m━━━━━━━━━━━━━━━━━━━━\u001b[0m\u001b[37m\u001b[0m \u001b[1m1s\u001b[0m 4ms/step - accuracy: 0.9968 - loss: 0.0989 - val_accuracy: 0.9992 - val_loss: 0.0877\n",
            "Epoch 32/50\n",
            "\u001b[1m195/195\u001b[0m \u001b[32m━━━━━━━━━━━━━━━━━━━━\u001b[0m\u001b[37m\u001b[0m \u001b[1m1s\u001b[0m 5ms/step - accuracy: 0.9988 - loss: 0.0860 - val_accuracy: 0.9992 - val_loss: 0.0794\n",
            "Epoch 33/50\n",
            "\u001b[1m195/195\u001b[0m \u001b[32m━━━━━━━━━━━━━━━━━━━━\u001b[0m\u001b[37m\u001b[0m \u001b[1m1s\u001b[0m 5ms/step - accuracy: 0.9986 - loss: 0.0772 - val_accuracy: 0.9992 - val_loss: 0.0726\n",
            "Epoch 34/50\n",
            "\u001b[1m195/195\u001b[0m \u001b[32m━━━━━━━━━━━━━━━━━━━━\u001b[0m\u001b[37m\u001b[0m \u001b[1m1s\u001b[0m 5ms/step - accuracy: 0.9969 - loss: 0.0779 - val_accuracy: 0.9992 - val_loss: 0.0693\n",
            "Epoch 35/50\n",
            "\u001b[1m195/195\u001b[0m \u001b[32m━━━━━━━━━━━━━━━━━━━━\u001b[0m\u001b[37m\u001b[0m \u001b[1m1s\u001b[0m 5ms/step - accuracy: 0.9990 - loss: 0.0667 - val_accuracy: 0.9992 - val_loss: 0.0675\n",
            "Epoch 36/50\n",
            "\u001b[1m195/195\u001b[0m \u001b[32m━━━━━━━━━━━━━━━━━━━━\u001b[0m\u001b[37m\u001b[0m \u001b[1m1s\u001b[0m 4ms/step - accuracy: 0.9987 - loss: 0.0642 - val_accuracy: 0.9969 - val_loss: 0.0600\n",
            "Epoch 37/50\n",
            "\u001b[1m195/195\u001b[0m \u001b[32m━━━━━━━━━━━━━━━━━━━━\u001b[0m\u001b[37m\u001b[0m \u001b[1m1s\u001b[0m 3ms/step - accuracy: 0.9986 - loss: 0.0600 - val_accuracy: 0.9954 - val_loss: 0.0715\n",
            "Epoch 38/50\n",
            "\u001b[1m195/195\u001b[0m \u001b[32m━━━━━━━━━━━━━━━━━━━━\u001b[0m\u001b[37m\u001b[0m \u001b[1m1s\u001b[0m 3ms/step - accuracy: 0.9835 - loss: 0.1465 - val_accuracy: 0.9992 - val_loss: 0.0606\n",
            "Epoch 39/50\n",
            "\u001b[1m195/195\u001b[0m \u001b[32m━━━━━━━━━━━━━━━━━━━━\u001b[0m\u001b[37m\u001b[0m \u001b[1m1s\u001b[0m 4ms/step - accuracy: 0.9991 - loss: 0.0502 - val_accuracy: 0.9992 - val_loss: 0.0476\n",
            "Epoch 40/50\n",
            "\u001b[1m195/195\u001b[0m \u001b[32m━━━━━━━━━━━━━━━━━━━━\u001b[0m\u001b[37m\u001b[0m \u001b[1m1s\u001b[0m 3ms/step - accuracy: 0.9984 - loss: 0.0464 - val_accuracy: 0.9992 - val_loss: 0.0440\n",
            "Epoch 41/50\n",
            "\u001b[1m195/195\u001b[0m \u001b[32m━━━━━━━━━━━━━━━━━━━━\u001b[0m\u001b[37m\u001b[0m \u001b[1m1s\u001b[0m 4ms/step - accuracy: 0.9980 - loss: 0.0473 - val_accuracy: 0.9977 - val_loss: 0.0410\n",
            "Epoch 42/50\n",
            "\u001b[1m195/195\u001b[0m \u001b[32m━━━━━━━━━━━━━━━━━━━━\u001b[0m\u001b[37m\u001b[0m \u001b[1m1s\u001b[0m 4ms/step - accuracy: 0.9998 - loss: 0.0422 - val_accuracy: 0.9992 - val_loss: 0.0375\n",
            "Epoch 43/50\n",
            "\u001b[1m195/195\u001b[0m \u001b[32m━━━━━━━━━━━━━━━━━━━━\u001b[0m\u001b[37m\u001b[0m \u001b[1m1s\u001b[0m 4ms/step - accuracy: 0.9997 - loss: 0.0368 - val_accuracy: 0.9992 - val_loss: 0.0340\n",
            "Epoch 44/50\n",
            "\u001b[1m195/195\u001b[0m \u001b[32m━━━━━━━━━━━━━━━━━━━━\u001b[0m\u001b[37m\u001b[0m \u001b[1m1s\u001b[0m 3ms/step - accuracy: 0.9995 - loss: 0.0322 - val_accuracy: 0.9992 - val_loss: 0.0323\n",
            "Epoch 45/50\n",
            "\u001b[1m195/195\u001b[0m \u001b[32m━━━━━━━━━━━━━━━━━━━━\u001b[0m\u001b[37m\u001b[0m \u001b[1m1s\u001b[0m 3ms/step - accuracy: 0.9997 - loss: 0.0312 - val_accuracy: 0.9969 - val_loss: 0.0359\n",
            "Epoch 46/50\n",
            "\u001b[1m195/195\u001b[0m \u001b[32m━━━━━━━━━━━━━━━━━━━━\u001b[0m\u001b[37m\u001b[0m \u001b[1m1s\u001b[0m 4ms/step - accuracy: 0.9997 - loss: 0.0313 - val_accuracy: 0.9992 - val_loss: 0.0304\n",
            "Epoch 47/50\n",
            "\u001b[1m195/195\u001b[0m \u001b[32m━━━━━━━━━━━━━━━━━━━━\u001b[0m\u001b[37m\u001b[0m \u001b[1m1s\u001b[0m 4ms/step - accuracy: 0.9997 - loss: 0.0294 - val_accuracy: 0.9992 - val_loss: 0.0307\n",
            "Epoch 48/50\n",
            "\u001b[1m195/195\u001b[0m \u001b[32m━━━━━━━━━━━━━━━━━━━━\u001b[0m\u001b[37m\u001b[0m \u001b[1m1s\u001b[0m 5ms/step - accuracy: 0.9993 - loss: 0.0338 - val_accuracy: 0.9817 - val_loss: 0.0936\n",
            "Epoch 49/50\n",
            "\u001b[1m195/195\u001b[0m \u001b[32m━━━━━━━━━━━━━━━━━━━━\u001b[0m\u001b[37m\u001b[0m \u001b[1m1s\u001b[0m 4ms/step - accuracy: 0.9991 - loss: 0.0332 - val_accuracy: 0.9801 - val_loss: 0.1068\n",
            "Epoch 50/50\n",
            "\u001b[1m195/195\u001b[0m \u001b[32m━━━━━━━━━━━━━━━━━━━━\u001b[0m\u001b[37m\u001b[0m \u001b[1m1s\u001b[0m 3ms/step - accuracy: 0.9923 - loss: 0.0785 - val_accuracy: 0.9534 - val_loss: 0.2339\n"
          ]
        }
      ]
    },
    {
      "cell_type": "code",
      "source": [
        "#@title Grafico confronto fra Loss e Accuratezze\n",
        "# Estrae i dati dall'oggetto `history`\n",
        "loss = history.history['loss']\n",
        "val_loss = history.history['val_loss']\n",
        "accuracy = history.history.get('accuracy', [])  # Alcuni modelli usano 'acc' invece di 'accuracy'\n",
        "val_accuracy = history.history.get('val_accuracy', [])\n",
        "\n",
        "# Individuare l'epoca con la miglior val_loss\n",
        "best_epoch = np.argmin(val_loss)\n",
        "best_val_loss = val_loss[best_epoch]\n",
        "\n",
        "# Creazione grafici\n",
        "fig, axes = plt.subplots(1, 2, figsize=(14, 6))  # Un grafico accanto all'altro\n",
        "\n",
        "# Grafico Loss\n",
        "axes[0].plot(loss, label=\"Train Loss\")\n",
        "axes[0].plot(val_loss, label=\"Validation Loss\")\n",
        "axes[0].scatter(best_epoch, best_val_loss, color='red', label=f\"Best val_loss ({best_val_loss:.4f})\")\n",
        "axes[0].set_title(\"Loss and Validation Loss\")\n",
        "axes[0].set_xlabel(\"Epoche\")\n",
        "axes[0].set_ylabel(\"Loss\")\n",
        "axes[0].legend()\n",
        "\n",
        "# Grafico Accuracy\n",
        "if accuracy and val_accuracy:\n",
        "    axes[1].plot(accuracy, label=\"Train Accuracy\")\n",
        "    axes[1].plot(val_accuracy, label=\"Validation Accuracy\")\n",
        "    if val_accuracy:\n",
        "        best_val_accuracy = val_accuracy[best_epoch]\n",
        "        axes[1].scatter(best_epoch, best_val_accuracy, color='red', label=f\"val_acc at best val_loss ({best_val_accuracy:.4f})\")\n",
        "    axes[1].set_title(\"Accuracy and Validation Accuracy\")\n",
        "    axes[1].set_xlabel(\"Epoche\")\n",
        "    axes[1].set_ylabel(\"Accuracy\")\n",
        "    axes[1].legend()\n",
        "\n",
        "# Output\n",
        "plt.tight_layout()\n",
        "plt.show()\n"
      ],
      "metadata": {
        "colab": {
          "base_uri": "https://localhost:8080/",
          "height": 607
        },
        "id": "dP3S3BSFsvDV",
        "outputId": "fe85ba1c-5875-49b2-a37a-344b95722da2",
        "collapsed": true
      },
      "execution_count": null,
      "outputs": [
        {
          "output_type": "display_data",
          "data": {
            "text/plain": [
              "<Figure size 1400x600 with 2 Axes>"
            ],
            "image/png": "[encoded data removed]"
          },
          "metadata": {}
        }
      ]
    },
    {
      "cell_type": "markdown",
      "source": [
        "---\n",
        "Una volta convalidati gli iperparametri grazia al\n",
        "validation set, sfruttiamo tutti i dati disponibili per l'addestramento del modello."
      ],
      "metadata": {
        "id": "l3TRt0EPnwHB"
      }
    },
    {
      "cell_type": "code",
      "source": [
        "#@title Uniamo e rimescoliamo trainset con validation set\n",
        "\n",
        "# Uniamo i dati\n",
        "combined_data = np.concatenate((train_data, val_data), axis=0)\n",
        "combined_labels = np.concatenate((y_train, y_val), axis=0)\n",
        "\n",
        "# Mescoliamo di nuovo\n",
        "combined_data, combined_labels = shuffle(combined_data, combined_labels, random_state=SEED)"
      ],
      "metadata": {
        "id": "cKDr1M6UoFiV",
        "cellView": "form"
      },
      "execution_count": null,
      "outputs": []
    },
    {
      "cell_type": "code",
      "source": [
        "#@title Addestramento finale\n",
        "#Ricompiliamo il modello\n",
        "model = convolutivo(num_classes, shape, filtri, dropout, strati, primo_sep)\n",
        "model.compile(loss='categorical_crossentropy', optimizer='adam', metrics=['accuracy'])\n",
        "#Salviamo i pesi dell'epoca in cui abbiamo ottenuto il val_loss minore\n",
        "callback = [\n",
        "    tf.keras.callbacks.ModelCheckpoint(filepath=f\"best-{banda}-finale_conv.keras\", save_best_only=True, monitor=\"loss\"),\n",
        "]\n",
        "\n",
        "# Addestriamo il modello\n",
        "history = model.fit(combined_data, combined_labels, epochs=50, batch_size=32, callbacks=callback)\n"
      ],
      "metadata": {
        "colab": {
          "base_uri": "https://localhost:8080/"
        },
        "id": "6BUXeC7Zo5K1",
        "outputId": "872e153a-ae43-4d84-b30d-15744f22ad56"
      },
      "execution_count": null,
      "outputs": [
        {
          "output_type": "stream",
          "name": "stdout",
          "text": [
            "Epoch 1/50\n",
            "\u001b[1m116/116\u001b[0m \u001b[32m━━━━━━━━━━━━━━━━━━━━\u001b[0m\u001b[37m\u001b[0m \u001b[1m5s\u001b[0m 18ms/step - accuracy: 0.0628 - loss: 4.5395\n",
            "Epoch 2/50\n",
            "\u001b[1m116/116\u001b[0m \u001b[32m━━━━━━━━━━━━━━━━━━━━\u001b[0m\u001b[37m\u001b[0m \u001b[1m2s\u001b[0m 3ms/step - accuracy: 0.2901 - loss: 3.9146\n",
            "Epoch 3/50\n",
            "\u001b[1m116/116\u001b[0m \u001b[32m━━━━━━━━━━━━━━━━━━━━\u001b[0m\u001b[37m\u001b[0m \u001b[1m1s\u001b[0m 3ms/step - accuracy: 0.4384 - loss: 3.3649\n",
            "Epoch 4/50\n",
            "\u001b[1m116/116\u001b[0m \u001b[32m━━━━━━━━━━━━━━━━━━━━\u001b[0m\u001b[37m\u001b[0m \u001b[1m0s\u001b[0m 3ms/step - accuracy: 0.5634 - loss: 2.8631\n",
            "Epoch 5/50\n",
            "\u001b[1m116/116\u001b[0m \u001b[32m━━━━━━━━━━━━━━━━━━━━\u001b[0m\u001b[37m\u001b[0m \u001b[1m1s\u001b[0m 3ms/step - accuracy: 0.6865 - loss: 2.4263\n",
            "Epoch 6/50\n",
            "\u001b[1m116/116\u001b[0m \u001b[32m━━━━━━━━━━━━━━━━━━━━\u001b[0m\u001b[37m\u001b[0m \u001b[1m0s\u001b[0m 3ms/step - accuracy: 0.8055 - loss: 1.9960\n",
            "Epoch 7/50\n",
            "\u001b[1m116/116\u001b[0m \u001b[32m━━━━━━━━━━━━━━━━━━━━\u001b[0m\u001b[37m\u001b[0m \u001b[1m0s\u001b[0m 3ms/step - accuracy: 0.8653 - loss: 1.6171\n",
            "Epoch 8/50\n",
            "\u001b[1m116/116\u001b[0m \u001b[32m━━━━━━━━━━━━━━━━━━━━\u001b[0m\u001b[37m\u001b[0m \u001b[1m0s\u001b[0m 3ms/step - accuracy: 0.8977 - loss: 1.3192\n",
            "Epoch 9/50\n",
            "\u001b[1m116/116\u001b[0m \u001b[32m━━━━━━━━━━━━━━━━━━━━\u001b[0m\u001b[37m\u001b[0m \u001b[1m0s\u001b[0m 3ms/step - accuracy: 0.9258 - loss: 1.0800\n",
            "Epoch 10/50\n",
            "\u001b[1m116/116\u001b[0m \u001b[32m━━━━━━━━━━━━━━━━━━━━\u001b[0m\u001b[37m\u001b[0m \u001b[1m1s\u001b[0m 3ms/step - accuracy: 0.9439 - loss: 0.9118\n",
            "Epoch 11/50\n",
            "\u001b[1m116/116\u001b[0m \u001b[32m━━━━━━━━━━━━━━━━━━━━\u001b[0m\u001b[37m\u001b[0m \u001b[1m1s\u001b[0m 3ms/step - accuracy: 0.9564 - loss: 0.7332\n",
            "Epoch 12/50\n",
            "\u001b[1m116/116\u001b[0m \u001b[32m━━━━━━━━━━━━━━━━━━━━\u001b[0m\u001b[37m\u001b[0m \u001b[1m0s\u001b[0m 3ms/step - accuracy: 0.9441 - loss: 0.6323\n",
            "Epoch 13/50\n",
            "\u001b[1m116/116\u001b[0m \u001b[32m━━━━━━━━━━━━━━━━━━━━\u001b[0m\u001b[37m\u001b[0m \u001b[1m1s\u001b[0m 4ms/step - accuracy: 0.9722 - loss: 0.5397\n",
            "Epoch 14/50\n",
            "\u001b[1m116/116\u001b[0m \u001b[32m━━━━━━━━━━━━━━━━━━━━\u001b[0m\u001b[37m\u001b[0m \u001b[1m0s\u001b[0m 4ms/step - accuracy: 0.9759 - loss: 0.4610\n",
            "Epoch 15/50\n",
            "\u001b[1m116/116\u001b[0m \u001b[32m━━━━━━━━━━━━━━━━━━━━\u001b[0m\u001b[37m\u001b[0m \u001b[1m1s\u001b[0m 4ms/step - accuracy: 0.9846 - loss: 0.3885\n",
            "Epoch 16/50\n",
            "\u001b[1m116/116\u001b[0m \u001b[32m━━━━━━━━━━━━━━━━━━━━\u001b[0m\u001b[37m\u001b[0m \u001b[1m0s\u001b[0m 4ms/step - accuracy: 0.9933 - loss: 0.3387\n",
            "Epoch 17/50\n",
            "\u001b[1m116/116\u001b[0m \u001b[32m━━━━━━━━━━━━━━━━━━━━\u001b[0m\u001b[37m\u001b[0m \u001b[1m1s\u001b[0m 4ms/step - accuracy: 0.9908 - loss: 0.3085\n",
            "Epoch 18/50\n",
            "\u001b[1m116/116\u001b[0m \u001b[32m━━━━━━━━━━━━━━━━━━━━\u001b[0m\u001b[37m\u001b[0m \u001b[1m0s\u001b[0m 4ms/step - accuracy: 0.9951 - loss: 0.2642\n",
            "Epoch 19/50\n",
            "\u001b[1m116/116\u001b[0m \u001b[32m━━━━━━━━━━━━━━━━━━━━\u001b[0m\u001b[37m\u001b[0m \u001b[1m0s\u001b[0m 4ms/step - accuracy: 0.9952 - loss: 0.2261\n",
            "Epoch 20/50\n",
            "\u001b[1m116/116\u001b[0m \u001b[32m━━━━━━━━━━━━━━━━━━━━\u001b[0m\u001b[37m\u001b[0m \u001b[1m0s\u001b[0m 3ms/step - accuracy: 0.9961 - loss: 0.2030\n",
            "Epoch 21/50\n",
            "\u001b[1m116/116\u001b[0m \u001b[32m━━━━━━━━━━━━━━━━━━━━\u001b[0m\u001b[37m\u001b[0m \u001b[1m0s\u001b[0m 3ms/step - accuracy: 0.9994 - loss: 0.1673\n",
            "Epoch 22/50\n",
            "\u001b[1m116/116\u001b[0m \u001b[32m━━━━━━━━━━━━━━━━━━━━\u001b[0m\u001b[37m\u001b[0m \u001b[1m0s\u001b[0m 3ms/step - accuracy: 0.9996 - loss: 0.1499\n",
            "Epoch 23/50\n",
            "\u001b[1m116/116\u001b[0m \u001b[32m━━━━━━━━━━━━━━━━━━━━\u001b[0m\u001b[37m\u001b[0m \u001b[1m1s\u001b[0m 3ms/step - accuracy: 1.0000 - loss: 0.1322\n",
            "Epoch 24/50\n",
            "\u001b[1m116/116\u001b[0m \u001b[32m━━━━━━━━━━━━━━━━━━━━\u001b[0m\u001b[37m\u001b[0m \u001b[1m1s\u001b[0m 3ms/step - accuracy: 1.0000 - loss: 0.1146\n",
            "Epoch 25/50\n",
            "\u001b[1m116/116\u001b[0m \u001b[32m━━━━━━━━━━━━━━━━━━━━\u001b[0m\u001b[37m\u001b[0m \u001b[1m0s\u001b[0m 3ms/step - accuracy: 0.9999 - loss: 0.1025\n",
            "Epoch 26/50\n",
            "\u001b[1m116/116\u001b[0m \u001b[32m━━━━━━━━━━━━━━━━━━━━\u001b[0m\u001b[37m\u001b[0m \u001b[1m0s\u001b[0m 3ms/step - accuracy: 1.0000 - loss: 0.0930\n",
            "Epoch 27/50\n",
            "\u001b[1m116/116\u001b[0m \u001b[32m━━━━━━━━━━━━━━━━━━━━\u001b[0m\u001b[37m\u001b[0m \u001b[1m0s\u001b[0m 3ms/step - accuracy: 0.9997 - loss: 0.0812\n",
            "Epoch 28/50\n",
            "\u001b[1m116/116\u001b[0m \u001b[32m━━━━━━━━━━━━━━━━━━━━\u001b[0m\u001b[37m\u001b[0m \u001b[1m0s\u001b[0m 3ms/step - accuracy: 0.9999 - loss: 0.0709\n",
            "Epoch 29/50\n",
            "\u001b[1m116/116\u001b[0m \u001b[32m━━━━━━━━━━━━━━━━━━━━\u001b[0m\u001b[37m\u001b[0m \u001b[1m1s\u001b[0m 3ms/step - accuracy: 1.0000 - loss: 0.0619\n",
            "Epoch 30/50\n",
            "\u001b[1m116/116\u001b[0m \u001b[32m━━━━━━━━━━━━━━━━━━━━\u001b[0m\u001b[37m\u001b[0m \u001b[1m1s\u001b[0m 3ms/step - accuracy: 1.0000 - loss: 0.0604\n",
            "Epoch 31/50\n",
            "\u001b[1m116/116\u001b[0m \u001b[32m━━━━━━━━━━━━━━━━━━━━\u001b[0m\u001b[37m\u001b[0m \u001b[1m1s\u001b[0m 3ms/step - accuracy: 1.0000 - loss: 0.0517\n",
            "Epoch 32/50\n",
            "\u001b[1m116/116\u001b[0m \u001b[32m━━━━━━━━━━━━━━━━━━━━\u001b[0m\u001b[37m\u001b[0m \u001b[1m1s\u001b[0m 3ms/step - accuracy: 0.9998 - loss: 0.0466\n",
            "Epoch 33/50\n",
            "\u001b[1m116/116\u001b[0m \u001b[32m━━━━━━━━━━━━━━━━━━━━\u001b[0m\u001b[37m\u001b[0m \u001b[1m1s\u001b[0m 3ms/step - accuracy: 1.0000 - loss: 0.0413\n",
            "Epoch 34/50\n",
            "\u001b[1m116/116\u001b[0m \u001b[32m━━━━━━━━━━━━━━━━━━━━\u001b[0m\u001b[37m\u001b[0m \u001b[1m1s\u001b[0m 3ms/step - accuracy: 1.0000 - loss: 0.0416\n",
            "Epoch 35/50\n",
            "\u001b[1m116/116\u001b[0m \u001b[32m━━━━━━━━━━━━━━━━━━━━\u001b[0m\u001b[37m\u001b[0m \u001b[1m0s\u001b[0m 3ms/step - accuracy: 1.0000 - loss: 0.0348\n",
            "Epoch 36/50\n",
            "\u001b[1m116/116\u001b[0m \u001b[32m━━━━━━━━━━━━━━━━━━━━\u001b[0m\u001b[37m\u001b[0m \u001b[1m1s\u001b[0m 3ms/step - accuracy: 1.0000 - loss: 0.0334\n",
            "Epoch 37/50\n",
            "\u001b[1m116/116\u001b[0m \u001b[32m━━━━━━━━━━━━━━━━━━━━\u001b[0m\u001b[37m\u001b[0m \u001b[1m0s\u001b[0m 3ms/step - accuracy: 1.0000 - loss: 0.0291\n",
            "Epoch 38/50\n",
            "\u001b[1m116/116\u001b[0m \u001b[32m━━━━━━━━━━━━━━━━━━━━\u001b[0m\u001b[37m\u001b[0m \u001b[1m1s\u001b[0m 3ms/step - accuracy: 0.9996 - loss: 0.0248\n",
            "Epoch 39/50\n",
            "\u001b[1m116/116\u001b[0m \u001b[32m━━━━━━━━━━━━━━━━━━━━\u001b[0m\u001b[37m\u001b[0m \u001b[1m1s\u001b[0m 3ms/step - accuracy: 1.0000 - loss: 0.0232\n",
            "Epoch 40/50\n",
            "\u001b[1m116/116\u001b[0m \u001b[32m━━━━━━━━━━━━━━━━━━━━\u001b[0m\u001b[37m\u001b[0m \u001b[1m1s\u001b[0m 4ms/step - accuracy: 1.0000 - loss: 0.0216\n",
            "Epoch 41/50\n",
            "\u001b[1m116/116\u001b[0m \u001b[32m━━━━━━━━━━━━━━━━━━━━\u001b[0m\u001b[37m\u001b[0m \u001b[1m0s\u001b[0m 4ms/step - accuracy: 1.0000 - loss: 0.0206\n",
            "Epoch 42/50\n",
            "\u001b[1m116/116\u001b[0m \u001b[32m━━━━━━━━━━━━━━━━━━━━\u001b[0m\u001b[37m\u001b[0m \u001b[1m0s\u001b[0m 3ms/step - accuracy: 1.0000 - loss: 0.0180\n",
            "Epoch 43/50\n",
            "\u001b[1m116/116\u001b[0m \u001b[32m━━━━━━━━━━━━━━━━━━━━\u001b[0m\u001b[37m\u001b[0m \u001b[1m0s\u001b[0m 4ms/step - accuracy: 1.0000 - loss: 0.0152\n",
            "Epoch 44/50\n",
            "\u001b[1m116/116\u001b[0m \u001b[32m━━━━━━━━━━━━━━━━━━━━\u001b[0m\u001b[37m\u001b[0m \u001b[1m1s\u001b[0m 4ms/step - accuracy: 1.0000 - loss: 0.0162\n",
            "Epoch 45/50\n",
            "\u001b[1m116/116\u001b[0m \u001b[32m━━━━━━━━━━━━━━━━━━━━\u001b[0m\u001b[37m\u001b[0m \u001b[1m0s\u001b[0m 4ms/step - accuracy: 1.0000 - loss: 0.0139\n",
            "Epoch 46/50\n",
            "\u001b[1m116/116\u001b[0m \u001b[32m━━━━━━━━━━━━━━━━━━━━\u001b[0m\u001b[37m\u001b[0m \u001b[1m1s\u001b[0m 3ms/step - accuracy: 1.0000 - loss: 0.0141\n",
            "Epoch 47/50\n",
            "\u001b[1m116/116\u001b[0m \u001b[32m━━━━━━━━━━━━━━━━━━━━\u001b[0m\u001b[37m\u001b[0m \u001b[1m0s\u001b[0m 3ms/step - accuracy: 1.0000 - loss: 0.0104\n",
            "Epoch 48/50\n",
            "\u001b[1m116/116\u001b[0m \u001b[32m━━━━━━━━━━━━━━━━━━━━\u001b[0m\u001b[37m\u001b[0m \u001b[1m0s\u001b[0m 3ms/step - accuracy: 1.0000 - loss: 0.0119\n",
            "Epoch 49/50\n",
            "\u001b[1m116/116\u001b[0m \u001b[32m━━━━━━━━━━━━━━━━━━━━\u001b[0m\u001b[37m\u001b[0m \u001b[1m0s\u001b[0m 3ms/step - accuracy: 1.0000 - loss: 0.0104\n",
            "Epoch 50/50\n",
            "\u001b[1m116/116\u001b[0m \u001b[32m━━━━━━━━━━━━━━━━━━━━\u001b[0m\u001b[37m\u001b[0m \u001b[1m1s\u001b[0m 3ms/step - accuracy: 1.0000 - loss: 0.0114\n"
          ]
        }
      ]
    },
    {
      "cell_type": "markdown",
      "source": [
        "Per ricaricare i pesi che hanno performato meglio durante l'addestramento:"
      ],
      "metadata": {
        "id": "p766G32PK-1b"
      }
    },
    {
      "cell_type": "code",
      "source": [
        "model = tf.keras.models.load_model(f\"best-{banda}-finale_conv.keras\")"
      ],
      "metadata": {
        "id": "pvZvM0tWLBO1"
      },
      "execution_count": null,
      "outputs": []
    },
    {
      "cell_type": "code",
      "source": [
        "#@title Se vuoi salvare o caricare il modello (architettura, pesi e configurazioni), seleziona il percorso qui:\n",
        "\n",
        "weights_path = f'{PERCORSO_DRIVE}/Dati preprocessati/{run}/Pesi convolutivo/'\n",
        "salvare_caricare = 'caricare' #@param ['salvare', 'caricare']\n",
        "nome_file = 'best-ABG-finale_EEGNet.keras' #@param {type:\"string\"}\n",
        "# Verifica se la cartella esiste già\n",
        "if not os.path.exists(weights_path):\n",
        "  os.makedirs(weights_path)                                                     # Crea la cartella\n",
        "  print(f\"Cartella '{weights_path}' creata con successo.\")\n",
        "\n",
        "if salvare_caricare == 'salvare':\n",
        "  model.save(weights_path + nome_file)\n",
        "  print(\"architettura, pesi e configurazione salvati con successo\")\n",
        "\n",
        "elif salvare_caricare == 'caricare':\n",
        "  model = tf.keras.models.load_model(weights_path + nome_file)\n",
        "  print(\"architettura, pesi e configurazione caricati con successo\")\n"
      ],
      "metadata": {
        "colab": {
          "base_uri": "https://localhost:8080/"
        },
        "id": "zMJLe0sUwJvf",
        "outputId": "bc2f9d20-ab35-4dd7-f50c-7a382ff31221"
      },
      "execution_count": null,
      "outputs": [
        {
          "output_type": "stream",
          "name": "stdout",
          "text": [
            "architettura, pesi e configurazione caricati con successo\n"
          ]
        }
      ]
    },
    {
      "cell_type": "markdown",
      "source": [
        "Valutiamo infine le prestazioni del modello sul test set."
      ],
      "metadata": {
        "id": "v93XQCpGLI1e"
      }
    },
    {
      "cell_type": "code",
      "source": [
        "loss, accuracy = model.evaluate(test_data, y_test, verbose=0)\n",
        "print(f'Accuratezza sul test: {accuracy:.4f}')"
      ],
      "metadata": {
        "colab": {
          "base_uri": "https://localhost:8080/"
        },
        "id": "gMW8YIZbgY6u",
        "outputId": "5a06a243-e95d-4638-b6cd-fd6508d6c219"
      },
      "execution_count": null,
      "outputs": [
        {
          "output_type": "stream",
          "name": "stdout",
          "text": [
            "Accuratezza sul test: 0.9969\n"
          ]
        }
      ]
    }
  ]
}