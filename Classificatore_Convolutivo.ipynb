{
  "nbformat": 4,
  "nbformat_minor": 0,
  "metadata": {
    "colab": {
      "provenance": [],
      "gpuType": "T4",
      "include_colab_link": true
    },
    "kernelspec": {
      "name": "python3",
      "display_name": "Python 3"
    },
    "language_info": {
      "name": "python"
    },
    "accelerator": "GPU"
  },
  "cells": [
    {
      "cell_type": "markdown",
      "metadata": {
        "id": "view-in-github",
        "colab_type": "text"
      },
      "source": [
        "<a href=\"https://colab.research.google.com/github/Cipe96/EEG-Recognition/blob/main/Classificatore_Convolutivo.ipynb\" target=\"_parent\"><img src=\"https://colab.research.google.com/assets/colab-badge.svg\" alt=\"Open In Colab\"/></a>"
      ]
    },
    {
      "cell_type": "markdown",
      "source": [
        "<font size=6>**EEG Recognition: Classificatore Convolutivo**</font>\n",
        "</br><font size=3>*Marco Cipollina, Riccardo Era*</font>\n"
      ],
      "metadata": {
        "id": "2e-lgBGFxbDu"
      }
    },
    {
      "cell_type": "markdown",
      "source": [
        "<p style=\"font-size:4px;\" align=\"justify\">Dopo aver svolto vari tipi di analisi sul nostro dataset e considerate le varie possibilità di preprocessing attuabile in \"Analisi Dataset e Preprocessing\", in questo notebook viene costruito e addestrato un modello Convolutivo (CCN) semplice. Questo classificatore sarà utilizzato come baseline per ricercare la migliore combinazione di preprocessing da sfruttare succesivamente in un modello più complesso.</p>\n",
        "<p style=\"font-size:4px;\" align=\"justify\">Qui sotto è perciò possibile caricare e lavorare su un determinato dataset e salvarne i risultati. I dati da noi ottenuti saranno confrontati ed esposti nel noteobok \"Risultati\".</p>"
      ],
      "metadata": {
        "id": "IsDiDI8VR-7Q"
      }
    },
    {
      "cell_type": "markdown",
      "source": [
        "<font size=4>**Indice:**</font>\n",
        "*   [Import librerie](#1)\n",
        "*   [Downloads](#2)\n",
        "*   [Classificatore](#3)"
      ],
      "metadata": {
        "id": "0M8yjfwYmIr-"
      }
    },
    {
      "cell_type": "markdown",
      "source": [
        "<a name=\"1\"></a>\n",
        "# **Import librerie**"
      ],
      "metadata": {
        "id": "GmCB5EJWMzU1"
      }
    },
    {
      "cell_type": "markdown",
      "source": [
        "Importiamo le librerie e montiamo Google Drive per garantire l'accesso agli altri file."
      ],
      "metadata": {
        "id": "k8v_8E4sEJzK"
      }
    },
    {
      "cell_type": "code",
      "source": [
        "from sklearn.utils import shuffle\n",
        "import matplotlib.pyplot as plt\n",
        "from google.colab import drive\n",
        "import tensorflow as tf\n",
        "import pandas as pd\n",
        "import numpy as np\n",
        "import sys\n",
        "import os\n",
        "\n",
        "SEED = 96                                                                       #Impostiamo un seme specifico per garantire la replicabilità degli esperimenti"
      ],
      "metadata": {
        "id": "MJBltQXPmXAD"
      },
      "execution_count": 1,
      "outputs": []
    },
    {
      "cell_type": "code",
      "source": [
        "%%capture\n",
        "drive.mount('/content/drive', force_remount=True)\n",
        "\n",
        "# elimina la cartella sample_data creata automaticamente\n",
        "! rm -r /content/sample_data"
      ],
      "metadata": {
        "id": "ALBNMDMymhK7"
      },
      "execution_count": 2,
      "outputs": []
    },
    {
      "cell_type": "code",
      "source": [
        "#@title Percorso della cartella del progetto su Google Drive:\n",
        "\n",
        "#@markdown Se la cartella del progetto si trova nella root di Drive, scrivere solo il suo nome:\n",
        "\n",
        "PERCORSO_DRIVE = \"EEG Recognition\" #@param {type:\"string\"}\n",
        "\n",
        "PERCORSO_DRIVE = '/content/drive/MyDrive/' + PERCORSO_DRIVE"
      ],
      "metadata": {
        "id": "-XqpUIet6OeF"
      },
      "execution_count": 3,
      "outputs": []
    },
    {
      "cell_type": "code",
      "source": [
        "sys.path.append(PERCORSO_DRIVE)                                                 # ci permetterà di importare le funzioni presenti in altri file\n",
        "from shared_utilities import convolutivo                                        # importare il classificatore convolutivo"
      ],
      "metadata": {
        "id": "gvS_0x-p6b3Q"
      },
      "execution_count": 4,
      "outputs": []
    },
    {
      "cell_type": "markdown",
      "source": [
        "<a name=\"2\"></a>\n",
        "# **Download**"
      ],
      "metadata": {
        "id": "LyPbHzAnsaYg"
      }
    },
    {
      "cell_type": "code",
      "source": [
        "#@title Seleziona la Run che vuoi utilizzare (fra quelle che hai sul drive):\n",
        "\n",
        "#@markdown Inserisci un valore compreso fra 1 e 14 inclusi:\n",
        "\n",
        "run = 6 #@param {type:\"integer\"}\n",
        "run = f\"R{run:02d}\"\n"
      ],
      "metadata": {
        "id": "536BlkYWsZqY"
      },
      "execution_count": 82,
      "outputs": []
    },
    {
      "cell_type": "code",
      "source": [
        "#@title Seleziona la banda che vuoi utilizzare:\n",
        "\n",
        "#@markdown (delta, theta, alpha, beta, gamma, broadband, personalizzata, ABG)\n",
        "\n",
        "banda = 'ABG' #@param ['delta', 'theta', 'alpha', 'beta', 'gamma', 'broadband', 'personalizzata', 'ABG']\n",
        "save_path = f'{PERCORSO_DRIVE}/Dati preprocessati/{run}/{banda}'"
      ],
      "metadata": {
        "id": "Lez481oNm5Lm"
      },
      "execution_count": 83,
      "outputs": []
    },
    {
      "cell_type": "code",
      "source": [
        "#@title Carica i dati\n",
        "train_data = np.load(f\"{save_path}/train_data_{banda}.npy\")\n",
        "train_labels = np.load(f\"{save_path}/train_labels_{banda}.npy\")\n",
        "val_data = np.load(f\"{save_path}/val_data_{banda}.npy\")\n",
        "val_labels = np.load(f\"{save_path}/val_labels_{banda}.npy\")\n",
        "test_data = np.load(f\"{save_path}/test_data_{banda}.npy\")\n",
        "test_labels = np.load(f\"{save_path}/test_labels_{banda}.npy\")"
      ],
      "metadata": {
        "id": "JG5VzsHVwvnt"
      },
      "execution_count": 84,
      "outputs": []
    },
    {
      "cell_type": "markdown",
      "source": [
        "Controlliamo che la shape sia coerente con quella che ci servirà per il modello di classificazione"
      ],
      "metadata": {
        "id": "RwGApKMqEXIv"
      }
    },
    {
      "cell_type": "code",
      "source": [
        "# Verifica le dimensioni dei dataset e delle etichette\n",
        "print(f\"Train set shape: {train_data.shape}, Train labels shape: {train_labels.shape}\")\n",
        "print(f\"Validation set shape: {val_data.shape}, Validation labels shape: {val_labels.shape}\")\n",
        "print(f\"Test set shape: {test_data.shape}, Test labels shape: {test_labels.shape}\")"
      ],
      "metadata": {
        "colab": {
          "base_uri": "https://localhost:8080/"
        },
        "id": "xzjd9fzDzTOV",
        "outputId": "520ec223-172d-427b-9eb7-d5bf73aa6fc4"
      },
      "execution_count": 85,
      "outputs": [
        {
          "output_type": "stream",
          "name": "stdout",
          "text": [
            "Train set shape: (6235, 240, 64), Train labels shape: (6235,)\n",
            "Validation set shape: (1308, 240, 64), Validation labels shape: (1308,)\n",
            "Test set shape: (1417, 240, 64), Test labels shape: (1417,)\n"
          ]
        }
      ]
    },
    {
      "cell_type": "markdown",
      "source": [
        "Effettuiamo uno shuffle del dataset per evitare di dare in pasto i dati al modello in maniera ordinata, permettendo così un addestramento meno condizionato."
      ],
      "metadata": {
        "id": "QEfnoMyDEjY1"
      }
    },
    {
      "cell_type": "code",
      "source": [
        "# shuffle dei dataset e ettichette con stesso ordine di shuffle\n",
        "train_data, train_labels = shuffle(train_data, train_labels, random_state=SEED)\n",
        "val_data, val_labels = shuffle(val_data, val_labels, random_state=SEED)\n",
        "test_data, test_labels = shuffle(test_data, test_labels, random_state=SEED)\n"
      ],
      "metadata": {
        "id": "yVyfhLl2hj-I"
      },
      "execution_count": 86,
      "outputs": []
    },
    {
      "cell_type": "code",
      "source": [
        "# Riprendiamo il numero di classi esistenti\n",
        "num_classes = len(np.unique(train_labels))\n",
        "print(\"Numero di classi:\", num_classes)\n",
        "\n",
        "# Convertiamo le etichette in one-hot encoding\n",
        "y_train = tf.keras.utils.to_categorical(train_labels, num_classes=num_classes)\n",
        "y_val = tf.keras.utils.to_categorical(val_labels, num_classes=num_classes)\n",
        "y_test = tf.keras.utils.to_categorical(test_labels, num_classes=num_classes)\n"
      ],
      "metadata": {
        "colab": {
          "base_uri": "https://localhost:8080/"
        },
        "id": "jHSPHq2eW5YX",
        "outputId": "8b0a5565-c5e5-4d53-c16f-6a834e39b3e9"
      },
      "execution_count": 87,
      "outputs": [
        {
          "output_type": "stream",
          "name": "stdout",
          "text": [
            "Numero di classi: 109\n"
          ]
        }
      ]
    },
    {
      "cell_type": "markdown",
      "source": [
        "<a name=\"3\"></a>\n",
        "# **Classificatore**"
      ],
      "metadata": {
        "id": "-IncMLiyL8MD"
      }
    },
    {
      "cell_type": "markdown",
      "source": [
        "Costruiamo il nostro modello convoluzionale utilizzando alcune delle best practices (SeparableConv, DropOut, BatchNormalization) e uno strato Dense per permetterci di classificare i nostri volontari."
      ],
      "metadata": {
        "id": "q7Jx8PacHMg1"
      }
    },
    {
      "cell_type": "code",
      "source": [
        "# Preleviamo la shape da dare in input al modello\n",
        "shape=(train_data.shape[1], train_data.shape[2])\n",
        "\n",
        "# Impostiamo i parametri per i blocchi convolutivi\n",
        "filtri = 64\n",
        "strati = 1\n",
        "dropout = 0.15\n",
        "primo_sep = False\n",
        "\n",
        "model = convolutivo(num_classes, shape, filtri, dropout, strati, primo_sep)\n",
        "\n",
        "# Compiliamo il modello\n",
        "model.compile(loss='categorical_crossentropy', optimizer='adam', metrics=['accuracy'])"
      ],
      "metadata": {
        "id": "3s_ueUSb_JDf"
      },
      "execution_count": 99,
      "outputs": []
    },
    {
      "cell_type": "markdown",
      "source": [
        "Verifichiamo che il modello sia costruito come vogliamo."
      ],
      "metadata": {
        "id": "5BQ2RFxhKWcv"
      }
    },
    {
      "cell_type": "code",
      "source": [
        "model.summary()"
      ],
      "metadata": {
        "colab": {
          "base_uri": "https://localhost:8080/",
          "height": 374
        },
        "id": "Fr-mBF1xKU5g",
        "outputId": "9bf6f70a-7781-4258-9956-fd397eedbc21"
      },
      "execution_count": 100,
      "outputs": [
        {
          "output_type": "display_data",
          "data": {
            "text/plain": [
              "\u001b[1mModel: \"functional_9\"\u001b[0m\n"
            ],
            "text/html": [
              "<pre style=\"white-space:pre;overflow-x:auto;line-height:normal;font-family:Menlo,'DejaVu Sans Mono',consolas,'Courier New',monospace\"><span style=\"font-weight: bold\">Model: \"functional_9\"</span>\n",
              "</pre>\n"
            ]
          },
          "metadata": {}
        },
        {
          "output_type": "display_data",
          "data": {
            "text/plain": [
              "┏━━━━━━━━━━━━━━━━━━━━━━━━━━━━━━━━━━━━━━┳━━━━━━━━━━━━━━━━━━━━━━━━━━━━━┳━━━━━━━━━━━━━━━━━┓\n",
              "┃\u001b[1m \u001b[0m\u001b[1mLayer (type)                        \u001b[0m\u001b[1m \u001b[0m┃\u001b[1m \u001b[0m\u001b[1mOutput Shape               \u001b[0m\u001b[1m \u001b[0m┃\u001b[1m \u001b[0m\u001b[1m        Param #\u001b[0m\u001b[1m \u001b[0m┃\n",
              "┡━━━━━━━━━━━━━━━━━━━━━━━━━━━━━━━━━━━━━━╇━━━━━━━━━━━━━━━━━━━━━━━━━━━━━╇━━━━━━━━━━━━━━━━━┩\n",
              "│ input_layer_9 (\u001b[38;5;33mInputLayer\u001b[0m)           │ (\u001b[38;5;45mNone\u001b[0m, \u001b[38;5;34m240\u001b[0m, \u001b[38;5;34m64\u001b[0m)             │               \u001b[38;5;34m0\u001b[0m │\n",
              "├──────────────────────────────────────┼─────────────────────────────┼─────────────────┤\n",
              "│ conv1d_3 (\u001b[38;5;33mConv1D\u001b[0m)                    │ (\u001b[38;5;45mNone\u001b[0m, \u001b[38;5;34m240\u001b[0m, \u001b[38;5;34m64\u001b[0m)             │          \u001b[38;5;34m12,352\u001b[0m │\n",
              "├──────────────────────────────────────┼─────────────────────────────┼─────────────────┤\n",
              "│ batch_normalization_9                │ (\u001b[38;5;45mNone\u001b[0m, \u001b[38;5;34m240\u001b[0m, \u001b[38;5;34m64\u001b[0m)             │             \u001b[38;5;34m256\u001b[0m │\n",
              "│ (\u001b[38;5;33mBatchNormalization\u001b[0m)                 │                             │                 │\n",
              "├──────────────────────────────────────┼─────────────────────────────┼─────────────────┤\n",
              "│ dropout_9 (\u001b[38;5;33mDropout\u001b[0m)                  │ (\u001b[38;5;45mNone\u001b[0m, \u001b[38;5;34m240\u001b[0m, \u001b[38;5;34m64\u001b[0m)             │               \u001b[38;5;34m0\u001b[0m │\n",
              "├──────────────────────────────────────┼─────────────────────────────┼─────────────────┤\n",
              "│ global_average_pooling1d_9           │ (\u001b[38;5;45mNone\u001b[0m, \u001b[38;5;34m64\u001b[0m)                  │               \u001b[38;5;34m0\u001b[0m │\n",
              "│ (\u001b[38;5;33mGlobalAveragePooling1D\u001b[0m)             │                             │                 │\n",
              "├──────────────────────────────────────┼─────────────────────────────┼─────────────────┤\n",
              "│ dense_9 (\u001b[38;5;33mDense\u001b[0m)                      │ (\u001b[38;5;45mNone\u001b[0m, \u001b[38;5;34m109\u001b[0m)                 │           \u001b[38;5;34m7,085\u001b[0m │\n",
              "└──────────────────────────────────────┴─────────────────────────────┴─────────────────┘\n"
            ],
            "text/html": [
              "<pre style=\"white-space:pre;overflow-x:auto;line-height:normal;font-family:Menlo,'DejaVu Sans Mono',consolas,'Courier New',monospace\">┏━━━━━━━━━━━━━━━━━━━━━━━━━━━━━━━━━━━━━━┳━━━━━━━━━━━━━━━━━━━━━━━━━━━━━┳━━━━━━━━━━━━━━━━━┓\n",
              "┃<span style=\"font-weight: bold\"> Layer (type)                         </span>┃<span style=\"font-weight: bold\"> Output Shape                </span>┃<span style=\"font-weight: bold\">         Param # </span>┃\n",
              "┡━━━━━━━━━━━━━━━━━━━━━━━━━━━━━━━━━━━━━━╇━━━━━━━━━━━━━━━━━━━━━━━━━━━━━╇━━━━━━━━━━━━━━━━━┩\n",
              "│ input_layer_9 (<span style=\"color: #0087ff; text-decoration-color: #0087ff\">InputLayer</span>)           │ (<span style=\"color: #00d7ff; text-decoration-color: #00d7ff\">None</span>, <span style=\"color: #00af00; text-decoration-color: #00af00\">240</span>, <span style=\"color: #00af00; text-decoration-color: #00af00\">64</span>)             │               <span style=\"color: #00af00; text-decoration-color: #00af00\">0</span> │\n",
              "├──────────────────────────────────────┼─────────────────────────────┼─────────────────┤\n",
              "│ conv1d_3 (<span style=\"color: #0087ff; text-decoration-color: #0087ff\">Conv1D</span>)                    │ (<span style=\"color: #00d7ff; text-decoration-color: #00d7ff\">None</span>, <span style=\"color: #00af00; text-decoration-color: #00af00\">240</span>, <span style=\"color: #00af00; text-decoration-color: #00af00\">64</span>)             │          <span style=\"color: #00af00; text-decoration-color: #00af00\">12,352</span> │\n",
              "├──────────────────────────────────────┼─────────────────────────────┼─────────────────┤\n",
              "│ batch_normalization_9                │ (<span style=\"color: #00d7ff; text-decoration-color: #00d7ff\">None</span>, <span style=\"color: #00af00; text-decoration-color: #00af00\">240</span>, <span style=\"color: #00af00; text-decoration-color: #00af00\">64</span>)             │             <span style=\"color: #00af00; text-decoration-color: #00af00\">256</span> │\n",
              "│ (<span style=\"color: #0087ff; text-decoration-color: #0087ff\">BatchNormalization</span>)                 │                             │                 │\n",
              "├──────────────────────────────────────┼─────────────────────────────┼─────────────────┤\n",
              "│ dropout_9 (<span style=\"color: #0087ff; text-decoration-color: #0087ff\">Dropout</span>)                  │ (<span style=\"color: #00d7ff; text-decoration-color: #00d7ff\">None</span>, <span style=\"color: #00af00; text-decoration-color: #00af00\">240</span>, <span style=\"color: #00af00; text-decoration-color: #00af00\">64</span>)             │               <span style=\"color: #00af00; text-decoration-color: #00af00\">0</span> │\n",
              "├──────────────────────────────────────┼─────────────────────────────┼─────────────────┤\n",
              "│ global_average_pooling1d_9           │ (<span style=\"color: #00d7ff; text-decoration-color: #00d7ff\">None</span>, <span style=\"color: #00af00; text-decoration-color: #00af00\">64</span>)                  │               <span style=\"color: #00af00; text-decoration-color: #00af00\">0</span> │\n",
              "│ (<span style=\"color: #0087ff; text-decoration-color: #0087ff\">GlobalAveragePooling1D</span>)             │                             │                 │\n",
              "├──────────────────────────────────────┼─────────────────────────────┼─────────────────┤\n",
              "│ dense_9 (<span style=\"color: #0087ff; text-decoration-color: #0087ff\">Dense</span>)                      │ (<span style=\"color: #00d7ff; text-decoration-color: #00d7ff\">None</span>, <span style=\"color: #00af00; text-decoration-color: #00af00\">109</span>)                 │           <span style=\"color: #00af00; text-decoration-color: #00af00\">7,085</span> │\n",
              "└──────────────────────────────────────┴─────────────────────────────┴─────────────────┘\n",
              "</pre>\n"
            ]
          },
          "metadata": {}
        },
        {
          "output_type": "display_data",
          "data": {
            "text/plain": [
              "\u001b[1m Total params: \u001b[0m\u001b[38;5;34m19,693\u001b[0m (76.93 KB)\n"
            ],
            "text/html": [
              "<pre style=\"white-space:pre;overflow-x:auto;line-height:normal;font-family:Menlo,'DejaVu Sans Mono',consolas,'Courier New',monospace\"><span style=\"font-weight: bold\"> Total params: </span><span style=\"color: #00af00; text-decoration-color: #00af00\">19,693</span> (76.93 KB)\n",
              "</pre>\n"
            ]
          },
          "metadata": {}
        },
        {
          "output_type": "display_data",
          "data": {
            "text/plain": [
              "\u001b[1m Trainable params: \u001b[0m\u001b[38;5;34m19,565\u001b[0m (76.43 KB)\n"
            ],
            "text/html": [
              "<pre style=\"white-space:pre;overflow-x:auto;line-height:normal;font-family:Menlo,'DejaVu Sans Mono',consolas,'Courier New',monospace\"><span style=\"font-weight: bold\"> Trainable params: </span><span style=\"color: #00af00; text-decoration-color: #00af00\">19,565</span> (76.43 KB)\n",
              "</pre>\n"
            ]
          },
          "metadata": {}
        },
        {
          "output_type": "display_data",
          "data": {
            "text/plain": [
              "\u001b[1m Non-trainable params: \u001b[0m\u001b[38;5;34m128\u001b[0m (512.00 B)\n"
            ],
            "text/html": [
              "<pre style=\"white-space:pre;overflow-x:auto;line-height:normal;font-family:Menlo,'DejaVu Sans Mono',consolas,'Courier New',monospace\"><span style=\"font-weight: bold\"> Non-trainable params: </span><span style=\"color: #00af00; text-decoration-color: #00af00\">128</span> (512.00 B)\n",
              "</pre>\n"
            ]
          },
          "metadata": {}
        }
      ]
    },
    {
      "cell_type": "markdown",
      "source": [
        "Creiamo una callback per salvare i pesi con i quali si otterranno i risultati migliori sul validation set e avviamo il training."
      ],
      "metadata": {
        "id": "8kyYkPxsLQaD"
      }
    },
    {
      "source": [
        "#@title Addestramento con validazione\n",
        "#Salviamo i pesi dell'epoca in cui abbiamo ottenuto il val_loss minore\n",
        "callback = [\n",
        "    tf.keras.callbacks.ModelCheckpoint(filepath=f\"best-{banda}-conv.keras\", save_best_only=True, monitor=\"val_loss\"),\n",
        "]\n",
        "\n",
        "# Addestriamo il modello\n",
        "history = model.fit(train_data, y_train, epochs=50, batch_size=32, validation_data=(val_data, y_val), callbacks=callback)\n"
      ],
      "cell_type": "code",
      "metadata": {
        "id": "7cA4WBZ8AEMb",
        "colab": {
          "base_uri": "https://localhost:8080/"
        },
        "outputId": "ff1869db-7c3e-4a1e-fd92-5827aaae9cdb"
      },
      "execution_count": 101,
      "outputs": [
        {
          "output_type": "stream",
          "name": "stdout",
          "text": [
            "Epoch 1/50\n",
            "\u001b[1m195/195\u001b[0m \u001b[32m━━━━━━━━━━━━━━━━━━━━\u001b[0m\u001b[37m\u001b[0m \u001b[1m8s\u001b[0m 29ms/step - accuracy: 0.0776 - loss: 4.4058 - val_accuracy: 0.2615 - val_loss: 3.8606\n",
            "Epoch 2/50\n",
            "\u001b[1m195/195\u001b[0m \u001b[32m━━━━━━━━━━━━━━━━━━━━\u001b[0m\u001b[37m\u001b[0m \u001b[1m1s\u001b[0m 3ms/step - accuracy: 0.3273 - loss: 3.5891 - val_accuracy: 0.4465 - val_loss: 3.1631\n",
            "Epoch 3/50\n",
            "\u001b[1m195/195\u001b[0m \u001b[32m━━━━━━━━━━━━━━━━━━━━\u001b[0m\u001b[37m\u001b[0m \u001b[1m1s\u001b[0m 3ms/step - accuracy: 0.5163 - loss: 2.9685 - val_accuracy: 0.6613 - val_loss: 2.5025\n",
            "Epoch 4/50\n",
            "\u001b[1m195/195\u001b[0m \u001b[32m━━━━━━━━━━━━━━━━━━━━\u001b[0m\u001b[37m\u001b[0m \u001b[1m1s\u001b[0m 4ms/step - accuracy: 0.6821 - loss: 2.3616 - val_accuracy: 0.7546 - val_loss: 1.9563\n",
            "Epoch 5/50\n",
            "\u001b[1m195/195\u001b[0m \u001b[32m━━━━━━━━━━━━━━━━━━━━\u001b[0m\u001b[37m\u001b[0m \u001b[1m1s\u001b[0m 3ms/step - accuracy: 0.7656 - loss: 1.8464 - val_accuracy: 0.8180 - val_loss: 1.5142\n",
            "Epoch 6/50\n",
            "\u001b[1m195/195\u001b[0m \u001b[32m━━━━━━━━━━━━━━━━━━━━\u001b[0m\u001b[37m\u001b[0m \u001b[1m1s\u001b[0m 3ms/step - accuracy: 0.8165 - loss: 1.4411 - val_accuracy: 0.8502 - val_loss: 1.2187\n",
            "Epoch 7/50\n",
            "\u001b[1m195/195\u001b[0m \u001b[32m━━━━━━━━━━━━━━━━━━━━\u001b[0m\u001b[37m\u001b[0m \u001b[1m1s\u001b[0m 3ms/step - accuracy: 0.8500 - loss: 1.1528 - val_accuracy: 0.8731 - val_loss: 0.9707\n",
            "Epoch 8/50\n",
            "\u001b[1m195/195\u001b[0m \u001b[32m━━━━━━━━━━━━━━━━━━━━\u001b[0m\u001b[37m\u001b[0m \u001b[1m1s\u001b[0m 4ms/step - accuracy: 0.8688 - loss: 0.9372 - val_accuracy: 0.9044 - val_loss: 0.8069\n",
            "Epoch 9/50\n",
            "\u001b[1m195/195\u001b[0m \u001b[32m━━━━━━━━━━━━━━━━━━━━\u001b[0m\u001b[37m\u001b[0m \u001b[1m1s\u001b[0m 3ms/step - accuracy: 0.8877 - loss: 0.7992 - val_accuracy: 0.9167 - val_loss: 0.6841\n",
            "Epoch 10/50\n",
            "\u001b[1m195/195\u001b[0m \u001b[32m━━━━━━━━━━━━━━━━━━━━\u001b[0m\u001b[37m\u001b[0m \u001b[1m1s\u001b[0m 4ms/step - accuracy: 0.9142 - loss: 0.6731 - val_accuracy: 0.9029 - val_loss: 0.6034\n",
            "Epoch 11/50\n",
            "\u001b[1m195/195\u001b[0m \u001b[32m━━━━━━━━━━━━━━━━━━━━\u001b[0m\u001b[37m\u001b[0m \u001b[1m1s\u001b[0m 3ms/step - accuracy: 0.9074 - loss: 0.5833 - val_accuracy: 0.9541 - val_loss: 0.5214\n",
            "Epoch 12/50\n",
            "\u001b[1m195/195\u001b[0m \u001b[32m━━━━━━━━━━━━━━━━━━━━\u001b[0m\u001b[37m\u001b[0m \u001b[1m1s\u001b[0m 3ms/step - accuracy: 0.9309 - loss: 0.5113 - val_accuracy: 0.9656 - val_loss: 0.4594\n",
            "Epoch 13/50\n",
            "\u001b[1m195/195\u001b[0m \u001b[32m━━━━━━━━━━━━━━━━━━━━\u001b[0m\u001b[37m\u001b[0m \u001b[1m1s\u001b[0m 4ms/step - accuracy: 0.9360 - loss: 0.4520 - val_accuracy: 0.9205 - val_loss: 0.4423\n",
            "Epoch 14/50\n",
            "\u001b[1m195/195\u001b[0m \u001b[32m━━━━━━━━━━━━━━━━━━━━\u001b[0m\u001b[37m\u001b[0m \u001b[1m1s\u001b[0m 5ms/step - accuracy: 0.9333 - loss: 0.4314 - val_accuracy: 0.9297 - val_loss: 0.3732\n",
            "Epoch 15/50\n",
            "\u001b[1m195/195\u001b[0m \u001b[32m━━━━━━━━━━━━━━━━━━━━\u001b[0m\u001b[37m\u001b[0m \u001b[1m1s\u001b[0m 5ms/step - accuracy: 0.9486 - loss: 0.3516 - val_accuracy: 0.9602 - val_loss: 0.3468\n",
            "Epoch 16/50\n",
            "\u001b[1m195/195\u001b[0m \u001b[32m━━━━━━━━━━━━━━━━━━━━\u001b[0m\u001b[37m\u001b[0m \u001b[1m1s\u001b[0m 4ms/step - accuracy: 0.9500 - loss: 0.3404 - val_accuracy: 0.9740 - val_loss: 0.3057\n",
            "Epoch 17/50\n",
            "\u001b[1m195/195\u001b[0m \u001b[32m━━━━━━━━━━━━━━━━━━━━\u001b[0m\u001b[37m\u001b[0m \u001b[1m1s\u001b[0m 3ms/step - accuracy: 0.9693 - loss: 0.3026 - val_accuracy: 0.9794 - val_loss: 0.2853\n",
            "Epoch 18/50\n",
            "\u001b[1m195/195\u001b[0m \u001b[32m━━━━━━━━━━━━━━━━━━━━\u001b[0m\u001b[37m\u001b[0m \u001b[1m1s\u001b[0m 3ms/step - accuracy: 0.9741 - loss: 0.2759 - val_accuracy: 0.9862 - val_loss: 0.2614\n",
            "Epoch 19/50\n",
            "\u001b[1m195/195\u001b[0m \u001b[32m━━━━━━━━━━━━━━━━━━━━\u001b[0m\u001b[37m\u001b[0m \u001b[1m1s\u001b[0m 3ms/step - accuracy: 0.9775 - loss: 0.2449 - val_accuracy: 0.9908 - val_loss: 0.2450\n",
            "Epoch 20/50\n",
            "\u001b[1m195/195\u001b[0m \u001b[32m━━━━━━━━━━━━━━━━━━━━\u001b[0m\u001b[37m\u001b[0m \u001b[1m1s\u001b[0m 4ms/step - accuracy: 0.9814 - loss: 0.2268 - val_accuracy: 0.9878 - val_loss: 0.2282\n",
            "Epoch 21/50\n",
            "\u001b[1m195/195\u001b[0m \u001b[32m━━━━━━━━━━━━━━━━━━━━\u001b[0m\u001b[37m\u001b[0m \u001b[1m1s\u001b[0m 3ms/step - accuracy: 0.9780 - loss: 0.2186 - val_accuracy: 0.9824 - val_loss: 0.2087\n",
            "Epoch 22/50\n",
            "\u001b[1m195/195\u001b[0m \u001b[32m━━━━━━━━━━━━━━━━━━━━\u001b[0m\u001b[37m\u001b[0m \u001b[1m1s\u001b[0m 4ms/step - accuracy: 0.9810 - loss: 0.1956 - val_accuracy: 0.9939 - val_loss: 0.1966\n",
            "Epoch 23/50\n",
            "\u001b[1m195/195\u001b[0m \u001b[32m━━━━━━━━━━━━━━━━━━━━\u001b[0m\u001b[37m\u001b[0m \u001b[1m1s\u001b[0m 4ms/step - accuracy: 0.9863 - loss: 0.1914 - val_accuracy: 0.9931 - val_loss: 0.1826\n",
            "Epoch 24/50\n",
            "\u001b[1m195/195\u001b[0m \u001b[32m━━━━━━━━━━━━━━━━━━━━\u001b[0m\u001b[37m\u001b[0m \u001b[1m1s\u001b[0m 4ms/step - accuracy: 0.9922 - loss: 0.1704 - val_accuracy: 0.9969 - val_loss: 0.1712\n",
            "Epoch 25/50\n",
            "\u001b[1m195/195\u001b[0m \u001b[32m━━━━━━━━━━━━━━━━━━━━\u001b[0m\u001b[37m\u001b[0m \u001b[1m1s\u001b[0m 3ms/step - accuracy: 0.9936 - loss: 0.1560 - val_accuracy: 0.9939 - val_loss: 0.1680\n",
            "Epoch 26/50\n",
            "\u001b[1m195/195\u001b[0m \u001b[32m━━━━━━━━━━━━━━━━━━━━\u001b[0m\u001b[37m\u001b[0m \u001b[1m1s\u001b[0m 4ms/step - accuracy: 0.9920 - loss: 0.1402 - val_accuracy: 0.9977 - val_loss: 0.1502\n",
            "Epoch 27/50\n",
            "\u001b[1m195/195\u001b[0m \u001b[32m━━━━━━━━━━━━━━━━━━━━\u001b[0m\u001b[37m\u001b[0m \u001b[1m1s\u001b[0m 4ms/step - accuracy: 0.9917 - loss: 0.1431 - val_accuracy: 0.8807 - val_loss: 0.5959\n",
            "Epoch 28/50\n",
            "\u001b[1m195/195\u001b[0m \u001b[32m━━━━━━━━━━━━━━━━━━━━\u001b[0m\u001b[37m\u001b[0m \u001b[1m1s\u001b[0m 5ms/step - accuracy: 0.9824 - loss: 0.2138 - val_accuracy: 0.9946 - val_loss: 0.1411\n",
            "Epoch 29/50\n",
            "\u001b[1m195/195\u001b[0m \u001b[32m━━━━━━━━━━━━━━━━━━━━\u001b[0m\u001b[37m\u001b[0m \u001b[1m1s\u001b[0m 4ms/step - accuracy: 0.9949 - loss: 0.1153 - val_accuracy: 0.9977 - val_loss: 0.1268\n",
            "Epoch 30/50\n",
            "\u001b[1m195/195\u001b[0m \u001b[32m━━━━━━━━━━━━━━━━━━━━\u001b[0m\u001b[37m\u001b[0m \u001b[1m1s\u001b[0m 3ms/step - accuracy: 0.9953 - loss: 0.1095 - val_accuracy: 0.9954 - val_loss: 0.1203\n",
            "Epoch 31/50\n",
            "\u001b[1m195/195\u001b[0m \u001b[32m━━━━━━━━━━━━━━━━━━━━\u001b[0m\u001b[37m\u001b[0m \u001b[1m1s\u001b[0m 4ms/step - accuracy: 0.9960 - loss: 0.1021 - val_accuracy: 0.9931 - val_loss: 0.1109\n",
            "Epoch 32/50\n",
            "\u001b[1m195/195\u001b[0m \u001b[32m━━━━━━━━━━━━━━━━━━━━\u001b[0m\u001b[37m\u001b[0m \u001b[1m1s\u001b[0m 4ms/step - accuracy: 0.9966 - loss: 0.0933 - val_accuracy: 0.9946 - val_loss: 0.1037\n",
            "Epoch 33/50\n",
            "\u001b[1m195/195\u001b[0m \u001b[32m━━━━━━━━━━━━━━━━━━━━\u001b[0m\u001b[37m\u001b[0m \u001b[1m1s\u001b[0m 4ms/step - accuracy: 0.9985 - loss: 0.0933 - val_accuracy: 0.9969 - val_loss: 0.0958\n",
            "Epoch 34/50\n",
            "\u001b[1m195/195\u001b[0m \u001b[32m━━━━━━━━━━━━━━━━━━━━\u001b[0m\u001b[37m\u001b[0m \u001b[1m1s\u001b[0m 3ms/step - accuracy: 0.9979 - loss: 0.0844 - val_accuracy: 0.9954 - val_loss: 0.0968\n",
            "Epoch 35/50\n",
            "\u001b[1m195/195\u001b[0m \u001b[32m━━━━━━━━━━━━━━━━━━━━\u001b[0m\u001b[37m\u001b[0m \u001b[1m1s\u001b[0m 3ms/step - accuracy: 0.9985 - loss: 0.0718 - val_accuracy: 0.9931 - val_loss: 0.0855\n",
            "Epoch 36/50\n",
            "\u001b[1m195/195\u001b[0m \u001b[32m━━━━━━━━━━━━━━━━━━━━\u001b[0m\u001b[37m\u001b[0m \u001b[1m1s\u001b[0m 3ms/step - accuracy: 0.9974 - loss: 0.0721 - val_accuracy: 0.9969 - val_loss: 0.0885\n",
            "Epoch 37/50\n",
            "\u001b[1m195/195\u001b[0m \u001b[32m━━━━━━━━━━━━━━━━━━━━\u001b[0m\u001b[37m\u001b[0m \u001b[1m1s\u001b[0m 3ms/step - accuracy: 0.9990 - loss: 0.0670 - val_accuracy: 0.9954 - val_loss: 0.0806\n",
            "Epoch 38/50\n",
            "\u001b[1m195/195\u001b[0m \u001b[32m━━━━━━━━━━━━━━━━━━━━\u001b[0m\u001b[37m\u001b[0m \u001b[1m1s\u001b[0m 4ms/step - accuracy: 0.9989 - loss: 0.0583 - val_accuracy: 0.9931 - val_loss: 0.0922\n",
            "Epoch 39/50\n",
            "\u001b[1m195/195\u001b[0m \u001b[32m━━━━━━━━━━━━━━━━━━━━\u001b[0m\u001b[37m\u001b[0m \u001b[1m1s\u001b[0m 4ms/step - accuracy: 0.9987 - loss: 0.0616 - val_accuracy: 0.9962 - val_loss: 0.0759\n",
            "Epoch 40/50\n",
            "\u001b[1m195/195\u001b[0m \u001b[32m━━━━━━━━━━━━━━━━━━━━\u001b[0m\u001b[37m\u001b[0m \u001b[1m1s\u001b[0m 5ms/step - accuracy: 0.9987 - loss: 0.0571 - val_accuracy: 0.9312 - val_loss: 0.3247\n",
            "Epoch 41/50\n",
            "\u001b[1m195/195\u001b[0m \u001b[32m━━━━━━━━━━━━━━━━━━━━\u001b[0m\u001b[37m\u001b[0m \u001b[1m1s\u001b[0m 3ms/step - accuracy: 0.9960 - loss: 0.0876 - val_accuracy: 0.9962 - val_loss: 0.0749\n",
            "Epoch 42/50\n",
            "\u001b[1m195/195\u001b[0m \u001b[32m━━━━━━━━━━━━━━━━━━━━\u001b[0m\u001b[37m\u001b[0m \u001b[1m1s\u001b[0m 4ms/step - accuracy: 0.9980 - loss: 0.0617 - val_accuracy: 0.9946 - val_loss: 0.0685\n",
            "Epoch 43/50\n",
            "\u001b[1m195/195\u001b[0m \u001b[32m━━━━━━━━━━━━━━━━━━━━\u001b[0m\u001b[37m\u001b[0m \u001b[1m1s\u001b[0m 4ms/step - accuracy: 0.9994 - loss: 0.0401 - val_accuracy: 0.9954 - val_loss: 0.0626\n",
            "Epoch 44/50\n",
            "\u001b[1m195/195\u001b[0m \u001b[32m━━━━━━━━━━━━━━━━━━━━\u001b[0m\u001b[37m\u001b[0m \u001b[1m1s\u001b[0m 3ms/step - accuracy: 0.9976 - loss: 0.0580 - val_accuracy: 0.9878 - val_loss: 0.1083\n",
            "Epoch 45/50\n",
            "\u001b[1m195/195\u001b[0m \u001b[32m━━━━━━━━━━━━━━━━━━━━\u001b[0m\u001b[37m\u001b[0m \u001b[1m1s\u001b[0m 3ms/step - accuracy: 0.9929 - loss: 0.0740 - val_accuracy: 0.9924 - val_loss: 0.0789\n",
            "Epoch 46/50\n",
            "\u001b[1m195/195\u001b[0m \u001b[32m━━━━━━━━━━━━━━━━━━━━\u001b[0m\u001b[37m\u001b[0m \u001b[1m1s\u001b[0m 3ms/step - accuracy: 0.9992 - loss: 0.0444 - val_accuracy: 0.9946 - val_loss: 0.0630\n",
            "Epoch 47/50\n",
            "\u001b[1m195/195\u001b[0m \u001b[32m━━━━━━━━━━━━━━━━━━━━\u001b[0m\u001b[37m\u001b[0m \u001b[1m1s\u001b[0m 4ms/step - accuracy: 0.9985 - loss: 0.0343 - val_accuracy: 0.9962 - val_loss: 0.0543\n",
            "Epoch 48/50\n",
            "\u001b[1m195/195\u001b[0m \u001b[32m━━━━━━━━━━━━━━━━━━━━\u001b[0m\u001b[37m\u001b[0m \u001b[1m1s\u001b[0m 3ms/step - accuracy: 0.9991 - loss: 0.0306 - val_accuracy: 0.9969 - val_loss: 0.0495\n",
            "Epoch 49/50\n",
            "\u001b[1m195/195\u001b[0m \u001b[32m━━━━━━━━━━━━━━━━━━━━\u001b[0m\u001b[37m\u001b[0m \u001b[1m1s\u001b[0m 3ms/step - accuracy: 0.9996 - loss: 0.0290 - val_accuracy: 0.9969 - val_loss: 0.0463\n",
            "Epoch 50/50\n",
            "\u001b[1m195/195\u001b[0m \u001b[32m━━━━━━━━━━━━━━━━━━━━\u001b[0m\u001b[37m\u001b[0m \u001b[1m1s\u001b[0m 4ms/step - accuracy: 0.9993 - loss: 0.0266 - val_accuracy: 0.9969 - val_loss: 0.0504\n"
          ]
        }
      ]
    },
    {
      "cell_type": "code",
      "source": [
        "#@title Grafico confroto fra Loss e Accuratezze\n",
        "# Estrarre i dati dall'oggetto `history`\n",
        "loss = history.history['loss']\n",
        "val_loss = history.history['val_loss']\n",
        "accuracy = history.history.get('accuracy', [])  # Alcuni modelli usano 'acc' invece di 'accuracy'\n",
        "val_accuracy = history.history.get('val_accuracy', [])\n",
        "\n",
        "# Individuare l'epoca con la miglior val_loss\n",
        "best_epoch = np.argmin(val_loss)\n",
        "best_val_loss = val_loss[best_epoch]\n",
        "\n",
        "# Creare i grafici\n",
        "fig, axes = plt.subplots(1, 2, figsize=(14, 6))  # Un grafico accanto all'altro\n",
        "\n",
        "# Grafico Loss\n",
        "axes[0].plot(loss, label=\"Train Loss\")\n",
        "axes[0].plot(val_loss, label=\"Validation Loss\")\n",
        "axes[0].scatter(best_epoch, best_val_loss, color='red', label=f\"Best val_loss ({best_val_loss:.4f})\")\n",
        "axes[0].set_title(\"Loss and Validation Loss\")\n",
        "axes[0].set_xlabel(\"Epoche\")\n",
        "axes[0].set_ylabel(\"Loss\")\n",
        "axes[0].legend()\n",
        "\n",
        "# Grafico Accuracy\n",
        "if accuracy and val_accuracy:\n",
        "    axes[1].plot(accuracy, label=\"Train Accuracy\")\n",
        "    axes[1].plot(val_accuracy, label=\"Validation Accuracy\")\n",
        "    if val_accuracy:\n",
        "        best_val_accuracy = val_accuracy[best_epoch]\n",
        "        axes[1].scatter(best_epoch, best_val_accuracy, color='red', label=f\"val_acc at best val_loss ({best_val_accuracy:.4f})\")\n",
        "    axes[1].set_title(\"Accuracy and Validation Accuracy\")\n",
        "    axes[1].set_xlabel(\"Epoche\")\n",
        "    axes[1].set_ylabel(\"Accuracy\")\n",
        "    axes[1].legend()\n",
        "\n",
        "# Mostrare i grafici\n",
        "plt.tight_layout()\n",
        "plt.show()\n"
      ],
      "metadata": {
        "colab": {
          "base_uri": "https://localhost:8080/",
          "height": 413
        },
        "cellView": "form",
        "id": "dP3S3BSFsvDV",
        "outputId": "eb616ff6-1f6c-4ac7-d202-66624f882feb"
      },
      "execution_count": 102,
      "outputs": [
        {
          "output_type": "display_data",
          "data": {
            "text/plain": [
              "<Figure size 1400x600 with 2 Axes>"
            ],
            "image/png": "[encoded data removed]"
          },
          "metadata": {}
        }
      ]
    },
    {
      "cell_type": "markdown",
      "source": [
        "---\n",
        "Una volta convalidati gli iperparametri grazia al\n",
        "validation set, sfruttiamo tutti i dati disponibili per l'addestramento del modello."
      ],
      "metadata": {
        "id": "l3TRt0EPnwHB"
      }
    },
    {
      "cell_type": "code",
      "source": [
        "#@title Uniamo e rimescoliamo trainset con validation set\n",
        "\n",
        "# Uniamo i dati\n",
        "combined_data = np.concatenate((train_data, val_data), axis=0)\n",
        "combined_labels = np.concatenate((y_train, y_val), axis=0)\n",
        "\n",
        "# Mescoliamo di nuovo\n",
        "combined_data, combined_labels = shuffle(combined_data, combined_labels, random_state=SEED)"
      ],
      "metadata": {
        "id": "cKDr1M6UoFiV"
      },
      "execution_count": 94,
      "outputs": []
    },
    {
      "cell_type": "code",
      "source": [
        "#@title Addestramento finale\n",
        "#Ricompiliamo il modello\n",
        "model = convolutivo(num_classes, shape, filtri, dropout, strati, primo_sep)\n",
        "model.compile(loss='categorical_crossentropy', optimizer='adam', metrics=['accuracy'])\n",
        "#Salviamo i pesi dell'epoca in cui abbiamo ottenuto il val_loss minore\n",
        "callback = [\n",
        "    tf.keras.callbacks.ModelCheckpoint(filepath=f\"best-{banda}-finale_conv.keras\", save_best_only=True, monitor=\"loss\"),\n",
        "]\n",
        "\n",
        "# Addestriamo il modello\n",
        "history = model.fit(combined_data, combined_labels, epochs=50, batch_size=32, callbacks=callback)\n"
      ],
      "metadata": {
        "colab": {
          "base_uri": "https://localhost:8080/"
        },
        "id": "6BUXeC7Zo5K1",
        "outputId": "cc116099-914a-48b8-ba49-711e3f1958f4"
      },
      "execution_count": 105,
      "outputs": [
        {
          "output_type": "stream",
          "name": "stdout",
          "text": [
            "Epoch 1/50\n",
            "\u001b[1m236/236\u001b[0m \u001b[32m━━━━━━━━━━━━━━━━━━━━\u001b[0m\u001b[37m\u001b[0m \u001b[1m6s\u001b[0m 12ms/step - accuracy: 0.0810 - loss: 4.3931\n",
            "Epoch 2/50\n",
            "\u001b[1m236/236\u001b[0m \u001b[32m━━━━━━━━━━━━━━━━━━━━\u001b[0m\u001b[37m\u001b[0m \u001b[1m1s\u001b[0m 3ms/step - accuracy: 0.3686 - loss: 3.4822\n",
            "Epoch 3/50\n",
            "\u001b[1m236/236\u001b[0m \u001b[32m━━━━━━━━━━━━━━━━━━━━\u001b[0m\u001b[37m\u001b[0m \u001b[1m1s\u001b[0m 3ms/step - accuracy: 0.5991 - loss: 2.7112\n",
            "Epoch 4/50\n",
            "\u001b[1m236/236\u001b[0m \u001b[32m━━━━━━━━━━━━━━━━━━━━\u001b[0m\u001b[37m\u001b[0m \u001b[1m1s\u001b[0m 4ms/step - accuracy: 0.7533 - loss: 1.9939\n",
            "Epoch 5/50\n",
            "\u001b[1m236/236\u001b[0m \u001b[32m━━━━━━━━━━━━━━━━━━━━\u001b[0m\u001b[37m\u001b[0m \u001b[1m1s\u001b[0m 3ms/step - accuracy: 0.8254 - loss: 1.4968\n",
            "Epoch 6/50\n",
            "\u001b[1m236/236\u001b[0m \u001b[32m━━━━━━━━━━━━━━━━━━━━\u001b[0m\u001b[37m\u001b[0m \u001b[1m1s\u001b[0m 3ms/step - accuracy: 0.8448 - loss: 1.1463\n",
            "Epoch 7/50\n",
            "\u001b[1m236/236\u001b[0m \u001b[32m━━━━━━━━━━━━━━━━━━━━\u001b[0m\u001b[37m\u001b[0m \u001b[1m1s\u001b[0m 3ms/step - accuracy: 0.8759 - loss: 0.8998\n",
            "Epoch 8/50\n",
            "\u001b[1m236/236\u001b[0m \u001b[32m━━━━━━━━━━━━━━━━━━━━\u001b[0m\u001b[37m\u001b[0m \u001b[1m1s\u001b[0m 3ms/step - accuracy: 0.8931 - loss: 0.7415\n",
            "Epoch 9/50\n",
            "\u001b[1m236/236\u001b[0m \u001b[32m━━━━━━━━━━━━━━━━━━━━\u001b[0m\u001b[37m\u001b[0m \u001b[1m1s\u001b[0m 3ms/step - accuracy: 0.9167 - loss: 0.6077\n",
            "Epoch 10/50\n",
            "\u001b[1m236/236\u001b[0m \u001b[32m━━━━━━━━━━━━━━━━━━━━\u001b[0m\u001b[37m\u001b[0m \u001b[1m1s\u001b[0m 3ms/step - accuracy: 0.9322 - loss: 0.5248\n",
            "Epoch 11/50\n",
            "\u001b[1m236/236\u001b[0m \u001b[32m━━━━━━━━━━━━━━━━━━━━\u001b[0m\u001b[37m\u001b[0m \u001b[1m1s\u001b[0m 4ms/step - accuracy: 0.9423 - loss: 0.4594\n",
            "Epoch 12/50\n",
            "\u001b[1m236/236\u001b[0m \u001b[32m━━━━━━━━━━━━━━━━━━━━\u001b[0m\u001b[37m\u001b[0m \u001b[1m1s\u001b[0m 4ms/step - accuracy: 0.9505 - loss: 0.3876\n",
            "Epoch 13/50\n",
            "\u001b[1m236/236\u001b[0m \u001b[32m━━━━━━━━━━━━━━━━━━━━\u001b[0m\u001b[37m\u001b[0m \u001b[1m1s\u001b[0m 3ms/step - accuracy: 0.9517 - loss: 0.3692\n",
            "Epoch 14/50\n",
            "\u001b[1m236/236\u001b[0m \u001b[32m━━━━━━━━━━━━━━━━━━━━\u001b[0m\u001b[37m\u001b[0m \u001b[1m1s\u001b[0m 3ms/step - accuracy: 0.9665 - loss: 0.3218\n",
            "Epoch 15/50\n",
            "\u001b[1m236/236\u001b[0m \u001b[32m━━━━━━━━━━━━━━━━━━━━\u001b[0m\u001b[37m\u001b[0m \u001b[1m1s\u001b[0m 3ms/step - accuracy: 0.9622 - loss: 0.2732\n",
            "Epoch 16/50\n",
            "\u001b[1m236/236\u001b[0m \u001b[32m━━━━━━━━━━━━━━━━━━━━\u001b[0m\u001b[37m\u001b[0m \u001b[1m1s\u001b[0m 3ms/step - accuracy: 0.9756 - loss: 0.2535\n",
            "Epoch 17/50\n",
            "\u001b[1m236/236\u001b[0m \u001b[32m━━━━━━━━━━━━━━━━━━━━\u001b[0m\u001b[37m\u001b[0m \u001b[1m1s\u001b[0m 4ms/step - accuracy: 0.9818 - loss: 0.2396\n",
            "Epoch 18/50\n",
            "\u001b[1m236/236\u001b[0m \u001b[32m━━━━━━━━━━━━━━━━━━━━\u001b[0m\u001b[37m\u001b[0m \u001b[1m1s\u001b[0m 4ms/step - accuracy: 0.9800 - loss: 0.2221\n",
            "Epoch 19/50\n",
            "\u001b[1m236/236\u001b[0m \u001b[32m━━━━━━━━━━━━━━━━━━━━\u001b[0m\u001b[37m\u001b[0m \u001b[1m1s\u001b[0m 4ms/step - accuracy: 0.9866 - loss: 0.1946\n",
            "Epoch 20/50\n",
            "\u001b[1m236/236\u001b[0m \u001b[32m━━━━━━━━━━━━━━━━━━━━\u001b[0m\u001b[37m\u001b[0m \u001b[1m1s\u001b[0m 3ms/step - accuracy: 0.9876 - loss: 0.1856\n",
            "Epoch 21/50\n",
            "\u001b[1m236/236\u001b[0m \u001b[32m━━━━━━━━━━━━━━━━━━━━\u001b[0m\u001b[37m\u001b[0m \u001b[1m1s\u001b[0m 3ms/step - accuracy: 0.9924 - loss: 0.1682\n",
            "Epoch 22/50\n",
            "\u001b[1m236/236\u001b[0m \u001b[32m━━━━━━━━━━━━━━━━━━━━\u001b[0m\u001b[37m\u001b[0m \u001b[1m1s\u001b[0m 3ms/step - accuracy: 0.9916 - loss: 0.1603\n",
            "Epoch 23/50\n",
            "\u001b[1m236/236\u001b[0m \u001b[32m━━━━━━━━━━━━━━━━━━━━\u001b[0m\u001b[37m\u001b[0m \u001b[1m1s\u001b[0m 3ms/step - accuracy: 0.9940 - loss: 0.1379\n",
            "Epoch 24/50\n",
            "\u001b[1m236/236\u001b[0m \u001b[32m━━━━━━━━━━━━━━━━━━━━\u001b[0m\u001b[37m\u001b[0m \u001b[1m1s\u001b[0m 3ms/step - accuracy: 0.9906 - loss: 0.1325\n",
            "Epoch 25/50\n",
            "\u001b[1m236/236\u001b[0m \u001b[32m━━━━━━━━━━━━━━━━━━━━\u001b[0m\u001b[37m\u001b[0m \u001b[1m1s\u001b[0m 3ms/step - accuracy: 0.9971 - loss: 0.1068\n",
            "Epoch 26/50\n",
            "\u001b[1m236/236\u001b[0m \u001b[32m━━━━━━━━━━━━━━━━━━━━\u001b[0m\u001b[37m\u001b[0m \u001b[1m1s\u001b[0m 3ms/step - accuracy: 0.9965 - loss: 0.1064\n",
            "Epoch 27/50\n",
            "\u001b[1m236/236\u001b[0m \u001b[32m━━━━━━━━━━━━━━━━━━━━\u001b[0m\u001b[37m\u001b[0m \u001b[1m1s\u001b[0m 3ms/step - accuracy: 0.9977 - loss: 0.0984\n",
            "Epoch 28/50\n",
            "\u001b[1m236/236\u001b[0m \u001b[32m━━━━━━━━━━━━━━━━━━━━\u001b[0m\u001b[37m\u001b[0m \u001b[1m1s\u001b[0m 3ms/step - accuracy: 0.9982 - loss: 0.0878\n",
            "Epoch 29/50\n",
            "\u001b[1m236/236\u001b[0m \u001b[32m━━━━━━━━━━━━━━━━━━━━\u001b[0m\u001b[37m\u001b[0m \u001b[1m1s\u001b[0m 3ms/step - accuracy: 0.9971 - loss: 0.0857\n",
            "Epoch 30/50\n",
            "\u001b[1m236/236\u001b[0m \u001b[32m━━━━━━━━━━━━━━━━━━━━\u001b[0m\u001b[37m\u001b[0m \u001b[1m1s\u001b[0m 3ms/step - accuracy: 0.9958 - loss: 0.0773\n",
            "Epoch 31/50\n",
            "\u001b[1m236/236\u001b[0m \u001b[32m━━━━━━━━━━━━━━━━━━━━\u001b[0m\u001b[37m\u001b[0m \u001b[1m1s\u001b[0m 3ms/step - accuracy: 0.9979 - loss: 0.0707\n",
            "Epoch 32/50\n",
            "\u001b[1m236/236\u001b[0m \u001b[32m━━━━━━━━━━━━━━━━━━━━\u001b[0m\u001b[37m\u001b[0m \u001b[1m1s\u001b[0m 4ms/step - accuracy: 0.9983 - loss: 0.0613\n",
            "Epoch 33/50\n",
            "\u001b[1m236/236\u001b[0m \u001b[32m━━━━━━━━━━━━━━━━━━━━\u001b[0m\u001b[37m\u001b[0m \u001b[1m1s\u001b[0m 3ms/step - accuracy: 0.9984 - loss: 0.0604\n",
            "Epoch 34/50\n",
            "\u001b[1m236/236\u001b[0m \u001b[32m━━━━━━━━━━━━━━━━━━━━\u001b[0m\u001b[37m\u001b[0m \u001b[1m1s\u001b[0m 3ms/step - accuracy: 0.9980 - loss: 0.0678\n",
            "Epoch 35/50\n",
            "\u001b[1m236/236\u001b[0m \u001b[32m━━━━━━━━━━━━━━━━━━━━\u001b[0m\u001b[37m\u001b[0m \u001b[1m1s\u001b[0m 3ms/step - accuracy: 0.9970 - loss: 0.0558\n",
            "Epoch 36/50\n",
            "\u001b[1m236/236\u001b[0m \u001b[32m━━━━━━━━━━━━━━━━━━━━\u001b[0m\u001b[37m\u001b[0m \u001b[1m1s\u001b[0m 3ms/step - accuracy: 0.9977 - loss: 0.0458\n",
            "Epoch 37/50\n",
            "\u001b[1m236/236\u001b[0m \u001b[32m━━━━━━━━━━━━━━━━━━━━\u001b[0m\u001b[37m\u001b[0m \u001b[1m1s\u001b[0m 3ms/step - accuracy: 0.9986 - loss: 0.0419\n",
            "Epoch 38/50\n",
            "\u001b[1m236/236\u001b[0m \u001b[32m━━━━━━━━━━━━━━━━━━━━\u001b[0m\u001b[37m\u001b[0m \u001b[1m1s\u001b[0m 3ms/step - accuracy: 0.9989 - loss: 0.0405\n",
            "Epoch 39/50\n",
            "\u001b[1m236/236\u001b[0m \u001b[32m━━━━━━━━━━━━━━━━━━━━\u001b[0m\u001b[37m\u001b[0m \u001b[1m1s\u001b[0m 3ms/step - accuracy: 0.9991 - loss: 0.0343\n",
            "Epoch 40/50\n",
            "\u001b[1m236/236\u001b[0m \u001b[32m━━━━━━━━━━━━━━━━━━━━\u001b[0m\u001b[37m\u001b[0m \u001b[1m1s\u001b[0m 3ms/step - accuracy: 0.9991 - loss: 0.0327\n",
            "Epoch 41/50\n",
            "\u001b[1m236/236\u001b[0m \u001b[32m━━━━━━━━━━━━━━━━━━━━\u001b[0m\u001b[37m\u001b[0m \u001b[1m1s\u001b[0m 3ms/step - accuracy: 0.9990 - loss: 0.0333\n",
            "Epoch 42/50\n",
            "\u001b[1m236/236\u001b[0m \u001b[32m━━━━━━━━━━━━━━━━━━━━\u001b[0m\u001b[37m\u001b[0m \u001b[1m1s\u001b[0m 3ms/step - accuracy: 0.9994 - loss: 0.0316\n",
            "Epoch 43/50\n",
            "\u001b[1m236/236\u001b[0m \u001b[32m━━━━━━━━━━━━━━━━━━━━\u001b[0m\u001b[37m\u001b[0m \u001b[1m1s\u001b[0m 3ms/step - accuracy: 0.9986 - loss: 0.0320\n",
            "Epoch 44/50\n",
            "\u001b[1m236/236\u001b[0m \u001b[32m━━━━━━━━━━━━━━━━━━━━\u001b[0m\u001b[37m\u001b[0m \u001b[1m1s\u001b[0m 3ms/step - accuracy: 0.9936 - loss: 0.0673\n",
            "Epoch 45/50\n",
            "\u001b[1m236/236\u001b[0m \u001b[32m━━━━━━━━━━━━━━━━━━━━\u001b[0m\u001b[37m\u001b[0m \u001b[1m1s\u001b[0m 3ms/step - accuracy: 0.9983 - loss: 0.0317\n",
            "Epoch 46/50\n",
            "\u001b[1m236/236\u001b[0m \u001b[32m━━━━━━━━━━━━━━━━━━━━\u001b[0m\u001b[37m\u001b[0m \u001b[1m1s\u001b[0m 4ms/step - accuracy: 0.9993 - loss: 0.0211\n",
            "Epoch 47/50\n",
            "\u001b[1m236/236\u001b[0m \u001b[32m━━━━━━━━━━━━━━━━━━━━\u001b[0m\u001b[37m\u001b[0m \u001b[1m1s\u001b[0m 4ms/step - accuracy: 0.9999 - loss: 0.0175\n",
            "Epoch 48/50\n",
            "\u001b[1m236/236\u001b[0m \u001b[32m━━━━━━━━━━━━━━━━━━━━\u001b[0m\u001b[37m\u001b[0m \u001b[1m1s\u001b[0m 4ms/step - accuracy: 0.9996 - loss: 0.0175\n",
            "Epoch 49/50\n",
            "\u001b[1m236/236\u001b[0m \u001b[32m━━━━━━━━━━━━━━━━━━━━\u001b[0m\u001b[37m\u001b[0m \u001b[1m1s\u001b[0m 3ms/step - accuracy: 0.9995 - loss: 0.0155\n",
            "Epoch 50/50\n",
            "\u001b[1m236/236\u001b[0m \u001b[32m━━━━━━━━━━━━━━━━━━━━\u001b[0m\u001b[37m\u001b[0m \u001b[1m1s\u001b[0m 3ms/step - accuracy: 0.9998 - loss: 0.0160\n"
          ]
        }
      ]
    },
    {
      "cell_type": "markdown",
      "source": [
        "Per ricaricare i pesi che hanno performato meglio durante l'addestramento:"
      ],
      "metadata": {
        "id": "p766G32PK-1b"
      }
    },
    {
      "cell_type": "code",
      "source": [
        "model = tf.keras.models.load_model(f\"best-{banda}-finale_conv.keras\")"
      ],
      "metadata": {
        "id": "pvZvM0tWLBO1"
      },
      "execution_count": 106,
      "outputs": []
    },
    {
      "cell_type": "code",
      "source": [
        "#@title Se vuoi salvare o caricare il modello (architettura, pesi e configurazioni), seleziona il percorso qui:\n",
        "\n",
        "weights_path = f'{PERCORSO_DRIVE}/Dati preprocessati/{run}/Pesi convolutivo/'\n",
        "salvare_caricare = 'caricare' #@param ['salvare', 'caricare']\n",
        "nome_file = 'best-ABG-finale_conv.keras' #@param {type:\"string\"}\n",
        "# Verifica se la cartella esiste già\n",
        "if not os.path.exists(weights_path):\n",
        "  os.makedirs(weights_path)                                                     # Crea la cartella\n",
        "  print(f\"Cartella '{weights_path}' creata con successo.\")\n",
        "\n",
        "if salvare_caricare == 'salvare':\n",
        "  model.save(weights_path + nome_file)\n",
        "  print(\"architettura, pesi e configurazione salvati con successo\")\n",
        "\n",
        "elif salvare_caricare == 'caricare':\n",
        "  model = tf.keras.models.load_model(weights_path + nome_file)\n",
        "  print(\"architettura, pesi e configurazione caricati con successo\")\n"
      ],
      "metadata": {
        "colab": {
          "base_uri": "https://localhost:8080/"
        },
        "id": "zMJLe0sUwJvf",
        "outputId": "93b91ccd-8de3-4829-8e4c-cae7dda90711"
      },
      "execution_count": 109,
      "outputs": [
        {
          "output_type": "stream",
          "name": "stdout",
          "text": [
            "architettura, pesi e configurazione caricati con successo\n"
          ]
        }
      ]
    },
    {
      "cell_type": "markdown",
      "source": [
        "Valutiamo infine le prestazioni del modello sul test set."
      ],
      "metadata": {
        "id": "v93XQCpGLI1e"
      }
    },
    {
      "cell_type": "code",
      "source": [
        "loss, accuracy = model.evaluate(test_data, y_test, verbose=0)\n",
        "print(f'Accuratezza sul test: {accuracy:.4f}')"
      ],
      "metadata": {
        "colab": {
          "base_uri": "https://localhost:8080/"
        },
        "id": "gMW8YIZbgY6u",
        "outputId": "db1dc402-4d90-4421-f050-1f45e561e115"
      },
      "execution_count": 111,
      "outputs": [
        {
          "output_type": "stream",
          "name": "stdout",
          "text": [
            "Accuratezza sul test: 0.9993\n"
          ]
        }
      ]
    }
  ]
}