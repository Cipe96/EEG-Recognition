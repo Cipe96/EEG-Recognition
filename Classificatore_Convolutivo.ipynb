{
  "nbformat": 4,
  "nbformat_minor": 0,
  "metadata": {
    "colab": {
      "provenance": [],
      "gpuType": "T4",
      "include_colab_link": true
    },
    "kernelspec": {
      "name": "python3",
      "display_name": "Python 3"
    },
    "language_info": {
      "name": "python"
    },
    "accelerator": "GPU"
  },
  "cells": [
    {
      "cell_type": "markdown",
      "metadata": {
        "id": "view-in-github",
        "colab_type": "text"
      },
      "source": [
        "<a href=\"https://colab.research.google.com/github/Cipe96/EEG-Recognition/blob/main/Classificatore_Convolutivo.ipynb\" target=\"_parent\"><img src=\"https://colab.research.google.com/assets/colab-badge.svg\" alt=\"Open In Colab\"/></a>"
      ]
    },
    {
      "cell_type": "markdown",
      "source": [
        "<font size=6>**EEG Recognition: Classificatore Convolutivo**</font>\n",
        "</br><font size=3>*Marco Cipollina, Riccardo Era*</font>\n"
      ],
      "metadata": {
        "id": "2e-lgBGFxbDu"
      }
    },
    {
      "cell_type": "markdown",
      "source": [
        "<p style=\"font-size:4px;\" align=\"justify\">Dopo aver svolto vari tipo di analisi sul nostro dataset e viste le varie possibilità di preprocessing attuabile in \"Analisi Dataset e Preprocessing\", in questo notebook, viene costruito e addestrato un modello Convolutivo (CCN) semplice. Questo classificatore sarà utilizzato come baseline per ricercare la migliore combinazione di preprocessing da sfruttare succesivamente in un modello più complesso.</p>\n",
        "<p style=\"font-size:4px;\" align=\"justify\">Qui sotto è perciò possibile caricare e lavorare su un determinato dataset e salvarne i risultati. I dati da noi ottenuti saranno confrontati ed esposti nel noteobok \"Risultati\".</p>"
      ],
      "metadata": {
        "id": "IsDiDI8VR-7Q"
      }
    },
    {
      "cell_type": "markdown",
      "source": [
        "<font size=4>**Indice:**</font>\n",
        "*   [Import librerie](#1)\n",
        "*   [Downloads](#2)\n",
        "*   [Classificatore](#3)"
      ],
      "metadata": {
        "id": "0M8yjfwYmIr-"
      }
    },
    {
      "cell_type": "markdown",
      "source": [
        "<a name=\"1\"></a>\n",
        "# **Import librerie**"
      ],
      "metadata": {
        "id": "GmCB5EJWMzU1"
      }
    },
    {
      "cell_type": "markdown",
      "source": [
        "Importiamo le librerie e montiamo Google Drive per garantire l'accesso agli altri file."
      ],
      "metadata": {
        "id": "k8v_8E4sEJzK"
      }
    },
    {
      "cell_type": "code",
      "source": [
        "from sklearn.utils import shuffle\n",
        "import matplotlib.pyplot as plt\n",
        "from google.colab import drive\n",
        "import tensorflow as tf\n",
        "import pandas as pd\n",
        "import numpy as np\n",
        "import sys\n",
        "import os\n",
        "\n",
        "SEED = 96 #Impostiamo un seme specifico per garantire la replicabilità degli esperimenti"
      ],
      "metadata": {
        "id": "MJBltQXPmXAD"
      },
      "execution_count": null,
      "outputs": []
    },
    {
      "cell_type": "code",
      "source": [
        "%%capture\n",
        "drive.mount('/content/drive', force_remount=True)\n",
        "# elimina la cartella sample_data creata automaticamente\n",
        "! rm -r /content/sample_data"
      ],
      "metadata": {
        "id": "ALBNMDMymhK7"
      },
      "execution_count": null,
      "outputs": []
    },
    {
      "cell_type": "markdown",
      "source": [
        "<a name=\"2\"></a>\n",
        "# **Download**"
      ],
      "metadata": {
        "id": "LyPbHzAnsaYg"
      }
    },
    {
      "cell_type": "code",
      "source": [
        "#@title Seleziona la banda che vuoi utilizzare:\n",
        "#@markdown (delta, theta, alpha, beta, gamma, broadband, personalizzata, ABG)\n",
        "\n",
        "banda = 'ABG' #@param ['delta', 'theta', 'alpha', 'beta', 'gamma', 'broadband', 'personalizzata', 'ABG']\n",
        "save_path = '/content/drive/MyDrive/EEG Recognition/Dati preprocessati/'+banda+'/'"
      ],
      "metadata": {
        "id": "Lez481oNm5Lm"
      },
      "execution_count": null,
      "outputs": []
    },
    {
      "cell_type": "code",
      "source": [
        "# Carica i dati e le etichette\n",
        "train_data = np.load(f\"{save_path}/train_data_{banda}.npy\")\n",
        "train_labels = np.load(f\"{save_path}/train_labels_{banda}.npy\")\n",
        "val_data = np.load(f\"{save_path}/val_data_{banda}.npy\")\n",
        "val_labels = np.load(f\"{save_path}/val_labels_{banda}.npy\")\n",
        "test_data = np.load(f\"{save_path}/test_data_{banda}.npy\")\n",
        "test_labels = np.load(f\"{save_path}/test_labels_{banda}.npy\")"
      ],
      "metadata": {
        "id": "JG5VzsHVwvnt"
      },
      "execution_count": null,
      "outputs": []
    },
    {
      "cell_type": "markdown",
      "source": [
        "Controlliamo che la shape sia coerente con quella che ci servirà per il modello di classificazione"
      ],
      "metadata": {
        "id": "RwGApKMqEXIv"
      }
    },
    {
      "cell_type": "code",
      "source": [
        "# Verifica le dimensioni dei dataset e delle etichette\n",
        "print(f\"Train set shape: {train_data.shape}, Train labels shape: {train_labels.shape}\")\n",
        "print(f\"Validation set shape: {val_data.shape}, Validation labels shape: {val_labels.shape}\")\n",
        "print(f\"Test set shape: {test_data.shape}, Test labels shape: {test_labels.shape}\")"
      ],
      "metadata": {
        "colab": {
          "base_uri": "https://localhost:8080/"
        },
        "id": "xzjd9fzDzTOV",
        "outputId": "87f9258c-9ccd-481a-a377-a1b3fecbc884"
      },
      "execution_count": null,
      "outputs": [
        {
          "output_type": "stream",
          "name": "stdout",
          "text": [
            "Train set shape: (3052, 240, 64), Train labels shape: (3052,)\n",
            "Validation set shape: (654, 240, 64), Validation labels shape: (654,)\n",
            "Test set shape: (654, 240, 64), Test labels shape: (654,)\n"
          ]
        }
      ]
    },
    {
      "cell_type": "markdown",
      "source": [
        "Effettuiamo uno shuffle del dataset per evitare di dare in pasto i dati al modello in maniera ordinata, permettendo così un addestramento meno condizionato."
      ],
      "metadata": {
        "id": "QEfnoMyDEjY1"
      }
    },
    {
      "cell_type": "code",
      "source": [
        "#shuffle dei dataset e ettichette con stesso ordine di shuffle\n",
        "train_data, train_labels = shuffle(train_data, train_labels, random_state=SEED)\n",
        "val_data, val_labels = shuffle(val_data, val_labels, random_state=SEED)\n",
        "test_data, test_labels = shuffle(test_data, test_labels, random_state=SEED)\n"
      ],
      "metadata": {
        "id": "yVyfhLl2hj-I"
      },
      "execution_count": null,
      "outputs": []
    },
    {
      "cell_type": "markdown",
      "source": [
        "<a name=\"3\"></a>\n",
        "# **Classificatore**"
      ],
      "metadata": {
        "id": "-IncMLiyL8MD"
      }
    },
    {
      "cell_type": "code",
      "source": [
        "#Riprendiamo il numero di classi esistenti\n",
        "num_classes = len(np.unique(train_labels))\n",
        "print(\"Numero di classi:\", num_classes)\n",
        "\n",
        "# Convertiamo le etichette in one-hot encoding\n",
        "y_train = tf.keras.utils.to_categorical(train_labels, num_classes=num_classes)\n",
        "y_val = tf.keras.utils.to_categorical(val_labels, num_classes=num_classes)\n",
        "y_test = tf.keras.utils.to_categorical(test_labels, num_classes=num_classes)\n"
      ],
      "metadata": {
        "colab": {
          "base_uri": "https://localhost:8080/"
        },
        "id": "jHSPHq2eW5YX",
        "outputId": "88688299-ce59-453c-fe48-558e6cab64ca"
      },
      "execution_count": null,
      "outputs": [
        {
          "output_type": "stream",
          "name": "stdout",
          "text": [
            "Numero di classi: 109\n"
          ]
        }
      ]
    },
    {
      "cell_type": "markdown",
      "source": [
        "Costruiamo il nostro modello convoluzionale utilizzando alcune delle best practices (SeparableConv, DropOut, BatchNormalization) e uno strato Dense per permetterci di classificare i nostri volontari."
      ],
      "metadata": {
        "id": "q7Jx8PacHMg1"
      }
    },
    {
      "cell_type": "code",
      "source": [
        "#Impostiamo i parametri per i blocchi convolutivi\n",
        "filtri = 16\n",
        "dropout = 0.6\n",
        "\n",
        "# Aggiungi un layer di input all'inizio per specificare la forma\n",
        "inputs = tf.keras.layers.Input(shape=(train_data.shape[1], train_data.shape[2]))\n",
        "\n",
        "# Utilizziamo strati convoluzionali per estrarre caratteristiche locali\n",
        "for i in range(3):\n",
        "  if i == 0:\n",
        "    x = tf.keras.layers.Conv1D(filters=filtri, kernel_size=3, padding='same', activation='relu')(inputs)\n",
        "  else:\n",
        "    x = tf.keras.layers.SeparableConv1D(filters=filtri, kernel_size=3, padding='same', activation='relu')(inputs)\n",
        "\n",
        "  x = tf.keras.layers.BatchNormalization()(x)\n",
        "  x = tf.keras.layers.Dropout(dropout)(x)\n",
        "\n",
        "  filtri *= 2\n",
        "  dropout /= 2\n",
        "\n",
        "#Appiattiamo tutto primo di consegnare al Dense\n",
        "x = tf.keras.layers.GlobalAveragePooling1D()(x)\n",
        "\n",
        "# Aggiungiamo uno strato Dense per la classificazione finale\n",
        "outputs = tf.keras.layers.Dense(num_classes, activation='softmax')(x)\n",
        "\n",
        "model = tf.keras.Model(inputs=inputs, outputs=outputs)\n",
        "\n",
        "# Compiliamo il modello\n",
        "model.compile(loss='categorical_crossentropy', optimizer='adam', metrics=['accuracy'])"
      ],
      "metadata": {
        "id": "3s_ueUSb_JDf"
      },
      "execution_count": null,
      "outputs": []
    },
    {
      "cell_type": "markdown",
      "source": [
        "Verifichiamo che il modello sia costruito come vogliamo."
      ],
      "metadata": {
        "id": "5BQ2RFxhKWcv"
      }
    },
    {
      "cell_type": "code",
      "source": [
        "model.summary()"
      ],
      "metadata": {
        "colab": {
          "base_uri": "https://localhost:8080/",
          "height": 391
        },
        "id": "Fr-mBF1xKU5g",
        "outputId": "d1e19eaa-929b-400d-9c77-009b30093268"
      },
      "execution_count": null,
      "outputs": [
        {
          "output_type": "display_data",
          "data": {
            "text/plain": [
              "\u001b[1mModel: \"functional_28\"\u001b[0m\n"
            ],
            "text/html": [
              "<pre style=\"white-space:pre;overflow-x:auto;line-height:normal;font-family:Menlo,'DejaVu Sans Mono',consolas,'Courier New',monospace\"><span style=\"font-weight: bold\">Model: \"functional_28\"</span>\n",
              "</pre>\n"
            ]
          },
          "metadata": {}
        },
        {
          "output_type": "display_data",
          "data": {
            "text/plain": [
              "┏━━━━━━━━━━━━━━━━━━━━━━━━━━━━━━━━━━━━━━┳━━━━━━━━━━━━━━━━━━━━━━━━━━━━━┳━━━━━━━━━━━━━━━━━┓\n",
              "┃\u001b[1m \u001b[0m\u001b[1mLayer (type)                        \u001b[0m\u001b[1m \u001b[0m┃\u001b[1m \u001b[0m\u001b[1mOutput Shape               \u001b[0m\u001b[1m \u001b[0m┃\u001b[1m \u001b[0m\u001b[1m        Param #\u001b[0m\u001b[1m \u001b[0m┃\n",
              "┡━━━━━━━━━━━━━━━━━━━━━━━━━━━━━━━━━━━━━━╇━━━━━━━━━━━━━━━━━━━━━━━━━━━━━╇━━━━━━━━━━━━━━━━━┩\n",
              "│ input_layer_28 (\u001b[38;5;33mInputLayer\u001b[0m)          │ (\u001b[38;5;45mNone\u001b[0m, \u001b[38;5;34m240\u001b[0m, \u001b[38;5;34m64\u001b[0m)             │               \u001b[38;5;34m0\u001b[0m │\n",
              "├──────────────────────────────────────┼─────────────────────────────┼─────────────────┤\n",
              "│ separable_conv1d_57                  │ (\u001b[38;5;45mNone\u001b[0m, \u001b[38;5;34m240\u001b[0m, \u001b[38;5;34m64\u001b[0m)             │           \u001b[38;5;34m4,352\u001b[0m │\n",
              "│ (\u001b[38;5;33mSeparableConv1D\u001b[0m)                    │                             │                 │\n",
              "├──────────────────────────────────────┼─────────────────────────────┼─────────────────┤\n",
              "│ batch_normalization_86               │ (\u001b[38;5;45mNone\u001b[0m, \u001b[38;5;34m240\u001b[0m, \u001b[38;5;34m64\u001b[0m)             │             \u001b[38;5;34m256\u001b[0m │\n",
              "│ (\u001b[38;5;33mBatchNormalization\u001b[0m)                 │                             │                 │\n",
              "├──────────────────────────────────────┼─────────────────────────────┼─────────────────┤\n",
              "│ dropout_86 (\u001b[38;5;33mDropout\u001b[0m)                 │ (\u001b[38;5;45mNone\u001b[0m, \u001b[38;5;34m240\u001b[0m, \u001b[38;5;34m64\u001b[0m)             │               \u001b[38;5;34m0\u001b[0m │\n",
              "├──────────────────────────────────────┼─────────────────────────────┼─────────────────┤\n",
              "│ global_average_pooling1d_28          │ (\u001b[38;5;45mNone\u001b[0m, \u001b[38;5;34m64\u001b[0m)                  │               \u001b[38;5;34m0\u001b[0m │\n",
              "│ (\u001b[38;5;33mGlobalAveragePooling1D\u001b[0m)             │                             │                 │\n",
              "├──────────────────────────────────────┼─────────────────────────────┼─────────────────┤\n",
              "│ dense_28 (\u001b[38;5;33mDense\u001b[0m)                     │ (\u001b[38;5;45mNone\u001b[0m, \u001b[38;5;34m109\u001b[0m)                 │           \u001b[38;5;34m7,085\u001b[0m │\n",
              "└──────────────────────────────────────┴─────────────────────────────┴─────────────────┘\n"
            ],
            "text/html": [
              "<pre style=\"white-space:pre;overflow-x:auto;line-height:normal;font-family:Menlo,'DejaVu Sans Mono',consolas,'Courier New',monospace\">┏━━━━━━━━━━━━━━━━━━━━━━━━━━━━━━━━━━━━━━┳━━━━━━━━━━━━━━━━━━━━━━━━━━━━━┳━━━━━━━━━━━━━━━━━┓\n",
              "┃<span style=\"font-weight: bold\"> Layer (type)                         </span>┃<span style=\"font-weight: bold\"> Output Shape                </span>┃<span style=\"font-weight: bold\">         Param # </span>┃\n",
              "┡━━━━━━━━━━━━━━━━━━━━━━━━━━━━━━━━━━━━━━╇━━━━━━━━━━━━━━━━━━━━━━━━━━━━━╇━━━━━━━━━━━━━━━━━┩\n",
              "│ input_layer_28 (<span style=\"color: #0087ff; text-decoration-color: #0087ff\">InputLayer</span>)          │ (<span style=\"color: #00d7ff; text-decoration-color: #00d7ff\">None</span>, <span style=\"color: #00af00; text-decoration-color: #00af00\">240</span>, <span style=\"color: #00af00; text-decoration-color: #00af00\">64</span>)             │               <span style=\"color: #00af00; text-decoration-color: #00af00\">0</span> │\n",
              "├──────────────────────────────────────┼─────────────────────────────┼─────────────────┤\n",
              "│ separable_conv1d_57                  │ (<span style=\"color: #00d7ff; text-decoration-color: #00d7ff\">None</span>, <span style=\"color: #00af00; text-decoration-color: #00af00\">240</span>, <span style=\"color: #00af00; text-decoration-color: #00af00\">64</span>)             │           <span style=\"color: #00af00; text-decoration-color: #00af00\">4,352</span> │\n",
              "│ (<span style=\"color: #0087ff; text-decoration-color: #0087ff\">SeparableConv1D</span>)                    │                             │                 │\n",
              "├──────────────────────────────────────┼─────────────────────────────┼─────────────────┤\n",
              "│ batch_normalization_86               │ (<span style=\"color: #00d7ff; text-decoration-color: #00d7ff\">None</span>, <span style=\"color: #00af00; text-decoration-color: #00af00\">240</span>, <span style=\"color: #00af00; text-decoration-color: #00af00\">64</span>)             │             <span style=\"color: #00af00; text-decoration-color: #00af00\">256</span> │\n",
              "│ (<span style=\"color: #0087ff; text-decoration-color: #0087ff\">BatchNormalization</span>)                 │                             │                 │\n",
              "├──────────────────────────────────────┼─────────────────────────────┼─────────────────┤\n",
              "│ dropout_86 (<span style=\"color: #0087ff; text-decoration-color: #0087ff\">Dropout</span>)                 │ (<span style=\"color: #00d7ff; text-decoration-color: #00d7ff\">None</span>, <span style=\"color: #00af00; text-decoration-color: #00af00\">240</span>, <span style=\"color: #00af00; text-decoration-color: #00af00\">64</span>)             │               <span style=\"color: #00af00; text-decoration-color: #00af00\">0</span> │\n",
              "├──────────────────────────────────────┼─────────────────────────────┼─────────────────┤\n",
              "│ global_average_pooling1d_28          │ (<span style=\"color: #00d7ff; text-decoration-color: #00d7ff\">None</span>, <span style=\"color: #00af00; text-decoration-color: #00af00\">64</span>)                  │               <span style=\"color: #00af00; text-decoration-color: #00af00\">0</span> │\n",
              "│ (<span style=\"color: #0087ff; text-decoration-color: #0087ff\">GlobalAveragePooling1D</span>)             │                             │                 │\n",
              "├──────────────────────────────────────┼─────────────────────────────┼─────────────────┤\n",
              "│ dense_28 (<span style=\"color: #0087ff; text-decoration-color: #0087ff\">Dense</span>)                     │ (<span style=\"color: #00d7ff; text-decoration-color: #00d7ff\">None</span>, <span style=\"color: #00af00; text-decoration-color: #00af00\">109</span>)                 │           <span style=\"color: #00af00; text-decoration-color: #00af00\">7,085</span> │\n",
              "└──────────────────────────────────────┴─────────────────────────────┴─────────────────┘\n",
              "</pre>\n"
            ]
          },
          "metadata": {}
        },
        {
          "output_type": "display_data",
          "data": {
            "text/plain": [
              "\u001b[1m Total params: \u001b[0m\u001b[38;5;34m11,693\u001b[0m (45.68 KB)\n"
            ],
            "text/html": [
              "<pre style=\"white-space:pre;overflow-x:auto;line-height:normal;font-family:Menlo,'DejaVu Sans Mono',consolas,'Courier New',monospace\"><span style=\"font-weight: bold\"> Total params: </span><span style=\"color: #00af00; text-decoration-color: #00af00\">11,693</span> (45.68 KB)\n",
              "</pre>\n"
            ]
          },
          "metadata": {}
        },
        {
          "output_type": "display_data",
          "data": {
            "text/plain": [
              "\u001b[1m Trainable params: \u001b[0m\u001b[38;5;34m11,565\u001b[0m (45.18 KB)\n"
            ],
            "text/html": [
              "<pre style=\"white-space:pre;overflow-x:auto;line-height:normal;font-family:Menlo,'DejaVu Sans Mono',consolas,'Courier New',monospace\"><span style=\"font-weight: bold\"> Trainable params: </span><span style=\"color: #00af00; text-decoration-color: #00af00\">11,565</span> (45.18 KB)\n",
              "</pre>\n"
            ]
          },
          "metadata": {}
        },
        {
          "output_type": "display_data",
          "data": {
            "text/plain": [
              "\u001b[1m Non-trainable params: \u001b[0m\u001b[38;5;34m128\u001b[0m (512.00 B)\n"
            ],
            "text/html": [
              "<pre style=\"white-space:pre;overflow-x:auto;line-height:normal;font-family:Menlo,'DejaVu Sans Mono',consolas,'Courier New',monospace\"><span style=\"font-weight: bold\"> Non-trainable params: </span><span style=\"color: #00af00; text-decoration-color: #00af00\">128</span> (512.00 B)\n",
              "</pre>\n"
            ]
          },
          "metadata": {}
        }
      ]
    },
    {
      "cell_type": "markdown",
      "source": [
        "Creiamo una callback per salvare i pesi con i quali si otterranno i risultati migliori sul validation set e avviamo il training."
      ],
      "metadata": {
        "id": "8kyYkPxsLQaD"
      }
    },
    {
      "source": [
        "#Salviamo i pesi dell'epoca in cui abbiamo ottenuto il val_loss minore\n",
        "callback = [\n",
        "    tf.keras.callbacks.ModelCheckpoint(filepath=\"Convolutivo.keras\", save_best_only=True, monitor=\"val_loss\"),\n",
        "]\n",
        "\n",
        "# Addestriamo il modello\n",
        "history = model.fit(train_data, y_train, epochs=50, batch_size=32, validation_data=(val_data, y_val), callbacks=callback)\n"
      ],
      "cell_type": "code",
      "metadata": {
        "id": "7cA4WBZ8AEMb",
        "colab": {
          "base_uri": "https://localhost:8080/"
        },
        "outputId": "06b715cb-3914-4f12-e05a-baa086c1b897"
      },
      "execution_count": null,
      "outputs": [
        {
          "output_type": "stream",
          "name": "stdout",
          "text": [
            "Epoch 1/50\n",
            "\u001b[1m96/96\u001b[0m \u001b[32m━━━━━━━━━━━━━━━━━━━━\u001b[0m\u001b[37m\u001b[0m \u001b[1m8s\u001b[0m 51ms/step - accuracy: 0.0395 - loss: 4.5907 - val_accuracy: 0.0856 - val_loss: 4.6048\n",
            "Epoch 2/50\n",
            "\u001b[1m96/96\u001b[0m \u001b[32m━━━━━━━━━━━━━━━━━━━━\u001b[0m\u001b[37m\u001b[0m \u001b[1m1s\u001b[0m 5ms/step - accuracy: 0.1588 - loss: 4.1363 - val_accuracy: 0.2477 - val_loss: 4.3915\n",
            "Epoch 3/50\n",
            "\u001b[1m96/96\u001b[0m \u001b[32m━━━━━━━━━━━━━━━━━━━━\u001b[0m\u001b[37m\u001b[0m \u001b[1m0s\u001b[0m 5ms/step - accuracy: 0.2792 - loss: 3.7599 - val_accuracy: 0.3654 - val_loss: 3.9901\n",
            "Epoch 4/50\n",
            "\u001b[1m96/96\u001b[0m \u001b[32m━━━━━━━━━━━━━━━━━━━━\u001b[0m\u001b[37m\u001b[0m \u001b[1m0s\u001b[0m 5ms/step - accuracy: 0.3696 - loss: 3.3871 - val_accuracy: 0.4862 - val_loss: 3.4436\n",
            "Epoch 5/50\n"
          ]
        }
      ]
    },
    {
      "cell_type": "markdown",
      "source": [
        "Per ricaricare i pesi che hanno performato meglio durante l'addestramento:"
      ],
      "metadata": {
        "id": "p766G32PK-1b"
      }
    },
    {
      "cell_type": "code",
      "source": [
        "model = tf.keras.models.load_model(\"Convolutivo.keras\")"
      ],
      "metadata": {
        "id": "pvZvM0tWLBO1"
      },
      "execution_count": null,
      "outputs": []
    },
    {
      "cell_type": "markdown",
      "source": [
        "Valutiamo infine le prestazioni del modello sul test set."
      ],
      "metadata": {
        "id": "v93XQCpGLI1e"
      }
    },
    {
      "cell_type": "code",
      "source": [
        "loss, accuracy = model.evaluate(test_data, y_test, verbose=0)\n",
        "print(f'Accuratezza sul test: {accuracy:.4f}')"
      ],
      "metadata": {
        "colab": {
          "base_uri": "https://localhost:8080/"
        },
        "id": "gMW8YIZbgY6u",
        "outputId": "e49d1f15-6daf-49d9-ecae-de28c203d007"
      },
      "execution_count": null,
      "outputs": [
        {
          "output_type": "stream",
          "name": "stdout",
          "text": [
            "Accuratezza sul test: 0.9893\n"
          ]
        }
      ]
    }
  ]
}